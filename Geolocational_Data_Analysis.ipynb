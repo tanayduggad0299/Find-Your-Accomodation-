{
  "nbformat": 4,
  "nbformat_minor": 0,
  "metadata": {
    "colab": {
      "name": "Geolocational Data Analysis.ipynb",
      "provenance": [],
      "collapsed_sections": [],
      "authorship_tag": "ABX9TyNn+azdD5GipIg6Ah+XxwdV",
      "include_colab_link": true
    },
    "kernelspec": {
      "name": "python3",
      "display_name": "Python 3"
    },
    "language_info": {
      "name": "python"
    }
  },
  "cells": [
    {
      "cell_type": "markdown",
      "metadata": {
        "id": "view-in-github",
        "colab_type": "text"
      },
      "source": [
        "<a href=\"https://colab.research.google.com/github/tanayduggad0299/Geolyis/blob/main/Geolocational_Data_Analysis.ipynb\" target=\"_parent\"><img src=\"https://colab.research.google.com/assets/colab-badge.svg\" alt=\"Open In Colab\"/></a>"
      ]
    },
    {
      "cell_type": "code",
      "metadata": {
        "colab": {
          "base_uri": "https://localhost:8080/"
        },
        "id": "BXMtL6783rDm",
        "outputId": "6ee9aed7-e73c-4288-a4c7-6ab0fba3629e"
      },
      "source": [
        "import requests # library to handle requests\n",
        "import pandas as pd # library for data analsysis\n",
        "import numpy as np # library to handle data in a vectorized manner\n",
        "import random # library for random number generation\n",
        "!pip install geopandas\n",
        "import geopandas as gpd\n",
        "import matplotlib.cm as cm\n",
        "import folium\n",
        "from sklearn.cluster import KMeans\n",
        "import matplotlib.pyplot as plt\n",
        "import seaborn as sns\n",
        "from IPython.display import Image \n",
        "from IPython.core.display import HTML \n",
        "# tranforming json file into a pandas dataframe library\n",
        "from pandas.io.json import json_normalize\n",
        "print(\"All packages imported!\")"
      ],
      "execution_count": null,
      "outputs": [
        {
          "output_type": "stream",
          "text": [
            "Collecting geopandas\n",
            "\u001b[?25l  Downloading https://files.pythonhosted.org/packages/d7/bf/e9cefb69d39155d122b6ddca53893b61535fa6ffdad70bf5ef708977f53f/geopandas-0.9.0-py2.py3-none-any.whl (994kB)\n",
            "\u001b[K     |████████████████████████████████| 1.0MB 7.8MB/s \n",
            "\u001b[?25hRequirement already satisfied: shapely>=1.6 in /usr/local/lib/python3.7/dist-packages (from geopandas) (1.7.1)\n",
            "Requirement already satisfied: pandas>=0.24.0 in /usr/local/lib/python3.7/dist-packages (from geopandas) (1.1.5)\n",
            "Collecting pyproj>=2.2.0\n",
            "\u001b[?25l  Downloading https://files.pythonhosted.org/packages/11/1d/1c54c672c2faf08d28fe78e15d664c048f786225bef95ad87b6c435cf69e/pyproj-3.1.0-cp37-cp37m-manylinux2010_x86_64.whl (6.6MB)\n",
            "\u001b[K     |████████████████████████████████| 6.6MB 13.8MB/s \n",
            "\u001b[?25hCollecting fiona>=1.8\n",
            "\u001b[?25l  Downloading https://files.pythonhosted.org/packages/9c/fc/9807326c37a6bfb2393ae3e1cca147aa74844562c4d5daa782d6e97ad2bc/Fiona-1.8.20-cp37-cp37m-manylinux1_x86_64.whl (15.4MB)\n",
            "\u001b[K     |████████████████████████████████| 15.4MB 192kB/s \n",
            "\u001b[?25hRequirement already satisfied: python-dateutil>=2.7.3 in /usr/local/lib/python3.7/dist-packages (from pandas>=0.24.0->geopandas) (2.8.1)\n",
            "Requirement already satisfied: pytz>=2017.2 in /usr/local/lib/python3.7/dist-packages (from pandas>=0.24.0->geopandas) (2018.9)\n",
            "Requirement already satisfied: numpy>=1.15.4 in /usr/local/lib/python3.7/dist-packages (from pandas>=0.24.0->geopandas) (1.19.5)\n",
            "Requirement already satisfied: certifi in /usr/local/lib/python3.7/dist-packages (from pyproj>=2.2.0->geopandas) (2021.5.30)\n",
            "Collecting click-plugins>=1.0\n",
            "  Downloading https://files.pythonhosted.org/packages/e9/da/824b92d9942f4e472702488857914bdd50f73021efea15b4cad9aca8ecef/click_plugins-1.1.1-py2.py3-none-any.whl\n",
            "Collecting munch\n",
            "  Downloading https://files.pythonhosted.org/packages/cc/ab/85d8da5c9a45e072301beb37ad7f833cd344e04c817d97e0cc75681d248f/munch-2.5.0-py2.py3-none-any.whl\n",
            "Collecting cligj>=0.5\n",
            "  Downloading https://files.pythonhosted.org/packages/73/86/43fa9f15c5b9fb6e82620428827cd3c284aa933431405d1bcf5231ae3d3e/cligj-0.7.2-py3-none-any.whl\n",
            "Requirement already satisfied: click>=4.0 in /usr/local/lib/python3.7/dist-packages (from fiona>=1.8->geopandas) (7.1.2)\n",
            "Requirement already satisfied: six>=1.7 in /usr/local/lib/python3.7/dist-packages (from fiona>=1.8->geopandas) (1.15.0)\n",
            "Requirement already satisfied: setuptools in /usr/local/lib/python3.7/dist-packages (from fiona>=1.8->geopandas) (57.0.0)\n",
            "Requirement already satisfied: attrs>=17 in /usr/local/lib/python3.7/dist-packages (from fiona>=1.8->geopandas) (21.2.0)\n",
            "Installing collected packages: pyproj, click-plugins, munch, cligj, fiona, geopandas\n",
            "Successfully installed click-plugins-1.1.1 cligj-0.7.2 fiona-1.8.20 geopandas-0.9.0 munch-2.5.0 pyproj-3.1.0\n",
            "All packages imported!\n"
          ],
          "name": "stdout"
        }
      ]
    },
    {
      "cell_type": "markdown",
      "metadata": {
        "id": "HR5esfAe5YLL"
      },
      "source": [
        "**Importing Dataset from Kaggle**"
      ]
    },
    {
      "cell_type": "code",
      "metadata": {
        "colab": {
          "base_uri": "https://localhost:8080/"
        },
        "id": "nJdWfBMw37I1",
        "outputId": "42c0f326-3de9-4273-fbdb-ea7dedd19b95"
      },
      "source": [
        "!pip install kaggle"
      ],
      "execution_count": null,
      "outputs": [
        {
          "output_type": "stream",
          "text": [
            "Requirement already satisfied: kaggle in /usr/local/lib/python3.7/dist-packages (1.5.12)\n",
            "Requirement already satisfied: python-dateutil in /usr/local/lib/python3.7/dist-packages (from kaggle) (2.8.1)\n",
            "Requirement already satisfied: python-slugify in /usr/local/lib/python3.7/dist-packages (from kaggle) (5.0.2)\n",
            "Requirement already satisfied: six>=1.10 in /usr/local/lib/python3.7/dist-packages (from kaggle) (1.15.0)\n",
            "Requirement already satisfied: requests in /usr/local/lib/python3.7/dist-packages (from kaggle) (2.23.0)\n",
            "Requirement already satisfied: certifi in /usr/local/lib/python3.7/dist-packages (from kaggle) (2021.5.30)\n",
            "Requirement already satisfied: tqdm in /usr/local/lib/python3.7/dist-packages (from kaggle) (4.41.1)\n",
            "Requirement already satisfied: urllib3 in /usr/local/lib/python3.7/dist-packages (from kaggle) (1.24.3)\n",
            "Requirement already satisfied: text-unidecode>=1.3 in /usr/local/lib/python3.7/dist-packages (from python-slugify->kaggle) (1.3)\n",
            "Requirement already satisfied: idna<3,>=2.5 in /usr/local/lib/python3.7/dist-packages (from requests->kaggle) (2.10)\n",
            "Requirement already satisfied: chardet<4,>=3.0.2 in /usr/local/lib/python3.7/dist-packages (from requests->kaggle) (3.0.4)\n"
          ],
          "name": "stdout"
        }
      ]
    },
    {
      "cell_type": "code",
      "metadata": {
        "colab": {
          "base_uri": "https://localhost:8080/"
        },
        "id": "mvywGvfW5k89",
        "outputId": "b0a20881-c6ff-42e0-b3ec-0bf661955268"
      },
      "source": [
        "from google.colab import drive \n",
        "drive.mount('/content/gdrive')"
      ],
      "execution_count": null,
      "outputs": [
        {
          "output_type": "stream",
          "text": [
            "Mounted at /content/gdrive\n"
          ],
          "name": "stdout"
        }
      ]
    },
    {
      "cell_type": "code",
      "metadata": {
        "id": "c4M3NRGK8kWS"
      },
      "source": [
        "import os\n",
        "os.environ['KAGGLE_CONFIG_DIR']='/content/gdrive/MyDrive/Kaggle_Datsets'"
      ],
      "execution_count": null,
      "outputs": []
    },
    {
      "cell_type": "code",
      "metadata": {
        "colab": {
          "base_uri": "https://localhost:8080/"
        },
        "id": "Z7ybZxoK9kkL",
        "outputId": "dec8e48b-8b8e-4607-d05f-fca8fabeb96f"
      },
      "source": [
        "%cd /content/gdrive/MyDrive/Kaggle_Datsets"
      ],
      "execution_count": null,
      "outputs": [
        {
          "output_type": "stream",
          "text": [
            "/content/gdrive/MyDrive/Kaggle_Datsets\n"
          ],
          "name": "stdout"
        }
      ]
    },
    {
      "cell_type": "code",
      "metadata": {
        "colab": {
          "base_uri": "https://localhost:8080/"
        },
        "id": "KJiwAxJw9nIL",
        "outputId": "69bccfef-9eee-4e9f-ba81-c3afaf7e5c90"
      },
      "source": [
        "!ls\n"
      ],
      "execution_count": null,
      "outputs": [
        {
          "output_type": "stream",
          "text": [
            "food-choices  kaggle.json\n"
          ],
          "name": "stdout"
        }
      ]
    },
    {
      "cell_type": "code",
      "metadata": {
        "colab": {
          "base_uri": "https://localhost:8080/"
        },
        "id": "wSIC-Dtm9rdY",
        "outputId": "826c9390-9679-4acf-d656-d6b44e782088"
      },
      "source": [
        "!kaggle datasets download -d borapajo/food-choices"
      ],
      "execution_count": null,
      "outputs": [
        {
          "output_type": "stream",
          "text": [
            "Downloading food-choices.zip to /content/gdrive/MyDrive/Kaggle_Datsets\n",
            "\r  0% 0.00/5.25M [00:00<?, ?B/s]\r 95% 5.00M/5.25M [00:00<00:00, 36.6MB/s]\n",
            "\r100% 5.25M/5.25M [00:00<00:00, 33.7MB/s]\n"
          ],
          "name": "stdout"
        }
      ]
    },
    {
      "cell_type": "code",
      "metadata": {
        "id": "4SfR-Jv798Ae",
        "colab": {
          "base_uri": "https://localhost:8080/"
        },
        "outputId": "e0a58bcb-bbdf-40e1-9e92-3cbf48977584"
      },
      "source": [
        "!mkdir food-choices\n",
        "!mv food-choices.zip food-choices"
      ],
      "execution_count": null,
      "outputs": [
        {
          "output_type": "stream",
          "text": [
            "mkdir: cannot create directory ‘food-choices’: File exists\n"
          ],
          "name": "stdout"
        }
      ]
    },
    {
      "cell_type": "code",
      "metadata": {
        "colab": {
          "base_uri": "https://localhost:8080/"
        },
        "id": "iOAMbzYT-8WQ",
        "outputId": "134f59b6-db83-4c7f-967e-563781217af4"
      },
      "source": [
        "%cd food-choices/"
      ],
      "execution_count": null,
      "outputs": [
        {
          "output_type": "stream",
          "text": [
            "/content/gdrive/MyDrive/Kaggle_Datsets/food-choices\n"
          ],
          "name": "stdout"
        }
      ]
    },
    {
      "cell_type": "code",
      "metadata": {
        "colab": {
          "base_uri": "https://localhost:8080/"
        },
        "id": "rqCxtsiR_KuT",
        "outputId": "bf21882d-e16b-4e9f-b6b8-68f7175ca521"
      },
      "source": [
        "!unzip food-choices.zip"
      ],
      "execution_count": null,
      "outputs": [
        {
          "output_type": "stream",
          "text": [
            "Archive:  food-choices.zip\n",
            "replace codebook_food.docx? [y]es, [n]o, [A]ll, [N]one, [r]ename: "
          ],
          "name": "stdout"
        }
      ]
    },
    {
      "cell_type": "code",
      "metadata": {
        "id": "TmC1nNTm_PcB"
      },
      "source": [
        "df=pd.read_csv('/content/gdrive/MyDrive/Kaggle_Datsets/food-choices/food_coded.csv')"
      ],
      "execution_count": null,
      "outputs": []
    },
    {
      "cell_type": "code",
      "metadata": {
        "colab": {
          "base_uri": "https://localhost:8080/",
          "height": 287
        },
        "id": "4YXbuCAR_nzh",
        "outputId": "36400657-00f5-4c3c-8ddb-cfacbeb211c0"
      },
      "source": [
        "dfclean=df[['cook','eating_out','employment','ethnic_food','exercise','fruit_day','income','on_off_campus','pay_meal_out','sports','veggies_day']]\n",
        "dfclean.dropna(axis=0,inplace=True)\n",
        "dfclean.head()"
      ],
      "execution_count": null,
      "outputs": [
        {
          "output_type": "stream",
          "text": [
            "/usr/local/lib/python3.7/dist-packages/ipykernel_launcher.py:2: SettingWithCopyWarning: \n",
            "A value is trying to be set on a copy of a slice from a DataFrame\n",
            "\n",
            "See the caveats in the documentation: https://pandas.pydata.org/pandas-docs/stable/user_guide/indexing.html#returning-a-view-versus-a-copy\n",
            "  \n"
          ],
          "name": "stderr"
        },
        {
          "output_type": "execute_result",
          "data": {
            "text/html": [
              "<div>\n",
              "<style scoped>\n",
              "    .dataframe tbody tr th:only-of-type {\n",
              "        vertical-align: middle;\n",
              "    }\n",
              "\n",
              "    .dataframe tbody tr th {\n",
              "        vertical-align: top;\n",
              "    }\n",
              "\n",
              "    .dataframe thead th {\n",
              "        text-align: right;\n",
              "    }\n",
              "</style>\n",
              "<table border=\"1\" class=\"dataframe\">\n",
              "  <thead>\n",
              "    <tr style=\"text-align: right;\">\n",
              "      <th></th>\n",
              "      <th>cook</th>\n",
              "      <th>eating_out</th>\n",
              "      <th>employment</th>\n",
              "      <th>ethnic_food</th>\n",
              "      <th>exercise</th>\n",
              "      <th>fruit_day</th>\n",
              "      <th>income</th>\n",
              "      <th>on_off_campus</th>\n",
              "      <th>pay_meal_out</th>\n",
              "      <th>sports</th>\n",
              "      <th>veggies_day</th>\n",
              "    </tr>\n",
              "  </thead>\n",
              "  <tbody>\n",
              "    <tr>\n",
              "      <th>0</th>\n",
              "      <td>2.0</td>\n",
              "      <td>3</td>\n",
              "      <td>3.0</td>\n",
              "      <td>1</td>\n",
              "      <td>1.0</td>\n",
              "      <td>5</td>\n",
              "      <td>5.0</td>\n",
              "      <td>1.0</td>\n",
              "      <td>2</td>\n",
              "      <td>1.0</td>\n",
              "      <td>5</td>\n",
              "    </tr>\n",
              "    <tr>\n",
              "      <th>1</th>\n",
              "      <td>3.0</td>\n",
              "      <td>2</td>\n",
              "      <td>2.0</td>\n",
              "      <td>4</td>\n",
              "      <td>1.0</td>\n",
              "      <td>4</td>\n",
              "      <td>4.0</td>\n",
              "      <td>1.0</td>\n",
              "      <td>4</td>\n",
              "      <td>1.0</td>\n",
              "      <td>4</td>\n",
              "    </tr>\n",
              "    <tr>\n",
              "      <th>2</th>\n",
              "      <td>1.0</td>\n",
              "      <td>2</td>\n",
              "      <td>3.0</td>\n",
              "      <td>5</td>\n",
              "      <td>2.0</td>\n",
              "      <td>5</td>\n",
              "      <td>6.0</td>\n",
              "      <td>2.0</td>\n",
              "      <td>3</td>\n",
              "      <td>2.0</td>\n",
              "      <td>5</td>\n",
              "    </tr>\n",
              "    <tr>\n",
              "      <th>3</th>\n",
              "      <td>2.0</td>\n",
              "      <td>2</td>\n",
              "      <td>3.0</td>\n",
              "      <td>5</td>\n",
              "      <td>3.0</td>\n",
              "      <td>4</td>\n",
              "      <td>6.0</td>\n",
              "      <td>1.0</td>\n",
              "      <td>2</td>\n",
              "      <td>2.0</td>\n",
              "      <td>3</td>\n",
              "    </tr>\n",
              "    <tr>\n",
              "      <th>4</th>\n",
              "      <td>1.0</td>\n",
              "      <td>2</td>\n",
              "      <td>2.0</td>\n",
              "      <td>4</td>\n",
              "      <td>1.0</td>\n",
              "      <td>4</td>\n",
              "      <td>6.0</td>\n",
              "      <td>1.0</td>\n",
              "      <td>4</td>\n",
              "      <td>1.0</td>\n",
              "      <td>4</td>\n",
              "    </tr>\n",
              "  </tbody>\n",
              "</table>\n",
              "</div>"
            ],
            "text/plain": [
              "   cook  eating_out  employment  ...  pay_meal_out  sports  veggies_day\n",
              "0   2.0           3         3.0  ...             2     1.0            5\n",
              "1   3.0           2         2.0  ...             4     1.0            4\n",
              "2   1.0           2         3.0  ...             3     2.0            5\n",
              "3   2.0           2         3.0  ...             2     2.0            3\n",
              "4   1.0           2         2.0  ...             4     1.0            4\n",
              "\n",
              "[5 rows x 11 columns]"
            ]
          },
          "metadata": {
            "tags": []
          },
          "execution_count": 11
        }
      ]
    },
    {
      "cell_type": "code",
      "metadata": {
        "colab": {
          "base_uri": "https://localhost:8080/",
          "height": 702
        },
        "id": "KRUUk89TBEl6",
        "outputId": "a6a85156-8562-4c51-98f0-919bb2a4177e"
      },
      "source": [
        "plt.figure(figsize=(20,10))\n",
        "sns.boxplot()\n",
        "ax=sns.boxplot(data=dfclean)\n",
        "ax.tick_params(labelsize=20)\n",
        "plt.xticks(rotation=45, ha='right')\n",
        "plt.show()"
      ],
      "execution_count": null,
      "outputs": [
        {
          "output_type": "display_data",
          "data": {
            "image/png": "[encoded data removed]",
            "text/plain": [
              "<Figure size 1440x720 with 1 Axes>"
            ]
          },
          "metadata": {
            "tags": [],
            "needs_background": "light"
          }
        }
      ]
    },
    {
      "cell_type": "code",
      "metadata": {
        "id": "VAJCFAG5CE0k"
      },
      "source": [
        "x = dfclean.iloc[:, [0,1,2,3,4,5,6,7,8,9,10]].values"
      ],
      "execution_count": null,
      "outputs": []
    },
    {
      "cell_type": "code",
      "metadata": {
        "colab": {
          "base_uri": "https://localhost:8080/"
        },
        "id": "XXMwfhKuW8_P",
        "outputId": "e98d5a9a-ce36-4c98-e087-7c4428f294b3"
      },
      "source": [
        "kmeans5 = KMeans(n_clusters=5)\n",
        "y_kmeans5 = kmeans5.fit_predict(x)\n",
        "print(y_kmeans5)\n",
        "\n",
        "\n"
      ],
      "execution_count": null,
      "outputs": [
        {
          "output_type": "stream",
          "text": [
            "[3 4 2 1 2 1 4 0 2 4 0 0 2 2 3 4 0 3 3 1 0 4 0 1 0 1 2 2 4 1 0 4 2 1 1 3 0\n",
            " 4 2 4 0 4 2 2 3 2 3 2 2 1 3 2 4 1 2 0 1 4 2 4 3 4 2 1 1 0 0 1 1 2 0 0 0 4\n",
            " 0 1 3 4 0 1 0 2 4 4 4 4 0 1 3 1 2 1 1 0 4 4 4 4 4 3]\n"
          ],
          "name": "stdout"
        }
      ]
    },
    {
      "cell_type": "code",
      "metadata": {
        "colab": {
          "base_uri": "https://localhost:8080/"
        },
        "id": "FVJeZBCwZeWu",
        "outputId": "9bd6ca1e-8838-426f-c9fc-c4464fdd74c6"
      },
      "source": [
        "kmeans5.cluster_centers_"
      ],
      "execution_count": null,
      "outputs": [
        {
          "output_type": "execute_result",
          "data": {
            "text/plain": [
              "array([[3.57142857, 1.80952381, 2.61904762, 3.28571429, 1.28571429,\n",
              "        4.57142857, 5.66666667, 1.        , 3.76190476, 1.0952381 ,\n",
              "        4.04761905],\n",
              "       [2.42857143, 2.23809524, 2.38095238, 3.14285714, 2.04761905,\n",
              "        3.23809524, 4.71428571, 1.33333333, 3.61904762, 1.61904762,\n",
              "        2.57142857],\n",
              "       [2.28571429, 3.0952381 , 2.57142857, 4.80952381, 1.38095238,\n",
              "        4.85714286, 5.38095238, 1.52380952, 3.85714286, 1.19047619,\n",
              "        4.66666667],\n",
              "       [3.        , 4.16666667, 2.5       , 2.16666667, 1.41666667,\n",
              "        3.66666667, 4.66666667, 1.33333333, 2.75      , 1.16666667,\n",
              "        3.58333333],\n",
              "       [2.64      , 2.08      , 2.24      , 4.2       , 1.76      ,\n",
              "        4.6       , 3.16      , 1.56      , 3.        , 1.56      ,\n",
              "        4.72      ]])"
            ]
          },
          "metadata": {
            "tags": []
          },
          "execution_count": 18
        }
      ]
    },
    {
      "cell_type": "code",
      "metadata": {
        "colab": {
          "base_uri": "https://localhost:8080/",
          "height": 295
        },
        "id": "PkBwdcxQZfvE",
        "outputId": "39c78201-5b48-470f-9f8d-750445fa121a"
      },
      "source": [
        "Error =[]\n",
        "for i in range(1,11):\n",
        "    kmeans = KMeans(n_clusters = i).fit(x)\n",
        "    kmeans.fit(x)\n",
        "    Error.append(kmeans.inertia_)\n",
        "import matplotlib.pyplot as plt\n",
        "plt.plot(range(1,11), Error)\n",
        "plt.title('Elbow method')\n",
        "plt.xlabel('No of clusters')\n",
        "plt.ylabel('Error')\n",
        "plt.show()"
      ],
      "execution_count": null,
      "outputs": [
        {
          "output_type": "display_data",
          "data": {
            "image/png": "[encoded data removed]",
            "text/plain": [
              "<Figure size 432x288 with 1 Axes>"
            ]
          },
          "metadata": {
            "tags": [],
            "needs_background": "light"
          }
        }
      ]
    },
    {
      "cell_type": "code",
      "metadata": {
        "colab": {
          "base_uri": "https://localhost:8080/"
        },
        "id": "-0iib0sHaDjg",
        "outputId": "57017582-8658-4d31-9f28-68a3b7686dea"
      },
      "source": [
        "kmeans3 = KMeans(n_clusters=3)\n",
        "y_kmeans3 = kmeans3.fit_predict(x)\n",
        "print(y_kmeans3)"
      ],
      "execution_count": null,
      "outputs": [
        {
          "output_type": "stream",
          "text": [
            "[1 0 2 2 2 0 0 1 2 0 2 2 2 2 1 0 2 1 1 1 2 0 1 1 2 1 2 2 0 0 1 0 2 2 2 1 2\n",
            " 0 2 0 2 0 2 2 0 2 1 2 2 0 1 2 0 1 2 2 1 0 2 2 1 0 2 1 1 2 2 1 1 2 2 2 2 0\n",
            " 2 1 1 0 2 1 2 2 0 2 0 0 2 1 1 1 2 1 0 1 0 0 0 0 0 1]\n"
          ],
          "name": "stdout"
        }
      ]
    },
    {
      "cell_type": "code",
      "metadata": {
        "colab": {
          "base_uri": "https://localhost:8080/"
        },
        "id": "aVlxnf-eaOKe",
        "outputId": "f15d64e0-8479-43d3-b02d-6ad0fbccdeb5"
      },
      "source": [
        "kmeans3.cluster_centers_"
      ],
      "execution_count": null,
      "outputs": [
        {
          "output_type": "execute_result",
          "data": {
            "text/plain": [
              "array([[2.67857143, 2.21428571, 2.35714286, 4.10714286, 1.75      ,\n",
              "        4.32142857, 2.96428571, 1.57142857, 3.14285714, 1.53571429,\n",
              "        4.35714286],\n",
              "       [2.72413793, 3.        , 2.34482759, 2.34482759, 1.62068966,\n",
              "        3.5862069 , 5.06896552, 1.31034483, 3.44827586, 1.4137931 ,\n",
              "        2.96551724],\n",
              "       [2.8372093 , 2.39534884, 2.58139535, 4.27906977, 1.48837209,\n",
              "        4.65116279, 5.48837209, 1.25581395, 3.62790698, 1.18604651,\n",
              "        4.41860465]])"
            ]
          },
          "metadata": {
            "tags": []
          },
          "execution_count": 21
        }
      ]
    },
    {
      "cell_type": "code",
      "metadata": {
        "colab": {
          "base_uri": "https://localhost:8080/",
          "height": 350
        },
        "id": "-VC6Dr2waasa",
        "outputId": "26f489dd-2848-4be9-c370-64fcdd002d5e"
      },
      "source": [
        "from matplotlib import style\n",
        "from sklearn.datasets.samples_generator import make_blobs\n",
        "x, y = make_blobs(n_samples = 100, centers = 3, \n",
        "                cluster_std = 1, n_features = 11)\n",
        "                  \n",
        "plt.scatter(x[:, 0], x[:, 1], s = 30, cmap='nipy_spectral')\n",
        "  \n",
        "# label the axes\n",
        "plt.xlabel('X')\n",
        "plt.ylabel('Y')\n",
        "  \n",
        "plt.show()\n",
        "plt.clf()"
      ],
      "execution_count": null,
      "outputs": [
        {
          "output_type": "stream",
          "text": [
            "/usr/local/lib/python3.7/dist-packages/sklearn/utils/deprecation.py:144: FutureWarning: The sklearn.datasets.samples_generator module is  deprecated in version 0.22 and will be removed in version 0.24. The corresponding classes / functions should instead be imported from sklearn.datasets. Anything that cannot be imported from sklearn.datasets is now part of the private API.\n",
            "  warnings.warn(message, FutureWarning)\n"
          ],
          "name": "stderr"
        },
        {
          "output_type": "display_data",
          "data": {
            "image/png": "[encoded data removed]",
            "text/plain": [
              "<Figure size 432x288 with 1 Axes>"
            ]
          },
          "metadata": {
            "tags": [],
            "needs_background": "light"
          }
        },
        {
          "output_type": "display_data",
          "data": {
            "text/plain": [
              "<Figure size 432x288 with 0 Axes>"
            ]
          },
          "metadata": {
            "tags": []
          }
        }
      ]
    },
    {
      "cell_type": "code",
      "metadata": {
        "id": "mXAicGENs_NM"
      },
      "source": [
        "search_query='Apartment'\n",
        "radius=18000\n",
        "latitude=19.19370\n",
        "longitude=72.85873"
      ],
      "execution_count": null,
      "outputs": []
    },
    {
      "cell_type": "code",
      "metadata": {
        "id": "40oFYTE9tbuq"
      },
      "source": [
        "CLIENT_ID='P4FQEVGMNFR2XPXJ1GEGFC14BV34BX1Q1PKNNP1P4HNOMLP1'\n",
        "CLIENT_SECRET='Y4PPGRX5KHBK5JA3GXLDCL5GH5YXESODMBODU4ANRN4YPUMN'\n",
        "VERSION='20210605'\n",
        "LIMIT=200\n",
        "\n"
      ],
      "execution_count": null,
      "outputs": []
    },
    {
      "cell_type": "code",
      "metadata": {
        "id": "8LCuSqLtyABy"
      },
      "source": [
        "url = 'https://api.foursquare.com/v2/venues/search?client_id={}&client_secret={}&ll={},{}&v={}&query={}&radius={}&limit={}'.format(CLIENT_ID, CLIENT_SECRET, latitude, longitude, VERSION, search_query, radius, LIMIT)"
      ],
      "execution_count": null,
      "outputs": []
    },
    {
      "cell_type": "code",
      "metadata": {
        "id": "W_qwWr0cyFa9"
      },
      "source": [
        "results = requests.get(url).json()"
      ],
      "execution_count": null,
      "outputs": []
    },
    {
      "cell_type": "code",
      "metadata": {
        "colab": {
          "base_uri": "https://localhost:8080/",
          "height": 442
        },
        "id": "nPae6al3yIpW",
        "outputId": "c2c34a94-f11e-4862-8282-e07c4a7b9994"
      },
      "source": [
        "venues = results['response']['venues']\n",
        "\n",
        "# tranform venues into a dataframe\n",
        "dataframe = json_normalize(venues)\n",
        "dataframe.head()"
      ],
      "execution_count": null,
      "outputs": [
        {
          "output_type": "stream",
          "text": [
            "/usr/local/lib/python3.7/dist-packages/ipykernel_launcher.py:4: FutureWarning: pandas.io.json.json_normalize is deprecated, use pandas.json_normalize instead\n",
            "  after removing the cwd from sys.path.\n"
          ],
          "name": "stderr"
        },
        {
          "output_type": "execute_result",
          "data": {
            "text/html": [
              "<div>\n",
              "<style scoped>\n",
              "    .dataframe tbody tr th:only-of-type {\n",
              "        vertical-align: middle;\n",
              "    }\n",
              "\n",
              "    .dataframe tbody tr th {\n",
              "        vertical-align: top;\n",
              "    }\n",
              "\n",
              "    .dataframe thead th {\n",
              "        text-align: right;\n",
              "    }\n",
              "</style>\n",
              "<table border=\"1\" class=\"dataframe\">\n",
              "  <thead>\n",
              "    <tr style=\"text-align: right;\">\n",
              "      <th></th>\n",
              "      <th>id</th>\n",
              "      <th>name</th>\n",
              "      <th>categories</th>\n",
              "      <th>referralId</th>\n",
              "      <th>hasPerk</th>\n",
              "      <th>location.address</th>\n",
              "      <th>location.crossStreet</th>\n",
              "      <th>location.lat</th>\n",
              "      <th>location.lng</th>\n",
              "      <th>location.labeledLatLngs</th>\n",
              "      <th>location.distance</th>\n",
              "      <th>location.postalCode</th>\n",
              "      <th>location.cc</th>\n",
              "      <th>location.city</th>\n",
              "      <th>location.state</th>\n",
              "      <th>location.country</th>\n",
              "      <th>location.formattedAddress</th>\n",
              "      <th>location.neighborhood</th>\n",
              "      <th>venuePage.id</th>\n",
              "    </tr>\n",
              "  </thead>\n",
              "  <tbody>\n",
              "    <tr>\n",
              "      <th>0</th>\n",
              "      <td>556ab992498e608f2567a36c</td>\n",
              "      <td>Silver Apartment</td>\n",
              "      <td>[{'id': '4d954b06a243a5684965b473', 'name': 'R...</td>\n",
              "      <td>v-1625025993</td>\n",
              "      <td>False</td>\n",
              "      <td>Silver Apartment</td>\n",
              "      <td>Akurli Road 1, Kandivali East</td>\n",
              "      <td>19.203014</td>\n",
              "      <td>72.853172</td>\n",
              "      <td>[{'label': 'display', 'lat': 19.20301437377929...</td>\n",
              "      <td>1190</td>\n",
              "      <td>400101</td>\n",
              "      <td>IN</td>\n",
              "      <td>Mumbai</td>\n",
              "      <td>Mahārāshtra</td>\n",
              "      <td>India</td>\n",
              "      <td>[Silver Apartment (Akurli Road 1, Kandivali Ea...</td>\n",
              "      <td>NaN</td>\n",
              "      <td>NaN</td>\n",
              "    </tr>\n",
              "    <tr>\n",
              "      <th>1</th>\n",
              "      <td>4d401a1f90f9224b4619031e</td>\n",
              "      <td>Malad apartment co op hsg soc</td>\n",
              "      <td>[{'id': '4f2a210c4b9023bd5841ed28', 'name': 'H...</td>\n",
              "      <td>v-1625025993</td>\n",
              "      <td>False</td>\n",
              "      <td>NaN</td>\n",
              "      <td>NaN</td>\n",
              "      <td>19.186453</td>\n",
              "      <td>72.847148</td>\n",
              "      <td>[{'label': 'display', 'lat': 19.186453, 'lng':...</td>\n",
              "      <td>1460</td>\n",
              "      <td>400064</td>\n",
              "      <td>IN</td>\n",
              "      <td>NaN</td>\n",
              "      <td>Mahārāshtra</td>\n",
              "      <td>India</td>\n",
              "      <td>[400064, Mahārāshtra, India]</td>\n",
              "      <td>NaN</td>\n",
              "      <td>NaN</td>\n",
              "    </tr>\n",
              "    <tr>\n",
              "      <th>2</th>\n",
              "      <td>54a3f212498e87a65d889daa</td>\n",
              "      <td>Kedarnath Apartment</td>\n",
              "      <td>[{'id': '4d954b06a243a5684965b473', 'name': 'R...</td>\n",
              "      <td>v-1625025993</td>\n",
              "      <td>False</td>\n",
              "      <td>Adarshdughdalaya, Mistree Lane</td>\n",
              "      <td>Malad West</td>\n",
              "      <td>19.194807</td>\n",
              "      <td>72.841660</td>\n",
              "      <td>[{'label': 'display', 'lat': 19.19480705261230...</td>\n",
              "      <td>1798</td>\n",
              "      <td>400064</td>\n",
              "      <td>IN</td>\n",
              "      <td>Mumbai</td>\n",
              "      <td>Mahārāshtra</td>\n",
              "      <td>India</td>\n",
              "      <td>[Adarshdughdalaya, Mistree Lane (Malad West), ...</td>\n",
              "      <td>NaN</td>\n",
              "      <td>NaN</td>\n",
              "    </tr>\n",
              "    <tr>\n",
              "      <th>3</th>\n",
              "      <td>4f70d68fe4b032eb66127246</td>\n",
              "      <td>Le Midas Apartment</td>\n",
              "      <td>[{'id': '4d954b06a243a5684965b473', 'name': 'R...</td>\n",
              "      <td>v-1625025993</td>\n",
              "      <td>False</td>\n",
              "      <td>601 Le Midas Apartment</td>\n",
              "      <td>Ram Chandra Lane, Malad(West)</td>\n",
              "      <td>19.194006</td>\n",
              "      <td>72.844417</td>\n",
              "      <td>[{'label': 'display', 'lat': 19.194006, 'lng':...</td>\n",
              "      <td>1505</td>\n",
              "      <td>400064</td>\n",
              "      <td>IN</td>\n",
              "      <td>Mumbai</td>\n",
              "      <td>Mahārāshtra</td>\n",
              "      <td>India</td>\n",
              "      <td>[601 Le Midas Apartment (Ram Chandra Lane, Mal...</td>\n",
              "      <td>NaN</td>\n",
              "      <td>NaN</td>\n",
              "    </tr>\n",
              "    <tr>\n",
              "      <th>4</th>\n",
              "      <td>50f81945e4b0626fb740bd89</td>\n",
              "      <td>Gods Grace Apartment</td>\n",
              "      <td>[{'id': '5032891291d4c4b30a586d68', 'name': 'A...</td>\n",
              "      <td>v-1625025993</td>\n",
              "      <td>False</td>\n",
              "      <td>Adarsha Dairy Rd, Kandivli West, Mumbai, Mahar...</td>\n",
              "      <td>NaN</td>\n",
              "      <td>19.194887</td>\n",
              "      <td>72.841614</td>\n",
              "      <td>[{'label': 'display', 'lat': 19.19488716125488...</td>\n",
              "      <td>1804</td>\n",
              "      <td>400064</td>\n",
              "      <td>IN</td>\n",
              "      <td>Mumbai</td>\n",
              "      <td>Maharshtra</td>\n",
              "      <td>India</td>\n",
              "      <td>[Adarsha Dairy Rd, Kandivli West, Mumbai, Maha...</td>\n",
              "      <td>NaN</td>\n",
              "      <td>NaN</td>\n",
              "    </tr>\n",
              "  </tbody>\n",
              "</table>\n",
              "</div>"
            ],
            "text/plain": [
              "                         id  ... venuePage.id\n",
              "0  556ab992498e608f2567a36c  ...          NaN\n",
              "1  4d401a1f90f9224b4619031e  ...          NaN\n",
              "2  54a3f212498e87a65d889daa  ...          NaN\n",
              "3  4f70d68fe4b032eb66127246  ...          NaN\n",
              "4  50f81945e4b0626fb740bd89  ...          NaN\n",
              "\n",
              "[5 rows x 19 columns]"
            ]
          },
          "metadata": {
            "tags": []
          },
          "execution_count": 27
        }
      ]
    },
    {
      "cell_type": "code",
      "metadata": {
        "id": "jRhvrk2hyjVq",
        "colab": {
          "base_uri": "https://localhost:8080/",
          "height": 422
        },
        "outputId": "12af1aa2-3637-4524-c096-612f1b0aafc5"
      },
      "source": [
        "filtered_columns=['name','categories']+[col for col in dataframe.columns if col.startswith('location')]+['id']\n",
        "filtered_dataframe=dataframe.loc[:,filtered_columns]\n",
        "filtered_dataframe.head()\n",
        "def get_category_type(row):\n",
        "    try:\n",
        "        categories_list = row['categories']\n",
        "    except:\n",
        "        categories_list = row['venue.categories']\n",
        "        \n",
        "    if len(categories_list) == 0:\n",
        "        return None\n",
        "    else:\n",
        "        return categories_list[0]['name']\n",
        "\n",
        "# filter the category for each row\n",
        "filtered_dataframe['categories'] = filtered_dataframe.apply(get_category_type, axis=1)\n",
        "\n",
        "# clean column names by keeping only last term\n",
        "filtered_dataframe.columns = [column.split('.')[-1] for column in filtered_dataframe.columns]\n",
        "# dataframe_filtered.drop([4,17,18,21,24,30,43],axis=0,inplace=True) #remove some unwanted locations like hotels\n",
        "filtered_dataframe.drop(['cc','country','state','city','neighborhood'],axis=1,inplace=True) #no need for those columns as we know we're in Bangalore,IN\n",
        "filtered_dataframe.head()"
      ],
      "execution_count": null,
      "outputs": [
        {
          "output_type": "execute_result",
          "data": {
            "text/html": [
              "<div>\n",
              "<style scoped>\n",
              "    .dataframe tbody tr th:only-of-type {\n",
              "        vertical-align: middle;\n",
              "    }\n",
              "\n",
              "    .dataframe tbody tr th {\n",
              "        vertical-align: top;\n",
              "    }\n",
              "\n",
              "    .dataframe thead th {\n",
              "        text-align: right;\n",
              "    }\n",
              "</style>\n",
              "<table border=\"1\" class=\"dataframe\">\n",
              "  <thead>\n",
              "    <tr style=\"text-align: right;\">\n",
              "      <th></th>\n",
              "      <th>name</th>\n",
              "      <th>categories</th>\n",
              "      <th>address</th>\n",
              "      <th>crossStreet</th>\n",
              "      <th>lat</th>\n",
              "      <th>lng</th>\n",
              "      <th>labeledLatLngs</th>\n",
              "      <th>distance</th>\n",
              "      <th>postalCode</th>\n",
              "      <th>formattedAddress</th>\n",
              "      <th>id</th>\n",
              "    </tr>\n",
              "  </thead>\n",
              "  <tbody>\n",
              "    <tr>\n",
              "      <th>0</th>\n",
              "      <td>Silver Apartment</td>\n",
              "      <td>Residential Building (Apartment / Condo)</td>\n",
              "      <td>Silver Apartment</td>\n",
              "      <td>Akurli Road 1, Kandivali East</td>\n",
              "      <td>19.203014</td>\n",
              "      <td>72.853172</td>\n",
              "      <td>[{'label': 'display', 'lat': 19.20301437377929...</td>\n",
              "      <td>1190</td>\n",
              "      <td>400101</td>\n",
              "      <td>[Silver Apartment (Akurli Road 1, Kandivali Ea...</td>\n",
              "      <td>556ab992498e608f2567a36c</td>\n",
              "    </tr>\n",
              "    <tr>\n",
              "      <th>1</th>\n",
              "      <td>Malad apartment co op hsg soc</td>\n",
              "      <td>Housing Development</td>\n",
              "      <td>NaN</td>\n",
              "      <td>NaN</td>\n",
              "      <td>19.186453</td>\n",
              "      <td>72.847148</td>\n",
              "      <td>[{'label': 'display', 'lat': 19.186453, 'lng':...</td>\n",
              "      <td>1460</td>\n",
              "      <td>400064</td>\n",
              "      <td>[400064, Mahārāshtra, India]</td>\n",
              "      <td>4d401a1f90f9224b4619031e</td>\n",
              "    </tr>\n",
              "    <tr>\n",
              "      <th>2</th>\n",
              "      <td>Kedarnath Apartment</td>\n",
              "      <td>Residential Building (Apartment / Condo)</td>\n",
              "      <td>Adarshdughdalaya, Mistree Lane</td>\n",
              "      <td>Malad West</td>\n",
              "      <td>19.194807</td>\n",
              "      <td>72.841660</td>\n",
              "      <td>[{'label': 'display', 'lat': 19.19480705261230...</td>\n",
              "      <td>1798</td>\n",
              "      <td>400064</td>\n",
              "      <td>[Adarshdughdalaya, Mistree Lane (Malad West), ...</td>\n",
              "      <td>54a3f212498e87a65d889daa</td>\n",
              "    </tr>\n",
              "    <tr>\n",
              "      <th>3</th>\n",
              "      <td>Le Midas Apartment</td>\n",
              "      <td>Residential Building (Apartment / Condo)</td>\n",
              "      <td>601 Le Midas Apartment</td>\n",
              "      <td>Ram Chandra Lane, Malad(West)</td>\n",
              "      <td>19.194006</td>\n",
              "      <td>72.844417</td>\n",
              "      <td>[{'label': 'display', 'lat': 19.194006, 'lng':...</td>\n",
              "      <td>1505</td>\n",
              "      <td>400064</td>\n",
              "      <td>[601 Le Midas Apartment (Ram Chandra Lane, Mal...</td>\n",
              "      <td>4f70d68fe4b032eb66127246</td>\n",
              "    </tr>\n",
              "    <tr>\n",
              "      <th>4</th>\n",
              "      <td>Gods Grace Apartment</td>\n",
              "      <td>Assisted Living</td>\n",
              "      <td>Adarsha Dairy Rd, Kandivli West, Mumbai, Mahar...</td>\n",
              "      <td>NaN</td>\n",
              "      <td>19.194887</td>\n",
              "      <td>72.841614</td>\n",
              "      <td>[{'label': 'display', 'lat': 19.19488716125488...</td>\n",
              "      <td>1804</td>\n",
              "      <td>400064</td>\n",
              "      <td>[Adarsha Dairy Rd, Kandivli West, Mumbai, Maha...</td>\n",
              "      <td>50f81945e4b0626fb740bd89</td>\n",
              "    </tr>\n",
              "  </tbody>\n",
              "</table>\n",
              "</div>"
            ],
            "text/plain": [
              "                            name  ...                        id\n",
              "0               Silver Apartment  ...  556ab992498e608f2567a36c\n",
              "1  Malad apartment co op hsg soc  ...  4d401a1f90f9224b4619031e\n",
              "2            Kedarnath Apartment  ...  54a3f212498e87a65d889daa\n",
              "3             Le Midas Apartment  ...  4f70d68fe4b032eb66127246\n",
              "4           Gods Grace Apartment  ...  50f81945e4b0626fb740bd89\n",
              "\n",
              "[5 rows x 11 columns]"
            ]
          },
          "metadata": {
            "tags": []
          },
          "execution_count": 39
        }
      ]
    },
    {
      "cell_type": "code",
      "metadata": {
        "colab": {
          "base_uri": "https://localhost:8080/"
        },
        "id": "1PHm94t3GOBO",
        "outputId": "aa2ba80f-3539-4ebc-a681-a28d7e524f93"
      },
      "source": [
        "!pip install folium"
      ],
      "execution_count": null,
      "outputs": [
        {
          "output_type": "stream",
          "text": [
            "Requirement already satisfied: folium in /usr/local/lib/python3.7/dist-packages (0.8.3)\n",
            "Requirement already satisfied: six in /usr/local/lib/python3.7/dist-packages (from folium) (1.15.0)\n",
            "Requirement already satisfied: requests in /usr/local/lib/python3.7/dist-packages (from folium) (2.23.0)\n",
            "Requirement already satisfied: branca>=0.3.0 in /usr/local/lib/python3.7/dist-packages (from folium) (0.4.2)\n",
            "Requirement already satisfied: numpy in /usr/local/lib/python3.7/dist-packages (from folium) (1.19.5)\n",
            "Requirement already satisfied: jinja2 in /usr/local/lib/python3.7/dist-packages (from folium) (2.11.3)\n",
            "Requirement already satisfied: idna<3,>=2.5 in /usr/local/lib/python3.7/dist-packages (from requests->folium) (2.10)\n",
            "Requirement already satisfied: certifi>=2017.4.17 in /usr/local/lib/python3.7/dist-packages (from requests->folium) (2021.5.30)\n",
            "Requirement already satisfied: chardet<4,>=3.0.2 in /usr/local/lib/python3.7/dist-packages (from requests->folium) (3.0.4)\n",
            "Requirement already satisfied: urllib3!=1.25.0,!=1.25.1,<1.26,>=1.21.1 in /usr/local/lib/python3.7/dist-packages (from requests->folium) (1.24.3)\n",
            "Requirement already satisfied: MarkupSafe>=0.23 in /usr/local/lib/python3.7/dist-packages (from jinja2->folium) (2.0.1)\n"
          ],
          "name": "stdout"
        }
      ]
    },
    {
      "cell_type": "code",
      "metadata": {
        "colab": {
          "base_uri": "https://localhost:8080/",
          "height": 203
        },
        "id": "RbLmPHIdHN58",
        "outputId": "2b55a7e2-8267-4c36-9124-d9b37a7a6a9d"
      },
      "source": [
        "df_evaluate=filtered_dataframe[['lat','lng']]\n",
        "df_evaluate.head()"
      ],
      "execution_count": null,
      "outputs": [
        {
          "output_type": "execute_result",
          "data": {
            "text/html": [
              "<div>\n",
              "<style scoped>\n",
              "    .dataframe tbody tr th:only-of-type {\n",
              "        vertical-align: middle;\n",
              "    }\n",
              "\n",
              "    .dataframe tbody tr th {\n",
              "        vertical-align: top;\n",
              "    }\n",
              "\n",
              "    .dataframe thead th {\n",
              "        text-align: right;\n",
              "    }\n",
              "</style>\n",
              "<table border=\"1\" class=\"dataframe\">\n",
              "  <thead>\n",
              "    <tr style=\"text-align: right;\">\n",
              "      <th></th>\n",
              "      <th>lat</th>\n",
              "      <th>lng</th>\n",
              "    </tr>\n",
              "  </thead>\n",
              "  <tbody>\n",
              "    <tr>\n",
              "      <th>0</th>\n",
              "      <td>19.203014</td>\n",
              "      <td>72.853172</td>\n",
              "    </tr>\n",
              "    <tr>\n",
              "      <th>1</th>\n",
              "      <td>19.186453</td>\n",
              "      <td>72.847148</td>\n",
              "    </tr>\n",
              "    <tr>\n",
              "      <th>2</th>\n",
              "      <td>19.194807</td>\n",
              "      <td>72.841660</td>\n",
              "    </tr>\n",
              "    <tr>\n",
              "      <th>3</th>\n",
              "      <td>19.194006</td>\n",
              "      <td>72.844417</td>\n",
              "    </tr>\n",
              "    <tr>\n",
              "      <th>4</th>\n",
              "      <td>19.194887</td>\n",
              "      <td>72.841614</td>\n",
              "    </tr>\n",
              "  </tbody>\n",
              "</table>\n",
              "</div>"
            ],
            "text/plain": [
              "         lat        lng\n",
              "0  19.203014  72.853172\n",
              "1  19.186453  72.847148\n",
              "2  19.194807  72.841660\n",
              "3  19.194006  72.844417\n",
              "4  19.194887  72.841614"
            ]
          },
          "metadata": {
            "tags": []
          },
          "execution_count": 40
        }
      ]
    },
    {
      "cell_type": "code",
      "metadata": {
        "colab": {
          "base_uri": "https://localhost:8080/"
        },
        "id": "rSRT77n3KYB5",
        "outputId": "dea10ea8-67cf-46bb-cecb-f5bf4c3681d3"
      },
      "source": [
        "RestList=[]\n",
        "latitudes = list(filtered_dataframe.lat)\n",
        "longitudes = list(filtered_dataframe.lng)\n",
        "for lat, lng in zip(latitudes, longitudes):    \n",
        "    radius = 15000 #Set the radius to 5 kilometres for convenience\n",
        "    latitude=lat#Query for the apartment location in question\n",
        "    longitude=lng\n",
        "    url = 'https://api.foursquare.com/v2/venues/search?client_id={}&client_secret={}&ll={},{}&v={}&query={}&radius={}&limit={}'.format(CLIENT_ID, CLIENT_SECRET, latitude, longitude, VERSION, search_query, radius, LIMIT)\n",
        "    search_query = 'Restaurant' #Search for any locations which are regularly needed by Outsiders.\n",
        "    results = requests.get(url).json()\n",
        "    # assign relevant part of JSON to venues\n",
        "    venues = results['response']['venues']\n",
        "    # tranform venues into a dataframe\n",
        "    dataframe2 = json_normalize(venues)\n",
        "    filtered_columns = ['name', 'categories'] + [col for col in dataframe2.columns if col.startswith('location.')] + ['id']\n",
        "    dataframe_filtered2 = dataframe2.loc[:, filtered_columns]\n",
        "    # filter the category for each row\n",
        "    dataframe_filtered2['categories'] = dataframe_filtered2.apply(get_category_type, axis=1)\n",
        "    # clean column names by keeping only last term\n",
        "    dataframe_filtered2.columns = [column.split('.')[-1] for column in dataframe_filtered2.columns]\n",
        "    RestList.append(dataframe_filtered2['categories'].count())"
      ],
      "execution_count": null,
      "outputs": [
        {
          "output_type": "stream",
          "text": [
            "/usr/local/lib/python3.7/dist-packages/ipykernel_launcher.py:14: FutureWarning: pandas.io.json.json_normalize is deprecated, use pandas.json_normalize instead\n",
            "  \n"
          ],
          "name": "stderr"
        }
      ]
    },
    {
      "cell_type": "code",
      "metadata": {
        "colab": {
          "base_uri": "https://localhost:8080/"
        },
        "id": "rvTrq_tdQz1O",
        "outputId": "16eb8c33-e2c0-4ea1-98aa-65bf05f6a867"
      },
      "source": [
        "df_evaluate['Restaurants']=RestList"
      ],
      "execution_count": null,
      "outputs": [
        {
          "output_type": "stream",
          "text": [
            "/usr/local/lib/python3.7/dist-packages/ipykernel_launcher.py:1: SettingWithCopyWarning: \n",
            "A value is trying to be set on a copy of a slice from a DataFrame.\n",
            "Try using .loc[row_indexer,col_indexer] = value instead\n",
            "\n",
            "See the caveats in the documentation: https://pandas.pydata.org/pandas-docs/stable/user_guide/indexing.html#returning-a-view-versus-a-copy\n",
            "  \"\"\"Entry point for launching an IPython kernel.\n"
          ],
          "name": "stderr"
        }
      ]
    },
    {
      "cell_type": "code",
      "metadata": {
        "colab": {
          "base_uri": "https://localhost:8080/"
        },
        "id": "Iswv21-DLfJX",
        "outputId": "008ed395-66a3-4e51-8617-0420972ee781"
      },
      "source": [
        "FruitList=[]\n",
        "latitudes = list(filtered_dataframe.lat)\n",
        "longitudes = list(filtered_dataframe.lng)\n",
        "for lat, lng in zip(latitudes, longitudes):    \n",
        "    radius = 15000 #Set the radius to 5 kilometres for convenience\n",
        "    latitude=lat#Query for the apartment location in question\n",
        "    longitude=lng\n",
        "    url = 'https://api.foursquare.com/v2/venues/search?client_id={}&client_secret={}&ll={},{}&v={}&query={}&radius={}&limit={}'.format(CLIENT_ID, CLIENT_SECRET, latitude, longitude, VERSION, search_query, radius, LIMIT)\n",
        "    search_query = 'Fruit' #Search for any food related locations\n",
        "    results = requests.get(url).json()\n",
        "    # assign relevant part of JSON to venues\n",
        "    venues = results['response']['venues']\n",
        "    # tranform venues into a dataframe\n",
        "    dataframe2 = json_normalize(venues)\n",
        "    filtered_columns = ['name', 'categories'] + [col for col in dataframe2.columns if col.startswith('location.')] + ['id']\n",
        "    dataframe_filtered2 = dataframe2.loc[:, filtered_columns]\n",
        "    # filter the category for each row\n",
        "    dataframe_filtered2['categories'] = dataframe_filtered2.apply(get_category_type, axis=1)\n",
        "    # clean column names by keeping only last term\n",
        "    dataframe_filtered2.columns = [column.split('.')[-1] for column in dataframe_filtered2.columns]\n",
        "    FruitList.append(dataframe_filtered2['categories'].count())"
      ],
      "execution_count": null,
      "outputs": [
        {
          "output_type": "stream",
          "text": [
            "/usr/local/lib/python3.7/dist-packages/ipykernel_launcher.py:14: FutureWarning: pandas.io.json.json_normalize is deprecated, use pandas.json_normalize instead\n",
            "  \n"
          ],
          "name": "stderr"
        }
      ]
    },
    {
      "cell_type": "code",
      "metadata": {
        "colab": {
          "base_uri": "https://localhost:8080/"
        },
        "id": "V9ADhhmIQS0F",
        "outputId": "4d5dcad5-74a6-4c09-b02a-b4be010b8089"
      },
      "source": [
        "df_evaluate['Groceries']=FruitList"
      ],
      "execution_count": null,
      "outputs": [
        {
          "output_type": "stream",
          "text": [
            "/usr/local/lib/python3.7/dist-packages/ipykernel_launcher.py:1: SettingWithCopyWarning: \n",
            "A value is trying to be set on a copy of a slice from a DataFrame.\n",
            "Try using .loc[row_indexer,col_indexer] = value instead\n",
            "\n",
            "See the caveats in the documentation: https://pandas.pydata.org/pandas-docs/stable/user_guide/indexing.html#returning-a-view-versus-a-copy\n",
            "  \"\"\"Entry point for launching an IPython kernel.\n"
          ],
          "name": "stderr"
        }
      ]
    },
    {
      "cell_type": "code",
      "metadata": {
        "colab": {
          "base_uri": "https://localhost:8080/",
          "height": 405
        },
        "id": "RFbOP3-xRdPb",
        "outputId": "15194316-31ac-4d3e-b709-95b45c7c9b2b"
      },
      "source": [
        "kclusters = 3\n",
        "\n",
        "# run k-means clustering\n",
        "kmeans = KMeans(n_clusters=kclusters, random_state=0).fit(df_evaluate)\n",
        "df_evaluate['Cluster']=kmeans.labels_\n",
        "df_evaluate['Cluster']=df_evaluate['Cluster'].apply(str)\n",
        "df_evaluate.head()"
      ],
      "execution_count": null,
      "outputs": [
        {
          "output_type": "stream",
          "text": [
            "/usr/local/lib/python3.7/dist-packages/ipykernel_launcher.py:5: SettingWithCopyWarning: \n",
            "A value is trying to be set on a copy of a slice from a DataFrame.\n",
            "Try using .loc[row_indexer,col_indexer] = value instead\n",
            "\n",
            "See the caveats in the documentation: https://pandas.pydata.org/pandas-docs/stable/user_guide/indexing.html#returning-a-view-versus-a-copy\n",
            "  \"\"\"\n",
            "/usr/local/lib/python3.7/dist-packages/ipykernel_launcher.py:6: SettingWithCopyWarning: \n",
            "A value is trying to be set on a copy of a slice from a DataFrame.\n",
            "Try using .loc[row_indexer,col_indexer] = value instead\n",
            "\n",
            "See the caveats in the documentation: https://pandas.pydata.org/pandas-docs/stable/user_guide/indexing.html#returning-a-view-versus-a-copy\n",
            "  \n"
          ],
          "name": "stderr"
        },
        {
          "output_type": "execute_result",
          "data": {
            "text/html": [
              "<div>\n",
              "<style scoped>\n",
              "    .dataframe tbody tr th:only-of-type {\n",
              "        vertical-align: middle;\n",
              "    }\n",
              "\n",
              "    .dataframe tbody tr th {\n",
              "        vertical-align: top;\n",
              "    }\n",
              "\n",
              "    .dataframe thead th {\n",
              "        text-align: right;\n",
              "    }\n",
              "</style>\n",
              "<table border=\"1\" class=\"dataframe\">\n",
              "  <thead>\n",
              "    <tr style=\"text-align: right;\">\n",
              "      <th></th>\n",
              "      <th>lat</th>\n",
              "      <th>lng</th>\n",
              "      <th>Restaurants</th>\n",
              "      <th>Groceries</th>\n",
              "      <th>Cluster</th>\n",
              "    </tr>\n",
              "  </thead>\n",
              "  <tbody>\n",
              "    <tr>\n",
              "      <th>0</th>\n",
              "      <td>19.203014</td>\n",
              "      <td>72.853172</td>\n",
              "      <td>49</td>\n",
              "      <td>47</td>\n",
              "      <td>0</td>\n",
              "    </tr>\n",
              "    <tr>\n",
              "      <th>1</th>\n",
              "      <td>19.186453</td>\n",
              "      <td>72.847148</td>\n",
              "      <td>47</td>\n",
              "      <td>49</td>\n",
              "      <td>0</td>\n",
              "    </tr>\n",
              "    <tr>\n",
              "      <th>2</th>\n",
              "      <td>19.194807</td>\n",
              "      <td>72.841660</td>\n",
              "      <td>48</td>\n",
              "      <td>49</td>\n",
              "      <td>0</td>\n",
              "    </tr>\n",
              "    <tr>\n",
              "      <th>3</th>\n",
              "      <td>19.194006</td>\n",
              "      <td>72.844417</td>\n",
              "      <td>48</td>\n",
              "      <td>49</td>\n",
              "      <td>0</td>\n",
              "    </tr>\n",
              "    <tr>\n",
              "      <th>4</th>\n",
              "      <td>19.194887</td>\n",
              "      <td>72.841614</td>\n",
              "      <td>48</td>\n",
              "      <td>49</td>\n",
              "      <td>0</td>\n",
              "    </tr>\n",
              "  </tbody>\n",
              "</table>\n",
              "</div>"
            ],
            "text/plain": [
              "         lat        lng  Restaurants  Groceries Cluster\n",
              "0  19.203014  72.853172           49         47       0\n",
              "1  19.186453  72.847148           47         49       0\n",
              "2  19.194807  72.841660           48         49       0\n",
              "3  19.194006  72.844417           48         49       0\n",
              "4  19.194887  72.841614           48         49       0"
            ]
          },
          "metadata": {
            "tags": []
          },
          "execution_count": 96
        }
      ]
    },
    {
      "cell_type": "code",
      "metadata": {
        "colab": {
          "base_uri": "https://localhost:8080/",
          "height": 866
        },
        "id": "Ld2ICEdrR3oP",
        "outputId": "08984bf4-108f-4bff-b2b8-fe515d3f596c"
      },
      "source": [
        "#define coordinates of the college\n",
        "map_bang=folium.Map(location=[19.19370,72.85873],zoom_start=12)\n",
        "# instantiate a feature group for the incidents in the dataframe\n",
        "locations = folium.map.FeatureGroup()\n",
        "# set color scheme for the clusters\n",
        "def color_producer(cluster):\n",
        "    if cluster=='0':\n",
        "        return 'green'\n",
        "    elif cluster=='1':\n",
        "        return 'orange'\n",
        "    else:\n",
        "        return 'red'\n",
        "latitudes = list(df_evaluate.lat)\n",
        "longitudes = list(df_evaluate.lng)\n",
        "labels = list(df_evaluate.Cluster)\n",
        "names=list(filtered_dataframe.name)\n",
        "address=list(filtered_dataframe.address)\n",
        "for lat, lng, label,names,address in zip(latitudes, longitudes, labels,names,address):\n",
        "    folium.CircleMarker(\n",
        "            [lat,lng],\n",
        "            fill=True,\n",
        "            fill_opacity=1,\n",
        "            popup=folium.Popup(names, max_width = 300),\n",
        "            radius=5,\n",
        "            color=color_producer(label)\n",
        "        ).add_to(map_bang)\n",
        "\n",
        "# add locations to map\n",
        "map_bang.add_child(locations)\n",
        "\n",
        "map_bang"
      ],
      "execution_count": null,
      "outputs": [
        {
          "output_type": "execute_result",
          "data": {
            "text/html": [
              "<div style=\"width:100%;\"><div style=\"position:relative;width:100%;height:0;padding-bottom:60%;\"><span style=\"color:#565656\">Make this Notebook Trusted to load map: File -> Trust Notebook</span><iframe src=\"about:blank\" style=\"position:absolute;width:100%;height:100%;left:0;top:0;border:none !important;\" data-html=%3C%21DOCTYPE%20html%3E%0A%3Chead%3E%20%20%20%20%0A%20%20%20%20%3Cmeta%20http-equiv%3D%22content-type%22%20content%3D%22text/html%3B%20charset%3DUTF-8%22%20/%3E%0A%20%20%20%20%3Cscript%3EL_PREFER_CANVAS%3Dfalse%3B%20L_NO_TOUCH%3Dfalse%3B%20L_DISABLE_3D%3Dfalse%3B%3C/script%3E%0A%20%20%20%20%3Cscript%20src%3D%22https%3A//cdn.jsdelivr.net/npm/leaflet%401.4.0/dist/leaflet.js%22%3E%3C/script%3E%0A%20%20%20%20%3Cscript%20src%3D%22https%3A//code.jquery.com/jquery-1.12.4.min.js%22%3E%3C/script%3E%0A%20%20%20%20%3Cscript%20src%3D%22https%3A//maxcdn.bootstrapcdn.com/bootstrap/3.2.0/js/bootstrap.min.js%22%3E%3C/script%3E%0A%20%20%20%20%3Cscript%20src%3D%22https%3A//cdnjs.cloudflare.com/ajax/libs/Leaflet.awesome-markers/2.0.2/leaflet.awesome-markers.js%22%3E%3C/script%3E%0A%20%20%20%20%3Clink%20rel%3D%22stylesheet%22%20href%3D%22https%3A//cdn.jsdelivr.net/npm/leaflet%401.4.0/dist/leaflet.css%22/%3E%0A%20%20%20%20%3Clink%20rel%3D%22stylesheet%22%20href%3D%22https%3A//maxcdn.bootstrapcdn.com/bootstrap/3.2.0/css/bootstrap.min.css%22/%3E%0A%20%20%20%20%3Clink%20rel%3D%22stylesheet%22%20href%3D%22https%3A//maxcdn.bootstrapcdn.com/bootstrap/3.2.0/css/bootstrap-theme.min.css%22/%3E%0A%20%20%20%20%3Clink%20rel%3D%22stylesheet%22%20href%3D%22https%3A//maxcdn.bootstrapcdn.com/font-awesome/4.6.3/css/font-awesome.min.css%22/%3E%0A%20%20%20%20%3Clink%20rel%3D%22stylesheet%22%20href%3D%22https%3A//cdnjs.cloudflare.com/ajax/libs/Leaflet.awesome-markers/2.0.2/leaflet.awesome-markers.css%22/%3E%0A%20%20%20%20%3Clink%20rel%3D%22stylesheet%22%20href%3D%22https%3A//rawcdn.githack.com/python-visualization/folium/master/folium/templates/leaflet.awesome.rotate.css%22/%3E%0A%20%20%20%20%3Cstyle%3Ehtml%2C%20body%20%7Bwidth%3A%20100%25%3Bheight%3A%20100%25%3Bmargin%3A%200%3Bpadding%3A%200%3B%7D%3C/style%3E%0A%20%20%20%20%3Cstyle%3E%23map%20%7Bposition%3Aabsolute%3Btop%3A0%3Bbottom%3A0%3Bright%3A0%3Bleft%3A0%3B%7D%3C/style%3E%0A%20%20%20%20%0A%20%20%20%20%3Cmeta%20name%3D%22viewport%22%20content%3D%22width%3Ddevice-width%2C%0A%20%20%20%20%20%20%20%20initial-scale%3D1.0%2C%20maximum-scale%3D1.0%2C%20user-scalable%3Dno%22%20/%3E%0A%20%20%20%20%3Cstyle%3E%23map_257216756e92412a8a1ec6ef68ef8bc0%20%7B%0A%20%20%20%20%20%20%20%20position%3A%20relative%3B%0A%20%20%20%20%20%20%20%20width%3A%20100.0%25%3B%0A%20%20%20%20%20%20%20%20height%3A%20100.0%25%3B%0A%20%20%20%20%20%20%20%20left%3A%200.0%25%3B%0A%20%20%20%20%20%20%20%20top%3A%200.0%25%3B%0A%20%20%20%20%20%20%20%20%7D%0A%20%20%20%20%3C/style%3E%0A%3C/head%3E%0A%3Cbody%3E%20%20%20%20%0A%20%20%20%20%0A%20%20%20%20%3Cdiv%20class%3D%22folium-map%22%20id%3D%22map_257216756e92412a8a1ec6ef68ef8bc0%22%20%3E%3C/div%3E%0A%3C/body%3E%0A%3Cscript%3E%20%20%20%20%0A%20%20%20%20%0A%20%20%20%20%0A%20%20%20%20%20%20%20%20var%20bounds%20%3D%20null%3B%0A%20%20%20%20%0A%0A%20%20%20%20var%20map_257216756e92412a8a1ec6ef68ef8bc0%20%3D%20L.map%28%0A%20%20%20%20%20%20%20%20%27map_257216756e92412a8a1ec6ef68ef8bc0%27%2C%20%7B%0A%20%20%20%20%20%20%20%20center%3A%20%5B19.1937%2C%2072.85873%5D%2C%0A%20%20%20%20%20%20%20%20zoom%3A%2012%2C%0A%20%20%20%20%20%20%20%20maxBounds%3A%20bounds%2C%0A%20%20%20%20%20%20%20%20layers%3A%20%5B%5D%2C%0A%20%20%20%20%20%20%20%20worldCopyJump%3A%20false%2C%0A%20%20%20%20%20%20%20%20crs%3A%20L.CRS.EPSG3857%2C%0A%20%20%20%20%20%20%20%20zoomControl%3A%20true%2C%0A%20%20%20%20%20%20%20%20%7D%29%3B%0A%0A%0A%20%20%20%20%0A%20%20%20%20var%20tile_layer_c25ba85490334d1292d85782082da4aa%20%3D%20L.tileLayer%28%0A%20%20%20%20%20%20%20%20%27https%3A//%7Bs%7D.tile.openstreetmap.org/%7Bz%7D/%7Bx%7D/%7By%7D.png%27%2C%0A%20%20%20%20%20%20%20%20%7B%0A%20%20%20%20%20%20%20%20%22attribution%22%3A%20null%2C%0A%20%20%20%20%20%20%20%20%22detectRetina%22%3A%20false%2C%0A%20%20%20%20%20%20%20%20%22maxNativeZoom%22%3A%2018%2C%0A%20%20%20%20%20%20%20%20%22maxZoom%22%3A%2018%2C%0A%20%20%20%20%20%20%20%20%22minZoom%22%3A%200%2C%0A%20%20%20%20%20%20%20%20%22noWrap%22%3A%20false%2C%0A%20%20%20%20%20%20%20%20%22opacity%22%3A%201%2C%0A%20%20%20%20%20%20%20%20%22subdomains%22%3A%20%22abc%22%2C%0A%20%20%20%20%20%20%20%20%22tms%22%3A%20false%0A%7D%29.addTo%28map_257216756e92412a8a1ec6ef68ef8bc0%29%3B%0A%20%20%20%20%0A%20%20%20%20%20%20%20%20%20%20%20%20var%20circle_marker_0e08c33efc774370b6cd8cb2f1121bec%20%3D%20L.circleMarker%28%0A%20%20%20%20%20%20%20%20%20%20%20%20%20%20%20%20%5B19.203014373779297%2C%2072.8531723022461%5D%2C%0A%20%20%20%20%20%20%20%20%20%20%20%20%20%20%20%20%7B%0A%20%20%22bubblingMouseEvents%22%3A%20true%2C%0A%20%20%22color%22%3A%20%22green%22%2C%0A%20%20%22dashArray%22%3A%20null%2C%0A%20%20%22dashOffset%22%3A%20null%2C%0A%20%20%22fill%22%3A%20true%2C%0A%20%20%22fillColor%22%3A%20%22green%22%2C%0A%20%20%22fillOpacity%22%3A%201%2C%0A%20%20%22fillRule%22%3A%20%22evenodd%22%2C%0A%20%20%22lineCap%22%3A%20%22round%22%2C%0A%20%20%22lineJoin%22%3A%20%22round%22%2C%0A%20%20%22opacity%22%3A%201.0%2C%0A%20%20%22radius%22%3A%205%2C%0A%20%20%22stroke%22%3A%20true%2C%0A%20%20%22weight%22%3A%203%0A%7D%0A%20%20%20%20%20%20%20%20%20%20%20%20%20%20%20%20%29%0A%20%20%20%20%20%20%20%20%20%20%20%20%20%20%20%20.addTo%28map_257216756e92412a8a1ec6ef68ef8bc0%29%3B%0A%20%20%20%20%20%20%20%20%20%20%20%20%0A%20%20%20%20%0A%20%20%20%20%20%20%20%20%20%20%20%20var%20popup_b2e70aee4cd245e8a84f5ec5bf91ad1e%20%3D%20L.popup%28%7BmaxWidth%3A%20%27300%27%0A%20%20%20%20%20%20%20%20%20%20%20%20%0A%20%20%20%20%20%20%20%20%20%20%20%20%7D%29%3B%0A%0A%20%20%20%20%20%20%20%20%20%20%20%20%0A%20%20%20%20%20%20%20%20%20%20%20%20%20%20%20%20var%20html_99926526293448df9ec5658e401c0a0f%20%3D%20%24%28%60%3Cdiv%20id%3D%22html_99926526293448df9ec5658e401c0a0f%22%20style%3D%22width%3A%20100.0%25%3B%20height%3A%20100.0%25%3B%22%3ESilver%20Apartment%3C/div%3E%60%29%5B0%5D%3B%0A%20%20%20%20%20%20%20%20%20%20%20%20%20%20%20%20popup_b2e70aee4cd245e8a84f5ec5bf91ad1e.setContent%28html_99926526293448df9ec5658e401c0a0f%29%3B%0A%20%20%20%20%20%20%20%20%20%20%20%20%0A%0A%20%20%20%20%20%20%20%20%20%20%20%20circle_marker_0e08c33efc774370b6cd8cb2f1121bec.bindPopup%28popup_b2e70aee4cd245e8a84f5ec5bf91ad1e%29%0A%20%20%20%20%20%20%20%20%20%20%20%20%3B%0A%0A%20%20%20%20%20%20%20%20%20%20%20%20%0A%20%20%20%20%20%20%20%20%0A%20%20%20%20%0A%20%20%20%20%20%20%20%20%20%20%20%20var%20circle_marker_33c0380b48c44f589bced96f93088b26%20%3D%20L.circleMarker%28%0A%20%20%20%20%20%20%20%20%20%20%20%20%20%20%20%20%5B19.186453%2C%2072.847148%5D%2C%0A%20%20%20%20%20%20%20%20%20%20%20%20%20%20%20%20%7B%0A%20%20%22bubblingMouseEvents%22%3A%20true%2C%0A%20%20%22color%22%3A%20%22green%22%2C%0A%20%20%22dashArray%22%3A%20null%2C%0A%20%20%22dashOffset%22%3A%20null%2C%0A%20%20%22fill%22%3A%20true%2C%0A%20%20%22fillColor%22%3A%20%22green%22%2C%0A%20%20%22fillOpacity%22%3A%201%2C%0A%20%20%22fillRule%22%3A%20%22evenodd%22%2C%0A%20%20%22lineCap%22%3A%20%22round%22%2C%0A%20%20%22lineJoin%22%3A%20%22round%22%2C%0A%20%20%22opacity%22%3A%201.0%2C%0A%20%20%22radius%22%3A%205%2C%0A%20%20%22stroke%22%3A%20true%2C%0A%20%20%22weight%22%3A%203%0A%7D%0A%20%20%20%20%20%20%20%20%20%20%20%20%20%20%20%20%29%0A%20%20%20%20%20%20%20%20%20%20%20%20%20%20%20%20.addTo%28map_257216756e92412a8a1ec6ef68ef8bc0%29%3B%0A%20%20%20%20%20%20%20%20%20%20%20%20%0A%20%20%20%20%0A%20%20%20%20%20%20%20%20%20%20%20%20var%20popup_670bc1f3ead3474486018f10b286cbac%20%3D%20L.popup%28%7BmaxWidth%3A%20%27300%27%0A%20%20%20%20%20%20%20%20%20%20%20%20%0A%20%20%20%20%20%20%20%20%20%20%20%20%7D%29%3B%0A%0A%20%20%20%20%20%20%20%20%20%20%20%20%0A%20%20%20%20%20%20%20%20%20%20%20%20%20%20%20%20var%20html_e5b9ecd8253e4763ab209a54bb3b2dd6%20%3D%20%24%28%60%3Cdiv%20id%3D%22html_e5b9ecd8253e4763ab209a54bb3b2dd6%22%20style%3D%22width%3A%20100.0%25%3B%20height%3A%20100.0%25%3B%22%3EMalad%20apartment%20co%20op%20hsg%20soc%3C/div%3E%60%29%5B0%5D%3B%0A%20%20%20%20%20%20%20%20%20%20%20%20%20%20%20%20popup_670bc1f3ead3474486018f10b286cbac.setContent%28html_e5b9ecd8253e4763ab209a54bb3b2dd6%29%3B%0A%20%20%20%20%20%20%20%20%20%20%20%20%0A%0A%20%20%20%20%20%20%20%20%20%20%20%20circle_marker_33c0380b48c44f589bced96f93088b26.bindPopup%28popup_670bc1f3ead3474486018f10b286cbac%29%0A%20%20%20%20%20%20%20%20%20%20%20%20%3B%0A%0A%20%20%20%20%20%20%20%20%20%20%20%20%0A%20%20%20%20%20%20%20%20%0A%20%20%20%20%0A%20%20%20%20%20%20%20%20%20%20%20%20var%20circle_marker_d1a8c2d3d27b42c1b0f686df33f87f26%20%3D%20L.circleMarker%28%0A%20%20%20%20%20%20%20%20%20%20%20%20%20%20%20%20%5B19.194807052612305%2C%2072.84165954589844%5D%2C%0A%20%20%20%20%20%20%20%20%20%20%20%20%20%20%20%20%7B%0A%20%20%22bubblingMouseEvents%22%3A%20true%2C%0A%20%20%22color%22%3A%20%22green%22%2C%0A%20%20%22dashArray%22%3A%20null%2C%0A%20%20%22dashOffset%22%3A%20null%2C%0A%20%20%22fill%22%3A%20true%2C%0A%20%20%22fillColor%22%3A%20%22green%22%2C%0A%20%20%22fillOpacity%22%3A%201%2C%0A%20%20%22fillRule%22%3A%20%22evenodd%22%2C%0A%20%20%22lineCap%22%3A%20%22round%22%2C%0A%20%20%22lineJoin%22%3A%20%22round%22%2C%0A%20%20%22opacity%22%3A%201.0%2C%0A%20%20%22radius%22%3A%205%2C%0A%20%20%22stroke%22%3A%20true%2C%0A%20%20%22weight%22%3A%203%0A%7D%0A%20%20%20%20%20%20%20%20%20%20%20%20%20%20%20%20%29%0A%20%20%20%20%20%20%20%20%20%20%20%20%20%20%20%20.addTo%28map_257216756e92412a8a1ec6ef68ef8bc0%29%3B%0A%20%20%20%20%20%20%20%20%20%20%20%20%0A%20%20%20%20%0A%20%20%20%20%20%20%20%20%20%20%20%20var%20popup_2d4293774d964688b317b52371f19c4c%20%3D%20L.popup%28%7BmaxWidth%3A%20%27300%27%0A%20%20%20%20%20%20%20%20%20%20%20%20%0A%20%20%20%20%20%20%20%20%20%20%20%20%7D%29%3B%0A%0A%20%20%20%20%20%20%20%20%20%20%20%20%0A%20%20%20%20%20%20%20%20%20%20%20%20%20%20%20%20var%20html_5db33bdc9ca440b382939f21161a8262%20%3D%20%24%28%60%3Cdiv%20id%3D%22html_5db33bdc9ca440b382939f21161a8262%22%20style%3D%22width%3A%20100.0%25%3B%20height%3A%20100.0%25%3B%22%3EKedarnath%20Apartment%3C/div%3E%60%29%5B0%5D%3B%0A%20%20%20%20%20%20%20%20%20%20%20%20%20%20%20%20popup_2d4293774d964688b317b52371f19c4c.setContent%28html_5db33bdc9ca440b382939f21161a8262%29%3B%0A%20%20%20%20%20%20%20%20%20%20%20%20%0A%0A%20%20%20%20%20%20%20%20%20%20%20%20circle_marker_d1a8c2d3d27b42c1b0f686df33f87f26.bindPopup%28popup_2d4293774d964688b317b52371f19c4c%29%0A%20%20%20%20%20%20%20%20%20%20%20%20%3B%0A%0A%20%20%20%20%20%20%20%20%20%20%20%20%0A%20%20%20%20%20%20%20%20%0A%20%20%20%20%0A%20%20%20%20%20%20%20%20%20%20%20%20var%20circle_marker_e59606134f3e483bae9720010cde7503%20%3D%20L.circleMarker%28%0A%20%20%20%20%20%20%20%20%20%20%20%20%20%20%20%20%5B19.194006%2C%2072.844417%5D%2C%0A%20%20%20%20%20%20%20%20%20%20%20%20%20%20%20%20%7B%0A%20%20%22bubblingMouseEvents%22%3A%20true%2C%0A%20%20%22color%22%3A%20%22green%22%2C%0A%20%20%22dashArray%22%3A%20null%2C%0A%20%20%22dashOffset%22%3A%20null%2C%0A%20%20%22fill%22%3A%20true%2C%0A%20%20%22fillColor%22%3A%20%22green%22%2C%0A%20%20%22fillOpacity%22%3A%201%2C%0A%20%20%22fillRule%22%3A%20%22evenodd%22%2C%0A%20%20%22lineCap%22%3A%20%22round%22%2C%0A%20%20%22lineJoin%22%3A%20%22round%22%2C%0A%20%20%22opacity%22%3A%201.0%2C%0A%20%20%22radius%22%3A%205%2C%0A%20%20%22stroke%22%3A%20true%2C%0A%20%20%22weight%22%3A%203%0A%7D%0A%20%20%20%20%20%20%20%20%20%20%20%20%20%20%20%20%29%0A%20%20%20%20%20%20%20%20%20%20%20%20%20%20%20%20.addTo%28map_257216756e92412a8a1ec6ef68ef8bc0%29%3B%0A%20%20%20%20%20%20%20%20%20%20%20%20%0A%20%20%20%20%0A%20%20%20%20%20%20%20%20%20%20%20%20var%20popup_fe08b61286cd4e6c87361886d6bcb400%20%3D%20L.popup%28%7BmaxWidth%3A%20%27300%27%0A%20%20%20%20%20%20%20%20%20%20%20%20%0A%20%20%20%20%20%20%20%20%20%20%20%20%7D%29%3B%0A%0A%20%20%20%20%20%20%20%20%20%20%20%20%0A%20%20%20%20%20%20%20%20%20%20%20%20%20%20%20%20var%20html_162c0fba268747fdaa46a37f49c65f29%20%3D%20%24%28%60%3Cdiv%20id%3D%22html_162c0fba268747fdaa46a37f49c65f29%22%20style%3D%22width%3A%20100.0%25%3B%20height%3A%20100.0%25%3B%22%3ELe%20Midas%20Apartment%3C/div%3E%60%29%5B0%5D%3B%0A%20%20%20%20%20%20%20%20%20%20%20%20%20%20%20%20popup_fe08b61286cd4e6c87361886d6bcb400.setContent%28html_162c0fba268747fdaa46a37f49c65f29%29%3B%0A%20%20%20%20%20%20%20%20%20%20%20%20%0A%0A%20%20%20%20%20%20%20%20%20%20%20%20circle_marker_e59606134f3e483bae9720010cde7503.bindPopup%28popup_fe08b61286cd4e6c87361886d6bcb400%29%0A%20%20%20%20%20%20%20%20%20%20%20%20%3B%0A%0A%20%20%20%20%20%20%20%20%20%20%20%20%0A%20%20%20%20%20%20%20%20%0A%20%20%20%20%0A%20%20%20%20%20%20%20%20%20%20%20%20var%20circle_marker_45064b6985ff4856a446cd40717bea90%20%3D%20L.circleMarker%28%0A%20%20%20%20%20%20%20%20%20%20%20%20%20%20%20%20%5B19.194887161254883%2C%2072.84161376953125%5D%2C%0A%20%20%20%20%20%20%20%20%20%20%20%20%20%20%20%20%7B%0A%20%20%22bubblingMouseEvents%22%3A%20true%2C%0A%20%20%22color%22%3A%20%22green%22%2C%0A%20%20%22dashArray%22%3A%20null%2C%0A%20%20%22dashOffset%22%3A%20null%2C%0A%20%20%22fill%22%3A%20true%2C%0A%20%20%22fillColor%22%3A%20%22green%22%2C%0A%20%20%22fillOpacity%22%3A%201%2C%0A%20%20%22fillRule%22%3A%20%22evenodd%22%2C%0A%20%20%22lineCap%22%3A%20%22round%22%2C%0A%20%20%22lineJoin%22%3A%20%22round%22%2C%0A%20%20%22opacity%22%3A%201.0%2C%0A%20%20%22radius%22%3A%205%2C%0A%20%20%22stroke%22%3A%20true%2C%0A%20%20%22weight%22%3A%203%0A%7D%0A%20%20%20%20%20%20%20%20%20%20%20%20%20%20%20%20%29%0A%20%20%20%20%20%20%20%20%20%20%20%20%20%20%20%20.addTo%28map_257216756e92412a8a1ec6ef68ef8bc0%29%3B%0A%20%20%20%20%20%20%20%20%20%20%20%20%0A%20%20%20%20%0A%20%20%20%20%20%20%20%20%20%20%20%20var%20popup_a41a63a3470c4d15b7059de372d57e59%20%3D%20L.popup%28%7BmaxWidth%3A%20%27300%27%0A%20%20%20%20%20%20%20%20%20%20%20%20%0A%20%20%20%20%20%20%20%20%20%20%20%20%7D%29%3B%0A%0A%20%20%20%20%20%20%20%20%20%20%20%20%0A%20%20%20%20%20%20%20%20%20%20%20%20%20%20%20%20var%20html_95f04a78a7434f29a9fd9c09bce2498e%20%3D%20%24%28%60%3Cdiv%20id%3D%22html_95f04a78a7434f29a9fd9c09bce2498e%22%20style%3D%22width%3A%20100.0%25%3B%20height%3A%20100.0%25%3B%22%3EGods%20Grace%20Apartment%3C/div%3E%60%29%5B0%5D%3B%0A%20%20%20%20%20%20%20%20%20%20%20%20%20%20%20%20popup_a41a63a3470c4d15b7059de372d57e59.setContent%28html_95f04a78a7434f29a9fd9c09bce2498e%29%3B%0A%20%20%20%20%20%20%20%20%20%20%20%20%0A%0A%20%20%20%20%20%20%20%20%20%20%20%20circle_marker_45064b6985ff4856a446cd40717bea90.bindPopup%28popup_a41a63a3470c4d15b7059de372d57e59%29%0A%20%20%20%20%20%20%20%20%20%20%20%20%3B%0A%0A%20%20%20%20%20%20%20%20%20%20%20%20%0A%20%20%20%20%20%20%20%20%0A%20%20%20%20%0A%20%20%20%20%20%20%20%20%20%20%20%20var%20circle_marker_32c4c037fdce4671a025bad4bbc5c79c%20%3D%20L.circleMarker%28%0A%20%20%20%20%20%20%20%20%20%20%20%20%20%20%20%20%5B19.195639985817756%2C%2072.83973634243011%5D%2C%0A%20%20%20%20%20%20%20%20%20%20%20%20%20%20%20%20%7B%0A%20%20%22bubblingMouseEvents%22%3A%20true%2C%0A%20%20%22color%22%3A%20%22green%22%2C%0A%20%20%22dashArray%22%3A%20null%2C%0A%20%20%22dashOffset%22%3A%20null%2C%0A%20%20%22fill%22%3A%20true%2C%0A%20%20%22fillColor%22%3A%20%22green%22%2C%0A%20%20%22fillOpacity%22%3A%201%2C%0A%20%20%22fillRule%22%3A%20%22evenodd%22%2C%0A%20%20%22lineCap%22%3A%20%22round%22%2C%0A%20%20%22lineJoin%22%3A%20%22round%22%2C%0A%20%20%22opacity%22%3A%201.0%2C%0A%20%20%22radius%22%3A%205%2C%0A%20%20%22stroke%22%3A%20true%2C%0A%20%20%22weight%22%3A%203%0A%7D%0A%20%20%20%20%20%20%20%20%20%20%20%20%20%20%20%20%29%0A%20%20%20%20%20%20%20%20%20%20%20%20%20%20%20%20.addTo%28map_257216756e92412a8a1ec6ef68ef8bc0%29%3B%0A%20%20%20%20%20%20%20%20%20%20%20%20%0A%20%20%20%20%0A%20%20%20%20%20%20%20%20%20%20%20%20var%20popup_4350637dc16b48cea9e0e15e5d918c14%20%3D%20L.popup%28%7BmaxWidth%3A%20%27300%27%0A%20%20%20%20%20%20%20%20%20%20%20%20%0A%20%20%20%20%20%20%20%20%20%20%20%20%7D%29%3B%0A%0A%20%20%20%20%20%20%20%20%20%20%20%20%0A%20%20%20%20%20%20%20%20%20%20%20%20%20%20%20%20var%20html_052402d6b25a4ff693ed66b906a90725%20%3D%20%24%28%60%3Cdiv%20id%3D%22html_052402d6b25a4ff693ed66b906a90725%22%20style%3D%22width%3A%20100.0%25%3B%20height%3A%20100.0%25%3B%22%3EZenith%20Apartment%3C/div%3E%60%29%5B0%5D%3B%0A%20%20%20%20%20%20%20%20%20%20%20%20%20%20%20%20popup_4350637dc16b48cea9e0e15e5d918c14.setContent%28html_052402d6b25a4ff693ed66b906a90725%29%3B%0A%20%20%20%20%20%20%20%20%20%20%20%20%0A%0A%20%20%20%20%20%20%20%20%20%20%20%20circle_marker_32c4c037fdce4671a025bad4bbc5c79c.bindPopup%28popup_4350637dc16b48cea9e0e15e5d918c14%29%0A%20%20%20%20%20%20%20%20%20%20%20%20%3B%0A%0A%20%20%20%20%20%20%20%20%20%20%20%20%0A%20%20%20%20%20%20%20%20%0A%20%20%20%20%0A%20%20%20%20%20%20%20%20%20%20%20%20var%20circle_marker_2b8f8a88d2cc4f90aaacbb426f41aa72%20%3D%20L.circleMarker%28%0A%20%20%20%20%20%20%20%20%20%20%20%20%20%20%20%20%5B19.201430509227116%2C%2072.8609848022461%5D%2C%0A%20%20%20%20%20%20%20%20%20%20%20%20%20%20%20%20%7B%0A%20%20%22bubblingMouseEvents%22%3A%20true%2C%0A%20%20%22color%22%3A%20%22green%22%2C%0A%20%20%22dashArray%22%3A%20null%2C%0A%20%20%22dashOffset%22%3A%20null%2C%0A%20%20%22fill%22%3A%20true%2C%0A%20%20%22fillColor%22%3A%20%22green%22%2C%0A%20%20%22fillOpacity%22%3A%201%2C%0A%20%20%22fillRule%22%3A%20%22evenodd%22%2C%0A%20%20%22lineCap%22%3A%20%22round%22%2C%0A%20%20%22lineJoin%22%3A%20%22round%22%2C%0A%20%20%22opacity%22%3A%201.0%2C%0A%20%20%22radius%22%3A%205%2C%0A%20%20%22stroke%22%3A%20true%2C%0A%20%20%22weight%22%3A%203%0A%7D%0A%20%20%20%20%20%20%20%20%20%20%20%20%20%20%20%20%29%0A%20%20%20%20%20%20%20%20%20%20%20%20%20%20%20%20.addTo%28map_257216756e92412a8a1ec6ef68ef8bc0%29%3B%0A%20%20%20%20%20%20%20%20%20%20%20%20%0A%20%20%20%20%0A%20%20%20%20%20%20%20%20%20%20%20%20var%20popup_99967dea40f84b8a82052ede095ac8e2%20%3D%20L.popup%28%7BmaxWidth%3A%20%27300%27%0A%20%20%20%20%20%20%20%20%20%20%20%20%0A%20%20%20%20%20%20%20%20%20%20%20%20%7D%29%3B%0A%0A%20%20%20%20%20%20%20%20%20%20%20%20%0A%20%20%20%20%20%20%20%20%20%20%20%20%20%20%20%20var%20html_b0ef971ccdb846b98b4cd6ff582a588c%20%3D%20%24%28%60%3Cdiv%20id%3D%22html_b0ef971ccdb846b98b4cd6ff582a588c%22%20style%3D%22width%3A%20100.0%25%3B%20height%3A%20100.0%25%3B%22%3EApartmentADDA%3C/div%3E%60%29%5B0%5D%3B%0A%20%20%20%20%20%20%20%20%20%20%20%20%20%20%20%20popup_99967dea40f84b8a82052ede095ac8e2.setContent%28html_b0ef971ccdb846b98b4cd6ff582a588c%29%3B%0A%20%20%20%20%20%20%20%20%20%20%20%20%0A%0A%20%20%20%20%20%20%20%20%20%20%20%20circle_marker_2b8f8a88d2cc4f90aaacbb426f41aa72.bindPopup%28popup_99967dea40f84b8a82052ede095ac8e2%29%0A%20%20%20%20%20%20%20%20%20%20%20%20%3B%0A%0A%20%20%20%20%20%20%20%20%20%20%20%20%0A%20%20%20%20%20%20%20%20%0A%20%20%20%20%0A%20%20%20%20%20%20%20%20%20%20%20%20var%20circle_marker_92a5e01ae0a84b1f9070c5d1fdd572d7%20%3D%20L.circleMarker%28%0A%20%20%20%20%20%20%20%20%20%20%20%20%20%20%20%20%5B19.206052728493162%2C%2072.8385575736148%5D%2C%0A%20%20%20%20%20%20%20%20%20%20%20%20%20%20%20%20%7B%0A%20%20%22bubblingMouseEvents%22%3A%20true%2C%0A%20%20%22color%22%3A%20%22green%22%2C%0A%20%20%22dashArray%22%3A%20null%2C%0A%20%20%22dashOffset%22%3A%20null%2C%0A%20%20%22fill%22%3A%20true%2C%0A%20%20%22fillColor%22%3A%20%22green%22%2C%0A%20%20%22fillOpacity%22%3A%201%2C%0A%20%20%22fillRule%22%3A%20%22evenodd%22%2C%0A%20%20%22lineCap%22%3A%20%22round%22%2C%0A%20%20%22lineJoin%22%3A%20%22round%22%2C%0A%20%20%22opacity%22%3A%201.0%2C%0A%20%20%22radius%22%3A%205%2C%0A%20%20%22stroke%22%3A%20true%2C%0A%20%20%22weight%22%3A%203%0A%7D%0A%20%20%20%20%20%20%20%20%20%20%20%20%20%20%20%20%29%0A%20%20%20%20%20%20%20%20%20%20%20%20%20%20%20%20.addTo%28map_257216756e92412a8a1ec6ef68ef8bc0%29%3B%0A%20%20%20%20%20%20%20%20%20%20%20%20%0A%20%20%20%20%0A%20%20%20%20%20%20%20%20%20%20%20%20var%20popup_cd37fe3992a44b1f90030b569a69b06e%20%3D%20L.popup%28%7BmaxWidth%3A%20%27300%27%0A%20%20%20%20%20%20%20%20%20%20%20%20%0A%20%20%20%20%20%20%20%20%20%20%20%20%7D%29%3B%0A%0A%20%20%20%20%20%20%20%20%20%20%20%20%0A%20%20%20%20%20%20%20%20%20%20%20%20%20%20%20%20var%20html_6bb338ba82014af0a9aeb016c404bc0b%20%3D%20%24%28%60%3Cdiv%20id%3D%22html_6bb338ba82014af0a9aeb016c404bc0b%22%20style%3D%22width%3A%20100.0%25%3B%20height%3A%20100.0%25%3B%22%3EJay%20Apartment%3C/div%3E%60%29%5B0%5D%3B%0A%20%20%20%20%20%20%20%20%20%20%20%20%20%20%20%20popup_cd37fe3992a44b1f90030b569a69b06e.setContent%28html_6bb338ba82014af0a9aeb016c404bc0b%29%3B%0A%20%20%20%20%20%20%20%20%20%20%20%20%0A%0A%20%20%20%20%20%20%20%20%20%20%20%20circle_marker_92a5e01ae0a84b1f9070c5d1fdd572d7.bindPopup%28popup_cd37fe3992a44b1f90030b569a69b06e%29%0A%20%20%20%20%20%20%20%20%20%20%20%20%3B%0A%0A%20%20%20%20%20%20%20%20%20%20%20%20%0A%20%20%20%20%20%20%20%20%0A%20%20%20%20%0A%20%20%20%20%20%20%20%20%20%20%20%20var%20circle_marker_7747b5460ad64f6f8cdb4b8822ed9719%20%3D%20L.circleMarker%28%0A%20%20%20%20%20%20%20%20%20%20%20%20%20%20%20%20%5B19.1872565%2C%2072.83544610000001%5D%2C%0A%20%20%20%20%20%20%20%20%20%20%20%20%20%20%20%20%7B%0A%20%20%22bubblingMouseEvents%22%3A%20true%2C%0A%20%20%22color%22%3A%20%22green%22%2C%0A%20%20%22dashArray%22%3A%20null%2C%0A%20%20%22dashOffset%22%3A%20null%2C%0A%20%20%22fill%22%3A%20true%2C%0A%20%20%22fillColor%22%3A%20%22green%22%2C%0A%20%20%22fillOpacity%22%3A%201%2C%0A%20%20%22fillRule%22%3A%20%22evenodd%22%2C%0A%20%20%22lineCap%22%3A%20%22round%22%2C%0A%20%20%22lineJoin%22%3A%20%22round%22%2C%0A%20%20%22opacity%22%3A%201.0%2C%0A%20%20%22radius%22%3A%205%2C%0A%20%20%22stroke%22%3A%20true%2C%0A%20%20%22weight%22%3A%203%0A%7D%0A%20%20%20%20%20%20%20%20%20%20%20%20%20%20%20%20%29%0A%20%20%20%20%20%20%20%20%20%20%20%20%20%20%20%20.addTo%28map_257216756e92412a8a1ec6ef68ef8bc0%29%3B%0A%20%20%20%20%20%20%20%20%20%20%20%20%0A%20%20%20%20%0A%20%20%20%20%20%20%20%20%20%20%20%20var%20popup_e3da38451af14dfd88ce9be9d94fc069%20%3D%20L.popup%28%7BmaxWidth%3A%20%27300%27%0A%20%20%20%20%20%20%20%20%20%20%20%20%0A%20%20%20%20%20%20%20%20%20%20%20%20%7D%29%3B%0A%0A%20%20%20%20%20%20%20%20%20%20%20%20%0A%20%20%20%20%20%20%20%20%20%20%20%20%20%20%20%20var%20html_979da77e985b4640bad58303d911f529%20%3D%20%24%28%60%3Cdiv%20id%3D%22html_979da77e985b4640bad58303d911f529%22%20style%3D%22width%3A%20100.0%25%3B%20height%3A%20100.0%25%3B%22%3EConcorde%20Service%20Apartment%3C/div%3E%60%29%5B0%5D%3B%0A%20%20%20%20%20%20%20%20%20%20%20%20%20%20%20%20popup_e3da38451af14dfd88ce9be9d94fc069.setContent%28html_979da77e985b4640bad58303d911f529%29%3B%0A%20%20%20%20%20%20%20%20%20%20%20%20%0A%0A%20%20%20%20%20%20%20%20%20%20%20%20circle_marker_7747b5460ad64f6f8cdb4b8822ed9719.bindPopup%28popup_e3da38451af14dfd88ce9be9d94fc069%29%0A%20%20%20%20%20%20%20%20%20%20%20%20%3B%0A%0A%20%20%20%20%20%20%20%20%20%20%20%20%0A%20%20%20%20%20%20%20%20%0A%20%20%20%20%0A%20%20%20%20%20%20%20%20%20%20%20%20var%20circle_marker_87e1083f46584401934020c9bc17625f%20%3D%20L.circleMarker%28%0A%20%20%20%20%20%20%20%20%20%20%20%20%20%20%20%20%5B19.184415967359175%2C%2072.83574189862772%5D%2C%0A%20%20%20%20%20%20%20%20%20%20%20%20%20%20%20%20%7B%0A%20%20%22bubblingMouseEvents%22%3A%20true%2C%0A%20%20%22color%22%3A%20%22green%22%2C%0A%20%20%22dashArray%22%3A%20null%2C%0A%20%20%22dashOffset%22%3A%20null%2C%0A%20%20%22fill%22%3A%20true%2C%0A%20%20%22fillColor%22%3A%20%22green%22%2C%0A%20%20%22fillOpacity%22%3A%201%2C%0A%20%20%22fillRule%22%3A%20%22evenodd%22%2C%0A%20%20%22lineCap%22%3A%20%22round%22%2C%0A%20%20%22lineJoin%22%3A%20%22round%22%2C%0A%20%20%22opacity%22%3A%201.0%2C%0A%20%20%22radius%22%3A%205%2C%0A%20%20%22stroke%22%3A%20true%2C%0A%20%20%22weight%22%3A%203%0A%7D%0A%20%20%20%20%20%20%20%20%20%20%20%20%20%20%20%20%29%0A%20%20%20%20%20%20%20%20%20%20%20%20%20%20%20%20.addTo%28map_257216756e92412a8a1ec6ef68ef8bc0%29%3B%0A%20%20%20%20%20%20%20%20%20%20%20%20%0A%20%20%20%20%0A%20%20%20%20%20%20%20%20%20%20%20%20var%20popup_24ae6c2c88434670a9f25b26d5eca804%20%3D%20L.popup%28%7BmaxWidth%3A%20%27300%27%0A%20%20%20%20%20%20%20%20%20%20%20%20%0A%20%20%20%20%20%20%20%20%20%20%20%20%7D%29%3B%0A%0A%20%20%20%20%20%20%20%20%20%20%20%20%0A%20%20%20%20%20%20%20%20%20%20%20%20%20%20%20%20var%20html_791329b5d899437699c62cee1f345078%20%3D%20%24%28%60%3Cdiv%20id%3D%22html_791329b5d899437699c62cee1f345078%22%20style%3D%22width%3A%20100.0%25%3B%20height%3A%20100.0%25%3B%22%3EConcorde%20Service%20Apartment%3C/div%3E%60%29%5B0%5D%3B%0A%20%20%20%20%20%20%20%20%20%20%20%20%20%20%20%20popup_24ae6c2c88434670a9f25b26d5eca804.setContent%28html_791329b5d899437699c62cee1f345078%29%3B%0A%20%20%20%20%20%20%20%20%20%20%20%20%0A%0A%20%20%20%20%20%20%20%20%20%20%20%20circle_marker_87e1083f46584401934020c9bc17625f.bindPopup%28popup_24ae6c2c88434670a9f25b26d5eca804%29%0A%20%20%20%20%20%20%20%20%20%20%20%20%3B%0A%0A%20%20%20%20%20%20%20%20%20%20%20%20%0A%20%20%20%20%20%20%20%20%0A%20%20%20%20%0A%20%20%20%20%20%20%20%20%20%20%20%20var%20circle_marker_b11444df796846789f97d850747c530b%20%3D%20L.circleMarker%28%0A%20%20%20%20%20%20%20%20%20%20%20%20%20%20%20%20%5B19.1767433%2C%2072.8386481%5D%2C%0A%20%20%20%20%20%20%20%20%20%20%20%20%20%20%20%20%7B%0A%20%20%22bubblingMouseEvents%22%3A%20true%2C%0A%20%20%22color%22%3A%20%22green%22%2C%0A%20%20%22dashArray%22%3A%20null%2C%0A%20%20%22dashOffset%22%3A%20null%2C%0A%20%20%22fill%22%3A%20true%2C%0A%20%20%22fillColor%22%3A%20%22green%22%2C%0A%20%20%22fillOpacity%22%3A%201%2C%0A%20%20%22fillRule%22%3A%20%22evenodd%22%2C%0A%20%20%22lineCap%22%3A%20%22round%22%2C%0A%20%20%22lineJoin%22%3A%20%22round%22%2C%0A%20%20%22opacity%22%3A%201.0%2C%0A%20%20%22radius%22%3A%205%2C%0A%20%20%22stroke%22%3A%20true%2C%0A%20%20%22weight%22%3A%203%0A%7D%0A%20%20%20%20%20%20%20%20%20%20%20%20%20%20%20%20%29%0A%20%20%20%20%20%20%20%20%20%20%20%20%20%20%20%20.addTo%28map_257216756e92412a8a1ec6ef68ef8bc0%29%3B%0A%20%20%20%20%20%20%20%20%20%20%20%20%0A%20%20%20%20%0A%20%20%20%20%20%20%20%20%20%20%20%20var%20popup_7fe4b66a8a974c61b741ba940a89ca55%20%3D%20L.popup%28%7BmaxWidth%3A%20%27300%27%0A%20%20%20%20%20%20%20%20%20%20%20%20%0A%20%20%20%20%20%20%20%20%20%20%20%20%7D%29%3B%0A%0A%20%20%20%20%20%20%20%20%20%20%20%20%0A%20%20%20%20%20%20%20%20%20%20%20%20%20%20%20%20var%20html_4023497c85224206af9bb003461d31b1%20%3D%20%24%28%60%3Cdiv%20id%3D%22html_4023497c85224206af9bb003461d31b1%22%20style%3D%22width%3A%20100.0%25%3B%20height%3A%20100.0%25%3B%22%3EShiv%20Bhakti%20Apartment%3C/div%3E%60%29%5B0%5D%3B%0A%20%20%20%20%20%20%20%20%20%20%20%20%20%20%20%20popup_7fe4b66a8a974c61b741ba940a89ca55.setContent%28html_4023497c85224206af9bb003461d31b1%29%3B%0A%20%20%20%20%20%20%20%20%20%20%20%20%0A%0A%20%20%20%20%20%20%20%20%20%20%20%20circle_marker_b11444df796846789f97d850747c530b.bindPopup%28popup_7fe4b66a8a974c61b741ba940a89ca55%29%0A%20%20%20%20%20%20%20%20%20%20%20%20%3B%0A%0A%20%20%20%20%20%20%20%20%20%20%20%20%0A%20%20%20%20%20%20%20%20%0A%20%20%20%20%0A%20%20%20%20%20%20%20%20%20%20%20%20var%20circle_marker_a76bb9b900844669b802ac77b6526c0a%20%3D%20L.circleMarker%28%0A%20%20%20%20%20%20%20%20%20%20%20%20%20%20%20%20%5B19.167709465908402%2C%2072.83913455217595%5D%2C%0A%20%20%20%20%20%20%20%20%20%20%20%20%20%20%20%20%7B%0A%20%20%22bubblingMouseEvents%22%3A%20true%2C%0A%20%20%22color%22%3A%20%22green%22%2C%0A%20%20%22dashArray%22%3A%20null%2C%0A%20%20%22dashOffset%22%3A%20null%2C%0A%20%20%22fill%22%3A%20true%2C%0A%20%20%22fillColor%22%3A%20%22green%22%2C%0A%20%20%22fillOpacity%22%3A%201%2C%0A%20%20%22fillRule%22%3A%20%22evenodd%22%2C%0A%20%20%22lineCap%22%3A%20%22round%22%2C%0A%20%20%22lineJoin%22%3A%20%22round%22%2C%0A%20%20%22opacity%22%3A%201.0%2C%0A%20%20%22radius%22%3A%205%2C%0A%20%20%22stroke%22%3A%20true%2C%0A%20%20%22weight%22%3A%203%0A%7D%0A%20%20%20%20%20%20%20%20%20%20%20%20%20%20%20%20%29%0A%20%20%20%20%20%20%20%20%20%20%20%20%20%20%20%20.addTo%28map_257216756e92412a8a1ec6ef68ef8bc0%29%3B%0A%20%20%20%20%20%20%20%20%20%20%20%20%0A%20%20%20%20%0A%20%20%20%20%20%20%20%20%20%20%20%20var%20popup_5cbf8c828dbc49d688bd81a90d2222d3%20%3D%20L.popup%28%7BmaxWidth%3A%20%27300%27%0A%20%20%20%20%20%20%20%20%20%20%20%20%0A%20%20%20%20%20%20%20%20%20%20%20%20%7D%29%3B%0A%0A%20%20%20%20%20%20%20%20%20%20%20%20%0A%20%20%20%20%20%20%20%20%20%20%20%20%20%20%20%20var%20html_bc28719bb0a5420d8e885f9a2078db58%20%3D%20%24%28%60%3Cdiv%20id%3D%22html_bc28719bb0a5420d8e885f9a2078db58%22%20style%3D%22width%3A%20100.0%25%3B%20height%3A%20100.0%25%3B%22%3EJai%20Vijayshree%20Apartment%3C/div%3E%60%29%5B0%5D%3B%0A%20%20%20%20%20%20%20%20%20%20%20%20%20%20%20%20popup_5cbf8c828dbc49d688bd81a90d2222d3.setContent%28html_bc28719bb0a5420d8e885f9a2078db58%29%3B%0A%20%20%20%20%20%20%20%20%20%20%20%20%0A%0A%20%20%20%20%20%20%20%20%20%20%20%20circle_marker_a76bb9b900844669b802ac77b6526c0a.bindPopup%28popup_5cbf8c828dbc49d688bd81a90d2222d3%29%0A%20%20%20%20%20%20%20%20%20%20%20%20%3B%0A%0A%20%20%20%20%20%20%20%20%20%20%20%20%0A%20%20%20%20%20%20%20%20%0A%20%20%20%20%0A%20%20%20%20%20%20%20%20%20%20%20%20var%20circle_marker_0008cd7bd6764f2bb1c0c4581f49f9ee%20%3D%20L.circleMarker%28%0A%20%20%20%20%20%20%20%20%20%20%20%20%20%20%20%20%5B19.198631857629632%2C%2072.85679520368848%5D%2C%0A%20%20%20%20%20%20%20%20%20%20%20%20%20%20%20%20%7B%0A%20%20%22bubblingMouseEvents%22%3A%20true%2C%0A%20%20%22color%22%3A%20%22green%22%2C%0A%20%20%22dashArray%22%3A%20null%2C%0A%20%20%22dashOffset%22%3A%20null%2C%0A%20%20%22fill%22%3A%20true%2C%0A%20%20%22fillColor%22%3A%20%22green%22%2C%0A%20%20%22fillOpacity%22%3A%201%2C%0A%20%20%22fillRule%22%3A%20%22evenodd%22%2C%0A%20%20%22lineCap%22%3A%20%22round%22%2C%0A%20%20%22lineJoin%22%3A%20%22round%22%2C%0A%20%20%22opacity%22%3A%201.0%2C%0A%20%20%22radius%22%3A%205%2C%0A%20%20%22stroke%22%3A%20true%2C%0A%20%20%22weight%22%3A%203%0A%7D%0A%20%20%20%20%20%20%20%20%20%20%20%20%20%20%20%20%29%0A%20%20%20%20%20%20%20%20%20%20%20%20%20%20%20%20.addTo%28map_257216756e92412a8a1ec6ef68ef8bc0%29%3B%0A%20%20%20%20%20%20%20%20%20%20%20%20%0A%20%20%20%20%0A%20%20%20%20%20%20%20%20%20%20%20%20var%20popup_97e74abbfb6940c39078912f140cbbfe%20%3D%20L.popup%28%7BmaxWidth%3A%20%27300%27%0A%20%20%20%20%20%20%20%20%20%20%20%20%0A%20%20%20%20%20%20%20%20%20%20%20%20%7D%29%3B%0A%0A%20%20%20%20%20%20%20%20%20%20%20%20%0A%20%20%20%20%20%20%20%20%20%20%20%20%20%20%20%20var%20html_b85cc6f666c2487785e95bcdec6b6d63%20%3D%20%24%28%60%3Cdiv%20id%3D%22html_b85cc6f666c2487785e95bcdec6b6d63%22%20style%3D%22width%3A%20100.0%25%3B%20height%3A%20100.0%25%3B%22%3EVideocon%20Apartments%3C/div%3E%60%29%5B0%5D%3B%0A%20%20%20%20%20%20%20%20%20%20%20%20%20%20%20%20popup_97e74abbfb6940c39078912f140cbbfe.setContent%28html_b85cc6f666c2487785e95bcdec6b6d63%29%3B%0A%20%20%20%20%20%20%20%20%20%20%20%20%0A%0A%20%20%20%20%20%20%20%20%20%20%20%20circle_marker_0008cd7bd6764f2bb1c0c4581f49f9ee.bindPopup%28popup_97e74abbfb6940c39078912f140cbbfe%29%0A%20%20%20%20%20%20%20%20%20%20%20%20%3B%0A%0A%20%20%20%20%20%20%20%20%20%20%20%20%0A%20%20%20%20%20%20%20%20%0A%20%20%20%20%0A%20%20%20%20%20%20%20%20%20%20%20%20var%20circle_marker_dd82bf02348a4e9cb996ee5225d6a0d9%20%3D%20L.circleMarker%28%0A%20%20%20%20%20%20%20%20%20%20%20%20%20%20%20%20%5B19.11921309395752%2C%2072.88749824034295%5D%2C%0A%20%20%20%20%20%20%20%20%20%20%20%20%20%20%20%20%7B%0A%20%20%22bubblingMouseEvents%22%3A%20true%2C%0A%20%20%22color%22%3A%20%22green%22%2C%0A%20%20%22dashArray%22%3A%20null%2C%0A%20%20%22dashOffset%22%3A%20null%2C%0A%20%20%22fill%22%3A%20true%2C%0A%20%20%22fillColor%22%3A%20%22green%22%2C%0A%20%20%22fillOpacity%22%3A%201%2C%0A%20%20%22fillRule%22%3A%20%22evenodd%22%2C%0A%20%20%22lineCap%22%3A%20%22round%22%2C%0A%20%20%22lineJoin%22%3A%20%22round%22%2C%0A%20%20%22opacity%22%3A%201.0%2C%0A%20%20%22radius%22%3A%205%2C%0A%20%20%22stroke%22%3A%20true%2C%0A%20%20%22weight%22%3A%203%0A%7D%0A%20%20%20%20%20%20%20%20%20%20%20%20%20%20%20%20%29%0A%20%20%20%20%20%20%20%20%20%20%20%20%20%20%20%20.addTo%28map_257216756e92412a8a1ec6ef68ef8bc0%29%3B%0A%20%20%20%20%20%20%20%20%20%20%20%20%0A%20%20%20%20%0A%20%20%20%20%20%20%20%20%20%20%20%20var%20popup_03b724fd3a3e4a6899e681625e98719b%20%3D%20L.popup%28%7BmaxWidth%3A%20%27300%27%0A%20%20%20%20%20%20%20%20%20%20%20%20%0A%20%20%20%20%20%20%20%20%20%20%20%20%7D%29%3B%0A%0A%20%20%20%20%20%20%20%20%20%20%20%20%0A%20%20%20%20%20%20%20%20%20%20%20%20%20%20%20%20var%20html_5c10c06cf7f44867b40b84cb67cd1266%20%3D%20%24%28%60%3Cdiv%20id%3D%22html_5c10c06cf7f44867b40b84cb67cd1266%22%20style%3D%22width%3A%20100.0%25%3B%20height%3A%20100.0%25%3B%22%3EAshok%20Tower%20Apartment%3C/div%3E%60%29%5B0%5D%3B%0A%20%20%20%20%20%20%20%20%20%20%20%20%20%20%20%20popup_03b724fd3a3e4a6899e681625e98719b.setContent%28html_5c10c06cf7f44867b40b84cb67cd1266%29%3B%0A%20%20%20%20%20%20%20%20%20%20%20%20%0A%0A%20%20%20%20%20%20%20%20%20%20%20%20circle_marker_dd82bf02348a4e9cb996ee5225d6a0d9.bindPopup%28popup_03b724fd3a3e4a6899e681625e98719b%29%0A%20%20%20%20%20%20%20%20%20%20%20%20%3B%0A%0A%20%20%20%20%20%20%20%20%20%20%20%20%0A%20%20%20%20%20%20%20%20%0A%20%20%20%20%0A%20%20%20%20%20%20%20%20%20%20%20%20var%20circle_marker_d524ccbe24e8456694762e8f577fa572%20%3D%20L.circleMarker%28%0A%20%20%20%20%20%20%20%20%20%20%20%20%20%20%20%20%5B19.23113%2C%2072.851473%5D%2C%0A%20%20%20%20%20%20%20%20%20%20%20%20%20%20%20%20%7B%0A%20%20%22bubblingMouseEvents%22%3A%20true%2C%0A%20%20%22color%22%3A%20%22red%22%2C%0A%20%20%22dashArray%22%3A%20null%2C%0A%20%20%22dashOffset%22%3A%20null%2C%0A%20%20%22fill%22%3A%20true%2C%0A%20%20%22fillColor%22%3A%20%22red%22%2C%0A%20%20%22fillOpacity%22%3A%201%2C%0A%20%20%22fillRule%22%3A%20%22evenodd%22%2C%0A%20%20%22lineCap%22%3A%20%22round%22%2C%0A%20%20%22lineJoin%22%3A%20%22round%22%2C%0A%20%20%22opacity%22%3A%201.0%2C%0A%20%20%22radius%22%3A%205%2C%0A%20%20%22stroke%22%3A%20true%2C%0A%20%20%22weight%22%3A%203%0A%7D%0A%20%20%20%20%20%20%20%20%20%20%20%20%20%20%20%20%29%0A%20%20%20%20%20%20%20%20%20%20%20%20%20%20%20%20.addTo%28map_257216756e92412a8a1ec6ef68ef8bc0%29%3B%0A%20%20%20%20%20%20%20%20%20%20%20%20%0A%20%20%20%20%0A%20%20%20%20%20%20%20%20%20%20%20%20var%20popup_2a95a8b083fd4a10a5ef02bb0b9d253f%20%3D%20L.popup%28%7BmaxWidth%3A%20%27300%27%0A%20%20%20%20%20%20%20%20%20%20%20%20%0A%20%20%20%20%20%20%20%20%20%20%20%20%7D%29%3B%0A%0A%20%20%20%20%20%20%20%20%20%20%20%20%0A%20%20%20%20%20%20%20%20%20%20%20%20%20%20%20%20var%20html_7f60fcd599ad44bcb980f7012ee2b2af%20%3D%20%24%28%60%3Cdiv%20id%3D%22html_7f60fcd599ad44bcb980f7012ee2b2af%22%20style%3D%22width%3A%20100.0%25%3B%20height%3A%20100.0%25%3B%22%3EJayesh%20Apartment%3C/div%3E%60%29%5B0%5D%3B%0A%20%20%20%20%20%20%20%20%20%20%20%20%20%20%20%20popup_2a95a8b083fd4a10a5ef02bb0b9d253f.setContent%28html_7f60fcd599ad44bcb980f7012ee2b2af%29%3B%0A%20%20%20%20%20%20%20%20%20%20%20%20%0A%0A%20%20%20%20%20%20%20%20%20%20%20%20circle_marker_d524ccbe24e8456694762e8f577fa572.bindPopup%28popup_2a95a8b083fd4a10a5ef02bb0b9d253f%29%0A%20%20%20%20%20%20%20%20%20%20%20%20%3B%0A%0A%20%20%20%20%20%20%20%20%20%20%20%20%0A%20%20%20%20%20%20%20%20%0A%20%20%20%20%0A%20%20%20%20%20%20%20%20%20%20%20%20var%20circle_marker_46d2ff9c62984fe9ba943e12af970c7a%20%3D%20L.circleMarker%28%0A%20%20%20%20%20%20%20%20%20%20%20%20%20%20%20%20%5B19.159676447391504%2C%2072.84055391361781%5D%2C%0A%20%20%20%20%20%20%20%20%20%20%20%20%20%20%20%20%7B%0A%20%20%22bubblingMouseEvents%22%3A%20true%2C%0A%20%20%22color%22%3A%20%22green%22%2C%0A%20%20%22dashArray%22%3A%20null%2C%0A%20%20%22dashOffset%22%3A%20null%2C%0A%20%20%22fill%22%3A%20true%2C%0A%20%20%22fillColor%22%3A%20%22green%22%2C%0A%20%20%22fillOpacity%22%3A%201%2C%0A%20%20%22fillRule%22%3A%20%22evenodd%22%2C%0A%20%20%22lineCap%22%3A%20%22round%22%2C%0A%20%20%22lineJoin%22%3A%20%22round%22%2C%0A%20%20%22opacity%22%3A%201.0%2C%0A%20%20%22radius%22%3A%205%2C%0A%20%20%22stroke%22%3A%20true%2C%0A%20%20%22weight%22%3A%203%0A%7D%0A%20%20%20%20%20%20%20%20%20%20%20%20%20%20%20%20%29%0A%20%20%20%20%20%20%20%20%20%20%20%20%20%20%20%20.addTo%28map_257216756e92412a8a1ec6ef68ef8bc0%29%3B%0A%20%20%20%20%20%20%20%20%20%20%20%20%0A%20%20%20%20%0A%20%20%20%20%20%20%20%20%20%20%20%20var%20popup_0cbdbdbace5f4cc3a69891b7464069e7%20%3D%20L.popup%28%7BmaxWidth%3A%20%27300%27%0A%20%20%20%20%20%20%20%20%20%20%20%20%0A%20%20%20%20%20%20%20%20%20%20%20%20%7D%29%3B%0A%0A%20%20%20%20%20%20%20%20%20%20%20%20%0A%20%20%20%20%20%20%20%20%20%20%20%20%20%20%20%20var%20html_a573923775ab4eb9b4b6f4119aabcc80%20%3D%20%24%28%60%3Cdiv%20id%3D%22html_a573923775ab4eb9b4b6f4119aabcc80%22%20style%3D%22width%3A%20100.0%25%3B%20height%3A%20100.0%25%3B%22%3EGeetasagar%20Apartment%3C/div%3E%60%29%5B0%5D%3B%0A%20%20%20%20%20%20%20%20%20%20%20%20%20%20%20%20popup_0cbdbdbace5f4cc3a69891b7464069e7.setContent%28html_a573923775ab4eb9b4b6f4119aabcc80%29%3B%0A%20%20%20%20%20%20%20%20%20%20%20%20%0A%0A%20%20%20%20%20%20%20%20%20%20%20%20circle_marker_46d2ff9c62984fe9ba943e12af970c7a.bindPopup%28popup_0cbdbdbace5f4cc3a69891b7464069e7%29%0A%20%20%20%20%20%20%20%20%20%20%20%20%3B%0A%0A%20%20%20%20%20%20%20%20%20%20%20%20%0A%20%20%20%20%20%20%20%20%0A%20%20%20%20%0A%20%20%20%20%20%20%20%20%20%20%20%20var%20circle_marker_8f4fa19b2c9f42a283dc975dd29496a3%20%3D%20L.circleMarker%28%0A%20%20%20%20%20%20%20%20%20%20%20%20%20%20%20%20%5B19.231604472717944%2C%2072.84651975695289%5D%2C%0A%20%20%20%20%20%20%20%20%20%20%20%20%20%20%20%20%7B%0A%20%20%22bubblingMouseEvents%22%3A%20true%2C%0A%20%20%22color%22%3A%20%22red%22%2C%0A%20%20%22dashArray%22%3A%20null%2C%0A%20%20%22dashOffset%22%3A%20null%2C%0A%20%20%22fill%22%3A%20true%2C%0A%20%20%22fillColor%22%3A%20%22red%22%2C%0A%20%20%22fillOpacity%22%3A%201%2C%0A%20%20%22fillRule%22%3A%20%22evenodd%22%2C%0A%20%20%22lineCap%22%3A%20%22round%22%2C%0A%20%20%22lineJoin%22%3A%20%22round%22%2C%0A%20%20%22opacity%22%3A%201.0%2C%0A%20%20%22radius%22%3A%205%2C%0A%20%20%22stroke%22%3A%20true%2C%0A%20%20%22weight%22%3A%203%0A%7D%0A%20%20%20%20%20%20%20%20%20%20%20%20%20%20%20%20%29%0A%20%20%20%20%20%20%20%20%20%20%20%20%20%20%20%20.addTo%28map_257216756e92412a8a1ec6ef68ef8bc0%29%3B%0A%20%20%20%20%20%20%20%20%20%20%20%20%0A%20%20%20%20%0A%20%20%20%20%20%20%20%20%20%20%20%20var%20popup_5451fca5956b4090bca3298b55ec739a%20%3D%20L.popup%28%7BmaxWidth%3A%20%27300%27%0A%20%20%20%20%20%20%20%20%20%20%20%20%0A%20%20%20%20%20%20%20%20%20%20%20%20%7D%29%3B%0A%0A%20%20%20%20%20%20%20%20%20%20%20%20%0A%20%20%20%20%20%20%20%20%20%20%20%20%20%20%20%20var%20html_1ed7235e8e674c258f5f66011ece4583%20%3D%20%24%28%60%3Cdiv%20id%3D%22html_1ed7235e8e674c258f5f66011ece4583%22%20style%3D%22width%3A%20100.0%25%3B%20height%3A%20100.0%25%3B%22%3EPriyesh%20apartment%2C%20CKP%20colony%3C/div%3E%60%29%5B0%5D%3B%0A%20%20%20%20%20%20%20%20%20%20%20%20%20%20%20%20popup_5451fca5956b4090bca3298b55ec739a.setContent%28html_1ed7235e8e674c258f5f66011ece4583%29%3B%0A%20%20%20%20%20%20%20%20%20%20%20%20%0A%0A%20%20%20%20%20%20%20%20%20%20%20%20circle_marker_8f4fa19b2c9f42a283dc975dd29496a3.bindPopup%28popup_5451fca5956b4090bca3298b55ec739a%29%0A%20%20%20%20%20%20%20%20%20%20%20%20%3B%0A%0A%20%20%20%20%20%20%20%20%20%20%20%20%0A%20%20%20%20%20%20%20%20%0A%20%20%20%20%0A%20%20%20%20%20%20%20%20%20%20%20%20var%20circle_marker_c464dd3896fe426bbf59a8684ffe11e7%20%3D%20L.circleMarker%28%0A%20%20%20%20%20%20%20%20%20%20%20%20%20%20%20%20%5B19.19247752305034%2C%2072.85149887388151%5D%2C%0A%20%20%20%20%20%20%20%20%20%20%20%20%20%20%20%20%7B%0A%20%20%22bubblingMouseEvents%22%3A%20true%2C%0A%20%20%22color%22%3A%20%22green%22%2C%0A%20%20%22dashArray%22%3A%20null%2C%0A%20%20%22dashOffset%22%3A%20null%2C%0A%20%20%22fill%22%3A%20true%2C%0A%20%20%22fillColor%22%3A%20%22green%22%2C%0A%20%20%22fillOpacity%22%3A%201%2C%0A%20%20%22fillRule%22%3A%20%22evenodd%22%2C%0A%20%20%22lineCap%22%3A%20%22round%22%2C%0A%20%20%22lineJoin%22%3A%20%22round%22%2C%0A%20%20%22opacity%22%3A%201.0%2C%0A%20%20%22radius%22%3A%205%2C%0A%20%20%22stroke%22%3A%20true%2C%0A%20%20%22weight%22%3A%203%0A%7D%0A%20%20%20%20%20%20%20%20%20%20%20%20%20%20%20%20%29%0A%20%20%20%20%20%20%20%20%20%20%20%20%20%20%20%20.addTo%28map_257216756e92412a8a1ec6ef68ef8bc0%29%3B%0A%20%20%20%20%20%20%20%20%20%20%20%20%0A%20%20%20%20%0A%20%20%20%20%20%20%20%20%20%20%20%20var%20popup_dbe6a060bff946b09351ad268b61b378%20%3D%20L.popup%28%7BmaxWidth%3A%20%27300%27%0A%20%20%20%20%20%20%20%20%20%20%20%20%0A%20%20%20%20%20%20%20%20%20%20%20%20%7D%29%3B%0A%0A%20%20%20%20%20%20%20%20%20%20%20%20%0A%20%20%20%20%20%20%20%20%20%20%20%20%20%20%20%20var%20html_4d9e6ee6976144749761552b4bdd24bd%20%3D%20%24%28%60%3Cdiv%20id%3D%22html_4d9e6ee6976144749761552b4bdd24bd%22%20style%3D%22width%3A%20100.0%25%3B%20height%3A%20100.0%25%3B%22%3EShreyas%20Apartments%3C/div%3E%60%29%5B0%5D%3B%0A%20%20%20%20%20%20%20%20%20%20%20%20%20%20%20%20popup_dbe6a060bff946b09351ad268b61b378.setContent%28html_4d9e6ee6976144749761552b4bdd24bd%29%3B%0A%20%20%20%20%20%20%20%20%20%20%20%20%0A%0A%20%20%20%20%20%20%20%20%20%20%20%20circle_marker_c464dd3896fe426bbf59a8684ffe11e7.bindPopup%28popup_dbe6a060bff946b09351ad268b61b378%29%0A%20%20%20%20%20%20%20%20%20%20%20%20%3B%0A%0A%20%20%20%20%20%20%20%20%20%20%20%20%0A%20%20%20%20%20%20%20%20%0A%20%20%20%20%0A%20%20%20%20%20%20%20%20%20%20%20%20var%20circle_marker_3b9c2d51e7c645ebaa8bf65c807860c2%20%3D%20L.circleMarker%28%0A%20%20%20%20%20%20%20%20%20%20%20%20%20%20%20%20%5B19.22495%2C%2072.8308667%5D%2C%0A%20%20%20%20%20%20%20%20%20%20%20%20%20%20%20%20%7B%0A%20%20%22bubblingMouseEvents%22%3A%20true%2C%0A%20%20%22color%22%3A%20%22red%22%2C%0A%20%20%22dashArray%22%3A%20null%2C%0A%20%20%22dashOffset%22%3A%20null%2C%0A%20%20%22fill%22%3A%20true%2C%0A%20%20%22fillColor%22%3A%20%22red%22%2C%0A%20%20%22fillOpacity%22%3A%201%2C%0A%20%20%22fillRule%22%3A%20%22evenodd%22%2C%0A%20%20%22lineCap%22%3A%20%22round%22%2C%0A%20%20%22lineJoin%22%3A%20%22round%22%2C%0A%20%20%22opacity%22%3A%201.0%2C%0A%20%20%22radius%22%3A%205%2C%0A%20%20%22stroke%22%3A%20true%2C%0A%20%20%22weight%22%3A%203%0A%7D%0A%20%20%20%20%20%20%20%20%20%20%20%20%20%20%20%20%29%0A%20%20%20%20%20%20%20%20%20%20%20%20%20%20%20%20.addTo%28map_257216756e92412a8a1ec6ef68ef8bc0%29%3B%0A%20%20%20%20%20%20%20%20%20%20%20%20%0A%20%20%20%20%0A%20%20%20%20%20%20%20%20%20%20%20%20var%20popup_744a9122d73b4167a31f9586c8ba96f7%20%3D%20L.popup%28%7BmaxWidth%3A%20%27300%27%0A%20%20%20%20%20%20%20%20%20%20%20%20%0A%20%20%20%20%20%20%20%20%20%20%20%20%7D%29%3B%0A%0A%20%20%20%20%20%20%20%20%20%20%20%20%0A%20%20%20%20%20%20%20%20%20%20%20%20%20%20%20%20var%20html_3e89d8efcd1242f9a69e8b68a49e3e46%20%3D%20%24%28%60%3Cdiv%20id%3D%22html_3e89d8efcd1242f9a69e8b68a49e3e46%22%20style%3D%22width%3A%20100.0%25%3B%20height%3A%20100.0%25%3B%22%3EMy%20Apartment%3C/div%3E%60%29%5B0%5D%3B%0A%20%20%20%20%20%20%20%20%20%20%20%20%20%20%20%20popup_744a9122d73b4167a31f9586c8ba96f7.setContent%28html_3e89d8efcd1242f9a69e8b68a49e3e46%29%3B%0A%20%20%20%20%20%20%20%20%20%20%20%20%0A%0A%20%20%20%20%20%20%20%20%20%20%20%20circle_marker_3b9c2d51e7c645ebaa8bf65c807860c2.bindPopup%28popup_744a9122d73b4167a31f9586c8ba96f7%29%0A%20%20%20%20%20%20%20%20%20%20%20%20%3B%0A%0A%20%20%20%20%20%20%20%20%20%20%20%20%0A%20%20%20%20%20%20%20%20%0A%20%20%20%20%0A%20%20%20%20%20%20%20%20%20%20%20%20var%20circle_marker_3457a91ec83c4e918d4e88426f792477%20%3D%20L.circleMarker%28%0A%20%20%20%20%20%20%20%20%20%20%20%20%20%20%20%20%5B19.244539273423708%2C%2072.85129694180866%5D%2C%0A%20%20%20%20%20%20%20%20%20%20%20%20%20%20%20%20%7B%0A%20%20%22bubblingMouseEvents%22%3A%20true%2C%0A%20%20%22color%22%3A%20%22red%22%2C%0A%20%20%22dashArray%22%3A%20null%2C%0A%20%20%22dashOffset%22%3A%20null%2C%0A%20%20%22fill%22%3A%20true%2C%0A%20%20%22fillColor%22%3A%20%22red%22%2C%0A%20%20%22fillOpacity%22%3A%201%2C%0A%20%20%22fillRule%22%3A%20%22evenodd%22%2C%0A%20%20%22lineCap%22%3A%20%22round%22%2C%0A%20%20%22lineJoin%22%3A%20%22round%22%2C%0A%20%20%22opacity%22%3A%201.0%2C%0A%20%20%22radius%22%3A%205%2C%0A%20%20%22stroke%22%3A%20true%2C%0A%20%20%22weight%22%3A%203%0A%7D%0A%20%20%20%20%20%20%20%20%20%20%20%20%20%20%20%20%29%0A%20%20%20%20%20%20%20%20%20%20%20%20%20%20%20%20.addTo%28map_257216756e92412a8a1ec6ef68ef8bc0%29%3B%0A%20%20%20%20%20%20%20%20%20%20%20%20%0A%20%20%20%20%0A%20%20%20%20%20%20%20%20%20%20%20%20var%20popup_e06bfbd88a2248a9993465f72ed5203b%20%3D%20L.popup%28%7BmaxWidth%3A%20%27300%27%0A%20%20%20%20%20%20%20%20%20%20%20%20%0A%20%20%20%20%20%20%20%20%20%20%20%20%7D%29%3B%0A%0A%20%20%20%20%20%20%20%20%20%20%20%20%0A%20%20%20%20%20%20%20%20%20%20%20%20%20%20%20%20var%20html_db989c99aa1848689ee0f7c1022087d7%20%3D%20%24%28%60%3Cdiv%20id%3D%22html_db989c99aa1848689ee0f7c1022087d7%22%20style%3D%22width%3A%20100.0%25%3B%20height%3A%20100.0%25%3B%22%3ETheresa%20apartment%2C%20LIC%20colony%3C/div%3E%60%29%5B0%5D%3B%0A%20%20%20%20%20%20%20%20%20%20%20%20%20%20%20%20popup_e06bfbd88a2248a9993465f72ed5203b.setContent%28html_db989c99aa1848689ee0f7c1022087d7%29%3B%0A%20%20%20%20%20%20%20%20%20%20%20%20%0A%0A%20%20%20%20%20%20%20%20%20%20%20%20circle_marker_3457a91ec83c4e918d4e88426f792477.bindPopup%28popup_e06bfbd88a2248a9993465f72ed5203b%29%0A%20%20%20%20%20%20%20%20%20%20%20%20%3B%0A%0A%20%20%20%20%20%20%20%20%20%20%20%20%0A%20%20%20%20%20%20%20%20%0A%20%20%20%20%0A%20%20%20%20%20%20%20%20%20%20%20%20var%20circle_marker_623751f0893b483188eb025c314e3b1f%20%3D%20L.circleMarker%28%0A%20%20%20%20%20%20%20%20%20%20%20%20%20%20%20%20%5B19.198813117456606%2C%2072.84853910983807%5D%2C%0A%20%20%20%20%20%20%20%20%20%20%20%20%20%20%20%20%7B%0A%20%20%22bubblingMouseEvents%22%3A%20true%2C%0A%20%20%22color%22%3A%20%22green%22%2C%0A%20%20%22dashArray%22%3A%20null%2C%0A%20%20%22dashOffset%22%3A%20null%2C%0A%20%20%22fill%22%3A%20true%2C%0A%20%20%22fillColor%22%3A%20%22green%22%2C%0A%20%20%22fillOpacity%22%3A%201%2C%0A%20%20%22fillRule%22%3A%20%22evenodd%22%2C%0A%20%20%22lineCap%22%3A%20%22round%22%2C%0A%20%20%22lineJoin%22%3A%20%22round%22%2C%0A%20%20%22opacity%22%3A%201.0%2C%0A%20%20%22radius%22%3A%205%2C%0A%20%20%22stroke%22%3A%20true%2C%0A%20%20%22weight%22%3A%203%0A%7D%0A%20%20%20%20%20%20%20%20%20%20%20%20%20%20%20%20%29%0A%20%20%20%20%20%20%20%20%20%20%20%20%20%20%20%20.addTo%28map_257216756e92412a8a1ec6ef68ef8bc0%29%3B%0A%20%20%20%20%20%20%20%20%20%20%20%20%0A%20%20%20%20%0A%20%20%20%20%20%20%20%20%20%20%20%20var%20popup_ec110978fad84b2996342cbd92e63ff6%20%3D%20L.popup%28%7BmaxWidth%3A%20%27300%27%0A%20%20%20%20%20%20%20%20%20%20%20%20%0A%20%20%20%20%20%20%20%20%20%20%20%20%7D%29%3B%0A%0A%20%20%20%20%20%20%20%20%20%20%20%20%0A%20%20%20%20%20%20%20%20%20%20%20%20%20%20%20%20var%20html_023c72e7225e41a0aaa3a62b802da831%20%3D%20%24%28%60%3Cdiv%20id%3D%22html_023c72e7225e41a0aaa3a62b802da831%22%20style%3D%22width%3A%20100.0%25%3B%20height%3A%20100.0%25%3B%22%3EBhoumik%20Apartments%3C/div%3E%60%29%5B0%5D%3B%0A%20%20%20%20%20%20%20%20%20%20%20%20%20%20%20%20popup_ec110978fad84b2996342cbd92e63ff6.setContent%28html_023c72e7225e41a0aaa3a62b802da831%29%3B%0A%20%20%20%20%20%20%20%20%20%20%20%20%0A%0A%20%20%20%20%20%20%20%20%20%20%20%20circle_marker_623751f0893b483188eb025c314e3b1f.bindPopup%28popup_ec110978fad84b2996342cbd92e63ff6%29%0A%20%20%20%20%20%20%20%20%20%20%20%20%3B%0A%0A%20%20%20%20%20%20%20%20%20%20%20%20%0A%20%20%20%20%20%20%20%20%0A%20%20%20%20%0A%20%20%20%20%20%20%20%20%20%20%20%20var%20circle_marker_ab0388f0c93045ecb0858f8c13dd09f0%20%3D%20L.circleMarker%28%0A%20%20%20%20%20%20%20%20%20%20%20%20%20%20%20%20%5B19.207284003872434%2C%2072.86481448068679%5D%2C%0A%20%20%20%20%20%20%20%20%20%20%20%20%20%20%20%20%7B%0A%20%20%22bubblingMouseEvents%22%3A%20true%2C%0A%20%20%22color%22%3A%20%22green%22%2C%0A%20%20%22dashArray%22%3A%20null%2C%0A%20%20%22dashOffset%22%3A%20null%2C%0A%20%20%22fill%22%3A%20true%2C%0A%20%20%22fillColor%22%3A%20%22green%22%2C%0A%20%20%22fillOpacity%22%3A%201%2C%0A%20%20%22fillRule%22%3A%20%22evenodd%22%2C%0A%20%20%22lineCap%22%3A%20%22round%22%2C%0A%20%20%22lineJoin%22%3A%20%22round%22%2C%0A%20%20%22opacity%22%3A%201.0%2C%0A%20%20%22radius%22%3A%205%2C%0A%20%20%22stroke%22%3A%20true%2C%0A%20%20%22weight%22%3A%203%0A%7D%0A%20%20%20%20%20%20%20%20%20%20%20%20%20%20%20%20%29%0A%20%20%20%20%20%20%20%20%20%20%20%20%20%20%20%20.addTo%28map_257216756e92412a8a1ec6ef68ef8bc0%29%3B%0A%20%20%20%20%20%20%20%20%20%20%20%20%0A%20%20%20%20%0A%20%20%20%20%20%20%20%20%20%20%20%20var%20popup_08517d5b912b4f7f83f7ef177746613b%20%3D%20L.popup%28%7BmaxWidth%3A%20%27300%27%0A%20%20%20%20%20%20%20%20%20%20%20%20%0A%20%20%20%20%20%20%20%20%20%20%20%20%7D%29%3B%0A%0A%20%20%20%20%20%20%20%20%20%20%20%20%0A%20%20%20%20%20%20%20%20%20%20%20%20%20%20%20%20var%20html_dd2f3526c596495588383d45e9cf905f%20%3D%20%24%28%60%3Cdiv%20id%3D%22html_dd2f3526c596495588383d45e9cf905f%22%20style%3D%22width%3A%20100.0%25%3B%20height%3A%20100.0%25%3B%22%3EAnant%20Apartments%3C/div%3E%60%29%5B0%5D%3B%0A%20%20%20%20%20%20%20%20%20%20%20%20%20%20%20%20popup_08517d5b912b4f7f83f7ef177746613b.setContent%28html_dd2f3526c596495588383d45e9cf905f%29%3B%0A%20%20%20%20%20%20%20%20%20%20%20%20%0A%0A%20%20%20%20%20%20%20%20%20%20%20%20circle_marker_ab0388f0c93045ecb0858f8c13dd09f0.bindPopup%28popup_08517d5b912b4f7f83f7ef177746613b%29%0A%20%20%20%20%20%20%20%20%20%20%20%20%3B%0A%0A%20%20%20%20%20%20%20%20%20%20%20%20%0A%20%20%20%20%20%20%20%20%0A%20%20%20%20%0A%20%20%20%20%20%20%20%20%20%20%20%20var%20circle_marker_3f1ecf8e9c0c4a9398e70e0e2b16e94b%20%3D%20L.circleMarker%28%0A%20%20%20%20%20%20%20%20%20%20%20%20%20%20%20%20%5B19.247247%2C%2072.851287%5D%2C%0A%20%20%20%20%20%20%20%20%20%20%20%20%20%20%20%20%7B%0A%20%20%22bubblingMouseEvents%22%3A%20true%2C%0A%20%20%22color%22%3A%20%22red%22%2C%0A%20%20%22dashArray%22%3A%20null%2C%0A%20%20%22dashOffset%22%3A%20null%2C%0A%20%20%22fill%22%3A%20true%2C%0A%20%20%22fillColor%22%3A%20%22red%22%2C%0A%20%20%22fillOpacity%22%3A%201%2C%0A%20%20%22fillRule%22%3A%20%22evenodd%22%2C%0A%20%20%22lineCap%22%3A%20%22round%22%2C%0A%20%20%22lineJoin%22%3A%20%22round%22%2C%0A%20%20%22opacity%22%3A%201.0%2C%0A%20%20%22radius%22%3A%205%2C%0A%20%20%22stroke%22%3A%20true%2C%0A%20%20%22weight%22%3A%203%0A%7D%0A%20%20%20%20%20%20%20%20%20%20%20%20%20%20%20%20%29%0A%20%20%20%20%20%20%20%20%20%20%20%20%20%20%20%20.addTo%28map_257216756e92412a8a1ec6ef68ef8bc0%29%3B%0A%20%20%20%20%20%20%20%20%20%20%20%20%0A%20%20%20%20%0A%20%20%20%20%20%20%20%20%20%20%20%20var%20popup_64079959f379437e978fdfcafb2b45d6%20%3D%20L.popup%28%7BmaxWidth%3A%20%27300%27%0A%20%20%20%20%20%20%20%20%20%20%20%20%0A%20%20%20%20%20%20%20%20%20%20%20%20%7D%29%3B%0A%0A%20%20%20%20%20%20%20%20%20%20%20%20%0A%20%20%20%20%20%20%20%20%20%20%20%20%20%20%20%20var%20html_2763d28289f14fb8a771a415d8a1e5e7%20%3D%20%24%28%60%3Cdiv%20id%3D%22html_2763d28289f14fb8a771a415d8a1e5e7%22%20style%3D%22width%3A%20100.0%25%3B%20height%3A%20100.0%25%3B%22%3ERosemar%20Apartment%3C/div%3E%60%29%5B0%5D%3B%0A%20%20%20%20%20%20%20%20%20%20%20%20%20%20%20%20popup_64079959f379437e978fdfcafb2b45d6.setContent%28html_2763d28289f14fb8a771a415d8a1e5e7%29%3B%0A%20%20%20%20%20%20%20%20%20%20%20%20%0A%0A%20%20%20%20%20%20%20%20%20%20%20%20circle_marker_3f1ecf8e9c0c4a9398e70e0e2b16e94b.bindPopup%28popup_64079959f379437e978fdfcafb2b45d6%29%0A%20%20%20%20%20%20%20%20%20%20%20%20%3B%0A%0A%20%20%20%20%20%20%20%20%20%20%20%20%0A%20%20%20%20%20%20%20%20%0A%20%20%20%20%0A%20%20%20%20%20%20%20%20%20%20%20%20var%20circle_marker_e4eba263ad544b11ad9885beb1453eff%20%3D%20L.circleMarker%28%0A%20%20%20%20%20%20%20%20%20%20%20%20%20%20%20%20%5B19.198903%2C%2072.846855%5D%2C%0A%20%20%20%20%20%20%20%20%20%20%20%20%20%20%20%20%7B%0A%20%20%22bubblingMouseEvents%22%3A%20true%2C%0A%20%20%22color%22%3A%20%22green%22%2C%0A%20%20%22dashArray%22%3A%20null%2C%0A%20%20%22dashOffset%22%3A%20null%2C%0A%20%20%22fill%22%3A%20true%2C%0A%20%20%22fillColor%22%3A%20%22green%22%2C%0A%20%20%22fillOpacity%22%3A%201%2C%0A%20%20%22fillRule%22%3A%20%22evenodd%22%2C%0A%20%20%22lineCap%22%3A%20%22round%22%2C%0A%20%20%22lineJoin%22%3A%20%22round%22%2C%0A%20%20%22opacity%22%3A%201.0%2C%0A%20%20%22radius%22%3A%205%2C%0A%20%20%22stroke%22%3A%20true%2C%0A%20%20%22weight%22%3A%203%0A%7D%0A%20%20%20%20%20%20%20%20%20%20%20%20%20%20%20%20%29%0A%20%20%20%20%20%20%20%20%20%20%20%20%20%20%20%20.addTo%28map_257216756e92412a8a1ec6ef68ef8bc0%29%3B%0A%20%20%20%20%20%20%20%20%20%20%20%20%0A%20%20%20%20%0A%20%20%20%20%20%20%20%20%20%20%20%20var%20popup_0a2cd8046d2446759acf0ed21507dae8%20%3D%20L.popup%28%7BmaxWidth%3A%20%27300%27%0A%20%20%20%20%20%20%20%20%20%20%20%20%0A%20%20%20%20%20%20%20%20%20%20%20%20%7D%29%3B%0A%0A%20%20%20%20%20%20%20%20%20%20%20%20%0A%20%20%20%20%20%20%20%20%20%20%20%20%20%20%20%20var%20html_e42661a530f740dfb3ce0fa059b037f7%20%3D%20%24%28%60%3Cdiv%20id%3D%22html_e42661a530f740dfb3ce0fa059b037f7%22%20style%3D%22width%3A%20100.0%25%3B%20height%3A%20100.0%25%3B%22%3EKoshal%20Apartments%3C/div%3E%60%29%5B0%5D%3B%0A%20%20%20%20%20%20%20%20%20%20%20%20%20%20%20%20popup_0a2cd8046d2446759acf0ed21507dae8.setContent%28html_e42661a530f740dfb3ce0fa059b037f7%29%3B%0A%20%20%20%20%20%20%20%20%20%20%20%20%0A%0A%20%20%20%20%20%20%20%20%20%20%20%20circle_marker_e4eba263ad544b11ad9885beb1453eff.bindPopup%28popup_0a2cd8046d2446759acf0ed21507dae8%29%0A%20%20%20%20%20%20%20%20%20%20%20%20%3B%0A%0A%20%20%20%20%20%20%20%20%20%20%20%20%0A%20%20%20%20%20%20%20%20%0A%20%20%20%20%0A%20%20%20%20%20%20%20%20%20%20%20%20var%20circle_marker_b00695526fb14694922ec37f3cd2d707%20%3D%20L.circleMarker%28%0A%20%20%20%20%20%20%20%20%20%20%20%20%20%20%20%20%5B19.201912%2C%2072.84802%5D%2C%0A%20%20%20%20%20%20%20%20%20%20%20%20%20%20%20%20%7B%0A%20%20%22bubblingMouseEvents%22%3A%20true%2C%0A%20%20%22color%22%3A%20%22green%22%2C%0A%20%20%22dashArray%22%3A%20null%2C%0A%20%20%22dashOffset%22%3A%20null%2C%0A%20%20%22fill%22%3A%20true%2C%0A%20%20%22fillColor%22%3A%20%22green%22%2C%0A%20%20%22fillOpacity%22%3A%201%2C%0A%20%20%22fillRule%22%3A%20%22evenodd%22%2C%0A%20%20%22lineCap%22%3A%20%22round%22%2C%0A%20%20%22lineJoin%22%3A%20%22round%22%2C%0A%20%20%22opacity%22%3A%201.0%2C%0A%20%20%22radius%22%3A%205%2C%0A%20%20%22stroke%22%3A%20true%2C%0A%20%20%22weight%22%3A%203%0A%7D%0A%20%20%20%20%20%20%20%20%20%20%20%20%20%20%20%20%29%0A%20%20%20%20%20%20%20%20%20%20%20%20%20%20%20%20.addTo%28map_257216756e92412a8a1ec6ef68ef8bc0%29%3B%0A%20%20%20%20%20%20%20%20%20%20%20%20%0A%20%20%20%20%0A%20%20%20%20%20%20%20%20%20%20%20%20var%20popup_1c56eb1a7f584ee2b6b7d3ff3f0ed046%20%3D%20L.popup%28%7BmaxWidth%3A%20%27300%27%0A%20%20%20%20%20%20%20%20%20%20%20%20%0A%20%20%20%20%20%20%20%20%20%20%20%20%7D%29%3B%0A%0A%20%20%20%20%20%20%20%20%20%20%20%20%0A%20%20%20%20%20%20%20%20%20%20%20%20%20%20%20%20var%20html_30387095a64743329d24248046ca089a%20%3D%20%24%28%60%3Cdiv%20id%3D%22html_30387095a64743329d24248046ca089a%22%20style%3D%22width%3A%20100.0%25%3B%20height%3A%20100.0%25%3B%22%3ESiddarth%20Apartments%3C/div%3E%60%29%5B0%5D%3B%0A%20%20%20%20%20%20%20%20%20%20%20%20%20%20%20%20popup_1c56eb1a7f584ee2b6b7d3ff3f0ed046.setContent%28html_30387095a64743329d24248046ca089a%29%3B%0A%20%20%20%20%20%20%20%20%20%20%20%20%0A%0A%20%20%20%20%20%20%20%20%20%20%20%20circle_marker_b00695526fb14694922ec37f3cd2d707.bindPopup%28popup_1c56eb1a7f584ee2b6b7d3ff3f0ed046%29%0A%20%20%20%20%20%20%20%20%20%20%20%20%3B%0A%0A%20%20%20%20%20%20%20%20%20%20%20%20%0A%20%20%20%20%20%20%20%20%0A%20%20%20%20%0A%20%20%20%20%20%20%20%20%20%20%20%20var%20circle_marker_7450ec398c5a4986b9582722e7185b0a%20%3D%20L.circleMarker%28%0A%20%20%20%20%20%20%20%20%20%20%20%20%20%20%20%20%5B19.144622%2C%2072.827577%5D%2C%0A%20%20%20%20%20%20%20%20%20%20%20%20%20%20%20%20%7B%0A%20%20%22bubblingMouseEvents%22%3A%20true%2C%0A%20%20%22color%22%3A%20%22green%22%2C%0A%20%20%22dashArray%22%3A%20null%2C%0A%20%20%22dashOffset%22%3A%20null%2C%0A%20%20%22fill%22%3A%20true%2C%0A%20%20%22fillColor%22%3A%20%22green%22%2C%0A%20%20%22fillOpacity%22%3A%201%2C%0A%20%20%22fillRule%22%3A%20%22evenodd%22%2C%0A%20%20%22lineCap%22%3A%20%22round%22%2C%0A%20%20%22lineJoin%22%3A%20%22round%22%2C%0A%20%20%22opacity%22%3A%201.0%2C%0A%20%20%22radius%22%3A%205%2C%0A%20%20%22stroke%22%3A%20true%2C%0A%20%20%22weight%22%3A%203%0A%7D%0A%20%20%20%20%20%20%20%20%20%20%20%20%20%20%20%20%29%0A%20%20%20%20%20%20%20%20%20%20%20%20%20%20%20%20.addTo%28map_257216756e92412a8a1ec6ef68ef8bc0%29%3B%0A%20%20%20%20%20%20%20%20%20%20%20%20%0A%20%20%20%20%0A%20%20%20%20%20%20%20%20%20%20%20%20var%20popup_2a9fe2df97054956b6cdc4cbd491cbb8%20%3D%20L.popup%28%7BmaxWidth%3A%20%27300%27%0A%20%20%20%20%20%20%20%20%20%20%20%20%0A%20%20%20%20%20%20%20%20%20%20%20%20%7D%29%3B%0A%0A%20%20%20%20%20%20%20%20%20%20%20%20%0A%20%20%20%20%20%20%20%20%20%20%20%20%20%20%20%20var%20html_9e62272d227a48a6a3db2dfc3a8b831d%20%3D%20%24%28%60%3Cdiv%20id%3D%22html_9e62272d227a48a6a3db2dfc3a8b831d%22%20style%3D%22width%3A%20100.0%25%3B%20height%3A%20100.0%25%3B%22%3ESaloni%27s%20Apartment%3C/div%3E%60%29%5B0%5D%3B%0A%20%20%20%20%20%20%20%20%20%20%20%20%20%20%20%20popup_2a9fe2df97054956b6cdc4cbd491cbb8.setContent%28html_9e62272d227a48a6a3db2dfc3a8b831d%29%3B%0A%20%20%20%20%20%20%20%20%20%20%20%20%0A%0A%20%20%20%20%20%20%20%20%20%20%20%20circle_marker_7450ec398c5a4986b9582722e7185b0a.bindPopup%28popup_2a9fe2df97054956b6cdc4cbd491cbb8%29%0A%20%20%20%20%20%20%20%20%20%20%20%20%3B%0A%0A%20%20%20%20%20%20%20%20%20%20%20%20%0A%20%20%20%20%20%20%20%20%0A%20%20%20%20%0A%20%20%20%20%20%20%20%20%20%20%20%20var%20circle_marker_4e3bec34bb744ee8ab38d6fa10313b8c%20%3D%20L.circleMarker%28%0A%20%20%20%20%20%20%20%20%20%20%20%20%20%20%20%20%5B19.20988405149566%2C%2072.85321240499727%5D%2C%0A%20%20%20%20%20%20%20%20%20%20%20%20%20%20%20%20%7B%0A%20%20%22bubblingMouseEvents%22%3A%20true%2C%0A%20%20%22color%22%3A%20%22green%22%2C%0A%20%20%22dashArray%22%3A%20null%2C%0A%20%20%22dashOffset%22%3A%20null%2C%0A%20%20%22fill%22%3A%20true%2C%0A%20%20%22fillColor%22%3A%20%22green%22%2C%0A%20%20%22fillOpacity%22%3A%201%2C%0A%20%20%22fillRule%22%3A%20%22evenodd%22%2C%0A%20%20%22lineCap%22%3A%20%22round%22%2C%0A%20%20%22lineJoin%22%3A%20%22round%22%2C%0A%20%20%22opacity%22%3A%201.0%2C%0A%20%20%22radius%22%3A%205%2C%0A%20%20%22stroke%22%3A%20true%2C%0A%20%20%22weight%22%3A%203%0A%7D%0A%20%20%20%20%20%20%20%20%20%20%20%20%20%20%20%20%29%0A%20%20%20%20%20%20%20%20%20%20%20%20%20%20%20%20.addTo%28map_257216756e92412a8a1ec6ef68ef8bc0%29%3B%0A%20%20%20%20%20%20%20%20%20%20%20%20%0A%20%20%20%20%0A%20%20%20%20%20%20%20%20%20%20%20%20var%20popup_395b0a670601432196627afe333f22d7%20%3D%20L.popup%28%7BmaxWidth%3A%20%27300%27%0A%20%20%20%20%20%20%20%20%20%20%20%20%0A%20%20%20%20%20%20%20%20%20%20%20%20%7D%29%3B%0A%0A%20%20%20%20%20%20%20%20%20%20%20%20%0A%20%20%20%20%20%20%20%20%20%20%20%20%20%20%20%20var%20html_2c9cbf659b5047df9a679ad334acecdb%20%3D%20%24%28%60%3Cdiv%20id%3D%22html_2c9cbf659b5047df9a679ad334acecdb%22%20style%3D%22width%3A%20100.0%25%3B%20height%3A%20100.0%25%3B%22%3ECrystal%20Apartments%3C/div%3E%60%29%5B0%5D%3B%0A%20%20%20%20%20%20%20%20%20%20%20%20%20%20%20%20popup_395b0a670601432196627afe333f22d7.setContent%28html_2c9cbf659b5047df9a679ad334acecdb%29%3B%0A%20%20%20%20%20%20%20%20%20%20%20%20%0A%0A%20%20%20%20%20%20%20%20%20%20%20%20circle_marker_4e3bec34bb744ee8ab38d6fa10313b8c.bindPopup%28popup_395b0a670601432196627afe333f22d7%29%0A%20%20%20%20%20%20%20%20%20%20%20%20%3B%0A%0A%20%20%20%20%20%20%20%20%20%20%20%20%0A%20%20%20%20%20%20%20%20%0A%20%20%20%20%0A%20%20%20%20%20%20%20%20%20%20%20%20var%20circle_marker_d62881733ed849958140afda930f6083%20%3D%20L.circleMarker%28%0A%20%20%20%20%20%20%20%20%20%20%20%20%20%20%20%20%5B19.13981819152832%2C%2072.8270492553711%5D%2C%0A%20%20%20%20%20%20%20%20%20%20%20%20%20%20%20%20%7B%0A%20%20%22bubblingMouseEvents%22%3A%20true%2C%0A%20%20%22color%22%3A%20%22green%22%2C%0A%20%20%22dashArray%22%3A%20null%2C%0A%20%20%22dashOffset%22%3A%20null%2C%0A%20%20%22fill%22%3A%20true%2C%0A%20%20%22fillColor%22%3A%20%22green%22%2C%0A%20%20%22fillOpacity%22%3A%201%2C%0A%20%20%22fillRule%22%3A%20%22evenodd%22%2C%0A%20%20%22lineCap%22%3A%20%22round%22%2C%0A%20%20%22lineJoin%22%3A%20%22round%22%2C%0A%20%20%22opacity%22%3A%201.0%2C%0A%20%20%22radius%22%3A%205%2C%0A%20%20%22stroke%22%3A%20true%2C%0A%20%20%22weight%22%3A%203%0A%7D%0A%20%20%20%20%20%20%20%20%20%20%20%20%20%20%20%20%29%0A%20%20%20%20%20%20%20%20%20%20%20%20%20%20%20%20.addTo%28map_257216756e92412a8a1ec6ef68ef8bc0%29%3B%0A%20%20%20%20%20%20%20%20%20%20%20%20%0A%20%20%20%20%0A%20%20%20%20%20%20%20%20%20%20%20%20var%20popup_f7a9c1ab8d1848e7b052ffff9e46e8e8%20%3D%20L.popup%28%7BmaxWidth%3A%20%27300%27%0A%20%20%20%20%20%20%20%20%20%20%20%20%0A%20%20%20%20%20%20%20%20%20%20%20%20%7D%29%3B%0A%0A%20%20%20%20%20%20%20%20%20%20%20%20%0A%20%20%20%20%20%20%20%20%20%20%20%20%20%20%20%20var%20html_469e019a536f454c8e02b9e1b1e0df46%20%3D%20%24%28%60%3Cdiv%20id%3D%22html_469e019a536f454c8e02b9e1b1e0df46%22%20style%3D%22width%3A%20100.0%25%3B%20height%3A%20100.0%25%3B%22%3EBrooksfield%20Apartment%3C/div%3E%60%29%5B0%5D%3B%0A%20%20%20%20%20%20%20%20%20%20%20%20%20%20%20%20popup_f7a9c1ab8d1848e7b052ffff9e46e8e8.setContent%28html_469e019a536f454c8e02b9e1b1e0df46%29%3B%0A%20%20%20%20%20%20%20%20%20%20%20%20%0A%0A%20%20%20%20%20%20%20%20%20%20%20%20circle_marker_d62881733ed849958140afda930f6083.bindPopup%28popup_f7a9c1ab8d1848e7b052ffff9e46e8e8%29%0A%20%20%20%20%20%20%20%20%20%20%20%20%3B%0A%0A%20%20%20%20%20%20%20%20%20%20%20%20%0A%20%20%20%20%20%20%20%20%0A%20%20%20%20%0A%20%20%20%20%20%20%20%20%20%20%20%20var%20circle_marker_0a273a71fabd4ff68a86374b4fe58ffa%20%3D%20L.circleMarker%28%0A%20%20%20%20%20%20%20%20%20%20%20%20%20%20%20%20%5B19.13878927076496%2C%2072.82685038360964%5D%2C%0A%20%20%20%20%20%20%20%20%20%20%20%20%20%20%20%20%7B%0A%20%20%22bubblingMouseEvents%22%3A%20true%2C%0A%20%20%22color%22%3A%20%22green%22%2C%0A%20%20%22dashArray%22%3A%20null%2C%0A%20%20%22dashOffset%22%3A%20null%2C%0A%20%20%22fill%22%3A%20true%2C%0A%20%20%22fillColor%22%3A%20%22green%22%2C%0A%20%20%22fillOpacity%22%3A%201%2C%0A%20%20%22fillRule%22%3A%20%22evenodd%22%2C%0A%20%20%22lineCap%22%3A%20%22round%22%2C%0A%20%20%22lineJoin%22%3A%20%22round%22%2C%0A%20%20%22opacity%22%3A%201.0%2C%0A%20%20%22radius%22%3A%205%2C%0A%20%20%22stroke%22%3A%20true%2C%0A%20%20%22weight%22%3A%203%0A%7D%0A%20%20%20%20%20%20%20%20%20%20%20%20%20%20%20%20%29%0A%20%20%20%20%20%20%20%20%20%20%20%20%20%20%20%20.addTo%28map_257216756e92412a8a1ec6ef68ef8bc0%29%3B%0A%20%20%20%20%20%20%20%20%20%20%20%20%0A%20%20%20%20%0A%20%20%20%20%20%20%20%20%20%20%20%20var%20popup_ea99e023d7e048358bcdf4b14fe68ecf%20%3D%20L.popup%28%7BmaxWidth%3A%20%27300%27%0A%20%20%20%20%20%20%20%20%20%20%20%20%0A%20%20%20%20%20%20%20%20%20%20%20%20%7D%29%3B%0A%0A%20%20%20%20%20%20%20%20%20%20%20%20%0A%20%20%20%20%20%20%20%20%20%20%20%20%20%20%20%20var%20html_4f8eb122165745cd84145835fafeb9bf%20%3D%20%24%28%60%3Cdiv%20id%3D%22html_4f8eb122165745cd84145835fafeb9bf%22%20style%3D%22width%3A%20100.0%25%3B%20height%3A%20100.0%25%3B%22%3EMarvel%20Apartment%3C/div%3E%60%29%5B0%5D%3B%0A%20%20%20%20%20%20%20%20%20%20%20%20%20%20%20%20popup_ea99e023d7e048358bcdf4b14fe68ecf.setContent%28html_4f8eb122165745cd84145835fafeb9bf%29%3B%0A%20%20%20%20%20%20%20%20%20%20%20%20%0A%0A%20%20%20%20%20%20%20%20%20%20%20%20circle_marker_0a273a71fabd4ff68a86374b4fe58ffa.bindPopup%28popup_ea99e023d7e048358bcdf4b14fe68ecf%29%0A%20%20%20%20%20%20%20%20%20%20%20%20%3B%0A%0A%20%20%20%20%20%20%20%20%20%20%20%20%0A%20%20%20%20%20%20%20%20%0A%20%20%20%20%0A%20%20%20%20%20%20%20%20%20%20%20%20var%20circle_marker_e33994f63db045caaa46e3634cd06586%20%3D%20L.circleMarker%28%0A%20%20%20%20%20%20%20%20%20%20%20%20%20%20%20%20%5B19.13299423046044%2C%2072.83095863848155%5D%2C%0A%20%20%20%20%20%20%20%20%20%20%20%20%20%20%20%20%7B%0A%20%20%22bubblingMouseEvents%22%3A%20true%2C%0A%20%20%22color%22%3A%20%22green%22%2C%0A%20%20%22dashArray%22%3A%20null%2C%0A%20%20%22dashOffset%22%3A%20null%2C%0A%20%20%22fill%22%3A%20true%2C%0A%20%20%22fillColor%22%3A%20%22green%22%2C%0A%20%20%22fillOpacity%22%3A%201%2C%0A%20%20%22fillRule%22%3A%20%22evenodd%22%2C%0A%20%20%22lineCap%22%3A%20%22round%22%2C%0A%20%20%22lineJoin%22%3A%20%22round%22%2C%0A%20%20%22opacity%22%3A%201.0%2C%0A%20%20%22radius%22%3A%205%2C%0A%20%20%22stroke%22%3A%20true%2C%0A%20%20%22weight%22%3A%203%0A%7D%0A%20%20%20%20%20%20%20%20%20%20%20%20%20%20%20%20%29%0A%20%20%20%20%20%20%20%20%20%20%20%20%20%20%20%20.addTo%28map_257216756e92412a8a1ec6ef68ef8bc0%29%3B%0A%20%20%20%20%20%20%20%20%20%20%20%20%0A%20%20%20%20%0A%20%20%20%20%20%20%20%20%20%20%20%20var%20popup_71ab2fb190864edf8e230bef7272d256%20%3D%20L.popup%28%7BmaxWidth%3A%20%27300%27%0A%20%20%20%20%20%20%20%20%20%20%20%20%0A%20%20%20%20%20%20%20%20%20%20%20%20%7D%29%3B%0A%0A%20%20%20%20%20%20%20%20%20%20%20%20%0A%20%20%20%20%20%20%20%20%20%20%20%20%20%20%20%20var%20html_d97b6b276d7d4b2f8d23a73fd5197745%20%3D%20%24%28%60%3Cdiv%20id%3D%22html_d97b6b276d7d4b2f8d23a73fd5197745%22%20style%3D%22width%3A%20100.0%25%3B%20height%3A%20100.0%25%3B%22%3EKrishna%27s%20apartment%3C/div%3E%60%29%5B0%5D%3B%0A%20%20%20%20%20%20%20%20%20%20%20%20%20%20%20%20popup_71ab2fb190864edf8e230bef7272d256.setContent%28html_d97b6b276d7d4b2f8d23a73fd5197745%29%3B%0A%20%20%20%20%20%20%20%20%20%20%20%20%0A%0A%20%20%20%20%20%20%20%20%20%20%20%20circle_marker_e33994f63db045caaa46e3634cd06586.bindPopup%28popup_71ab2fb190864edf8e230bef7272d256%29%0A%20%20%20%20%20%20%20%20%20%20%20%20%3B%0A%0A%20%20%20%20%20%20%20%20%20%20%20%20%0A%20%20%20%20%20%20%20%20%0A%20%20%20%20%0A%20%20%20%20%20%20%20%20%20%20%20%20var%20circle_marker_3fbc169f8e154f94b11e653417bea351%20%3D%20L.circleMarker%28%0A%20%20%20%20%20%20%20%20%20%20%20%20%20%20%20%20%5B19.13199160974006%2C%2072.83122301101685%5D%2C%0A%20%20%20%20%20%20%20%20%20%20%20%20%20%20%20%20%7B%0A%20%20%22bubblingMouseEvents%22%3A%20true%2C%0A%20%20%22color%22%3A%20%22green%22%2C%0A%20%20%22dashArray%22%3A%20null%2C%0A%20%20%22dashOffset%22%3A%20null%2C%0A%20%20%22fill%22%3A%20true%2C%0A%20%20%22fillColor%22%3A%20%22green%22%2C%0A%20%20%22fillOpacity%22%3A%201%2C%0A%20%20%22fillRule%22%3A%20%22evenodd%22%2C%0A%20%20%22lineCap%22%3A%20%22round%22%2C%0A%20%20%22lineJoin%22%3A%20%22round%22%2C%0A%20%20%22opacity%22%3A%201.0%2C%0A%20%20%22radius%22%3A%205%2C%0A%20%20%22stroke%22%3A%20true%2C%0A%20%20%22weight%22%3A%203%0A%7D%0A%20%20%20%20%20%20%20%20%20%20%20%20%20%20%20%20%29%0A%20%20%20%20%20%20%20%20%20%20%20%20%20%20%20%20.addTo%28map_257216756e92412a8a1ec6ef68ef8bc0%29%3B%0A%20%20%20%20%20%20%20%20%20%20%20%20%0A%20%20%20%20%0A%20%20%20%20%20%20%20%20%20%20%20%20var%20popup_5aeab03831fa4394aee221bcd840ecac%20%3D%20L.popup%28%7BmaxWidth%3A%20%27300%27%0A%20%20%20%20%20%20%20%20%20%20%20%20%0A%20%20%20%20%20%20%20%20%20%20%20%20%7D%29%3B%0A%0A%20%20%20%20%20%20%20%20%20%20%20%20%0A%20%20%20%20%20%20%20%20%20%20%20%20%20%20%20%20var%20html_f19519b23a84490eabf75bdcb5311458%20%3D%20%24%28%60%3Cdiv%20id%3D%22html_f19519b23a84490eabf75bdcb5311458%22%20style%3D%22width%3A%20100.0%25%3B%20height%3A%20100.0%25%3B%22%3EKrishna%27s%20apartment%3C/div%3E%60%29%5B0%5D%3B%0A%20%20%20%20%20%20%20%20%20%20%20%20%20%20%20%20popup_5aeab03831fa4394aee221bcd840ecac.setContent%28html_f19519b23a84490eabf75bdcb5311458%29%3B%0A%20%20%20%20%20%20%20%20%20%20%20%20%0A%0A%20%20%20%20%20%20%20%20%20%20%20%20circle_marker_3fbc169f8e154f94b11e653417bea351.bindPopup%28popup_5aeab03831fa4394aee221bcd840ecac%29%0A%20%20%20%20%20%20%20%20%20%20%20%20%3B%0A%0A%20%20%20%20%20%20%20%20%20%20%20%20%0A%20%20%20%20%20%20%20%20%0A%20%20%20%20%0A%20%20%20%20%20%20%20%20%20%20%20%20var%20circle_marker_0e30c6d3e504426c8daa81185b506274%20%3D%20L.circleMarker%28%0A%20%20%20%20%20%20%20%20%20%20%20%20%20%20%20%20%5B19.13865443078659%2C%2072.82799862472817%5D%2C%0A%20%20%20%20%20%20%20%20%20%20%20%20%20%20%20%20%7B%0A%20%20%22bubblingMouseEvents%22%3A%20true%2C%0A%20%20%22color%22%3A%20%22green%22%2C%0A%20%20%22dashArray%22%3A%20null%2C%0A%20%20%22dashOffset%22%3A%20null%2C%0A%20%20%22fill%22%3A%20true%2C%0A%20%20%22fillColor%22%3A%20%22green%22%2C%0A%20%20%22fillOpacity%22%3A%201%2C%0A%20%20%22fillRule%22%3A%20%22evenodd%22%2C%0A%20%20%22lineCap%22%3A%20%22round%22%2C%0A%20%20%22lineJoin%22%3A%20%22round%22%2C%0A%20%20%22opacity%22%3A%201.0%2C%0A%20%20%22radius%22%3A%205%2C%0A%20%20%22stroke%22%3A%20true%2C%0A%20%20%22weight%22%3A%203%0A%7D%0A%20%20%20%20%20%20%20%20%20%20%20%20%20%20%20%20%29%0A%20%20%20%20%20%20%20%20%20%20%20%20%20%20%20%20.addTo%28map_257216756e92412a8a1ec6ef68ef8bc0%29%3B%0A%20%20%20%20%20%20%20%20%20%20%20%20%0A%20%20%20%20%0A%20%20%20%20%20%20%20%20%20%20%20%20var%20popup_4b50de85ba3a4e06bc50e2a34cdd6f30%20%3D%20L.popup%28%7BmaxWidth%3A%20%27300%27%0A%20%20%20%20%20%20%20%20%20%20%20%20%0A%20%20%20%20%20%20%20%20%20%20%20%20%7D%29%3B%0A%0A%20%20%20%20%20%20%20%20%20%20%20%20%0A%20%20%20%20%20%20%20%20%20%20%20%20%20%20%20%20var%20html_593706da504e46c2ad6fd737dad3fde8%20%3D%20%24%28%60%3Cdiv%20id%3D%22html_593706da504e46c2ad6fd737dad3fde8%22%20style%3D%22width%3A%20100.0%25%3B%20height%3A%20100.0%25%3B%22%3ESunrise%20Apartment%3C/div%3E%60%29%5B0%5D%3B%0A%20%20%20%20%20%20%20%20%20%20%20%20%20%20%20%20popup_4b50de85ba3a4e06bc50e2a34cdd6f30.setContent%28html_593706da504e46c2ad6fd737dad3fde8%29%3B%0A%20%20%20%20%20%20%20%20%20%20%20%20%0A%0A%20%20%20%20%20%20%20%20%20%20%20%20circle_marker_0e30c6d3e504426c8daa81185b506274.bindPopup%28popup_4b50de85ba3a4e06bc50e2a34cdd6f30%29%0A%20%20%20%20%20%20%20%20%20%20%20%20%3B%0A%0A%20%20%20%20%20%20%20%20%20%20%20%20%0A%20%20%20%20%20%20%20%20%0A%20%20%20%20%0A%20%20%20%20%20%20%20%20%20%20%20%20var%20circle_marker_32afcaa6d19742ac9349476acf7926af%20%3D%20L.circleMarker%28%0A%20%20%20%20%20%20%20%20%20%20%20%20%20%20%20%20%5B19.387462738524267%2C%2072.8254251722998%5D%2C%0A%20%20%20%20%20%20%20%20%20%20%20%20%20%20%20%20%7B%0A%20%20%22bubblingMouseEvents%22%3A%20true%2C%0A%20%20%22color%22%3A%20%22orange%22%2C%0A%20%20%22dashArray%22%3A%20null%2C%0A%20%20%22dashOffset%22%3A%20null%2C%0A%20%20%22fill%22%3A%20true%2C%0A%20%20%22fillColor%22%3A%20%22orange%22%2C%0A%20%20%22fillOpacity%22%3A%201%2C%0A%20%20%22fillRule%22%3A%20%22evenodd%22%2C%0A%20%20%22lineCap%22%3A%20%22round%22%2C%0A%20%20%22lineJoin%22%3A%20%22round%22%2C%0A%20%20%22opacity%22%3A%201.0%2C%0A%20%20%22radius%22%3A%205%2C%0A%20%20%22stroke%22%3A%20true%2C%0A%20%20%22weight%22%3A%203%0A%7D%0A%20%20%20%20%20%20%20%20%20%20%20%20%20%20%20%20%29%0A%20%20%20%20%20%20%20%20%20%20%20%20%20%20%20%20.addTo%28map_257216756e92412a8a1ec6ef68ef8bc0%29%3B%0A%20%20%20%20%20%20%20%20%20%20%20%20%0A%20%20%20%20%0A%20%20%20%20%20%20%20%20%20%20%20%20var%20popup_ad0b606b59fd4b22b26301f4a98ee1cb%20%3D%20L.popup%28%7BmaxWidth%3A%20%27300%27%0A%20%20%20%20%20%20%20%20%20%20%20%20%0A%20%20%20%20%20%20%20%20%20%20%20%20%7D%29%3B%0A%0A%20%20%20%20%20%20%20%20%20%20%20%20%0A%20%20%20%20%20%20%20%20%20%20%20%20%20%20%20%20var%20html_b0b4f048e84f41a8a6d4325f95fac087%20%3D%20%24%28%60%3Cdiv%20id%3D%22html_b0b4f048e84f41a8a6d4325f95fac087%22%20style%3D%22width%3A%20100.0%25%3B%20height%3A%20100.0%25%3B%22%3ENeela%20Apartment%3C/div%3E%60%29%5B0%5D%3B%0A%20%20%20%20%20%20%20%20%20%20%20%20%20%20%20%20popup_ad0b606b59fd4b22b26301f4a98ee1cb.setContent%28html_b0b4f048e84f41a8a6d4325f95fac087%29%3B%0A%20%20%20%20%20%20%20%20%20%20%20%20%0A%0A%20%20%20%20%20%20%20%20%20%20%20%20circle_marker_32afcaa6d19742ac9349476acf7926af.bindPopup%28popup_ad0b606b59fd4b22b26301f4a98ee1cb%29%0A%20%20%20%20%20%20%20%20%20%20%20%20%3B%0A%0A%20%20%20%20%20%20%20%20%20%20%20%20%0A%20%20%20%20%20%20%20%20%0A%20%20%20%20%0A%20%20%20%20%20%20%20%20%20%20%20%20var%20circle_marker_4ae2c2f986104e68aed5cf338a14d6e2%20%3D%20L.circleMarker%28%0A%20%20%20%20%20%20%20%20%20%20%20%20%20%20%20%20%5B19.140073%2C%2072.812156%5D%2C%0A%20%20%20%20%20%20%20%20%20%20%20%20%20%20%20%20%7B%0A%20%20%22bubblingMouseEvents%22%3A%20true%2C%0A%20%20%22color%22%3A%20%22green%22%2C%0A%20%20%22dashArray%22%3A%20null%2C%0A%20%20%22dashOffset%22%3A%20null%2C%0A%20%20%22fill%22%3A%20true%2C%0A%20%20%22fillColor%22%3A%20%22green%22%2C%0A%20%20%22fillOpacity%22%3A%201%2C%0A%20%20%22fillRule%22%3A%20%22evenodd%22%2C%0A%20%20%22lineCap%22%3A%20%22round%22%2C%0A%20%20%22lineJoin%22%3A%20%22round%22%2C%0A%20%20%22opacity%22%3A%201.0%2C%0A%20%20%22radius%22%3A%205%2C%0A%20%20%22stroke%22%3A%20true%2C%0A%20%20%22weight%22%3A%203%0A%7D%0A%20%20%20%20%20%20%20%20%20%20%20%20%20%20%20%20%29%0A%20%20%20%20%20%20%20%20%20%20%20%20%20%20%20%20.addTo%28map_257216756e92412a8a1ec6ef68ef8bc0%29%3B%0A%20%20%20%20%20%20%20%20%20%20%20%20%0A%20%20%20%20%0A%20%20%20%20%20%20%20%20%20%20%20%20var%20popup_8ab8725361ff473cb5d06a61dd864f5f%20%3D%20L.popup%28%7BmaxWidth%3A%20%27300%27%0A%20%20%20%20%20%20%20%20%20%20%20%20%0A%20%20%20%20%20%20%20%20%20%20%20%20%7D%29%3B%0A%0A%20%20%20%20%20%20%20%20%20%20%20%20%0A%20%20%20%20%20%20%20%20%20%20%20%20%20%20%20%20var%20html_c7570ea6833f4611bd68c8d5385af3ef%20%3D%20%24%28%60%3Cdiv%20id%3D%22html_c7570ea6833f4611bd68c8d5385af3ef%22%20style%3D%22width%3A%20100.0%25%3B%20height%3A%20100.0%25%3B%22%3ECozy%20Apartment%3C/div%3E%60%29%5B0%5D%3B%0A%20%20%20%20%20%20%20%20%20%20%20%20%20%20%20%20popup_8ab8725361ff473cb5d06a61dd864f5f.setContent%28html_c7570ea6833f4611bd68c8d5385af3ef%29%3B%0A%20%20%20%20%20%20%20%20%20%20%20%20%0A%0A%20%20%20%20%20%20%20%20%20%20%20%20circle_marker_4ae2c2f986104e68aed5cf338a14d6e2.bindPopup%28popup_8ab8725361ff473cb5d06a61dd864f5f%29%0A%20%20%20%20%20%20%20%20%20%20%20%20%3B%0A%0A%20%20%20%20%20%20%20%20%20%20%20%20%0A%20%20%20%20%20%20%20%20%0A%20%20%20%20%0A%20%20%20%20%20%20%20%20%20%20%20%20var%20circle_marker_ce73609b353e4835b1a27e03c3e82fd8%20%3D%20L.circleMarker%28%0A%20%20%20%20%20%20%20%20%20%20%20%20%20%20%20%20%5B19.120175534978756%2C%2072.91113068776346%5D%2C%0A%20%20%20%20%20%20%20%20%20%20%20%20%20%20%20%20%7B%0A%20%20%22bubblingMouseEvents%22%3A%20true%2C%0A%20%20%22color%22%3A%20%22green%22%2C%0A%20%20%22dashArray%22%3A%20null%2C%0A%20%20%22dashOffset%22%3A%20null%2C%0A%20%20%22fill%22%3A%20true%2C%0A%20%20%22fillColor%22%3A%20%22green%22%2C%0A%20%20%22fillOpacity%22%3A%201%2C%0A%20%20%22fillRule%22%3A%20%22evenodd%22%2C%0A%20%20%22lineCap%22%3A%20%22round%22%2C%0A%20%20%22lineJoin%22%3A%20%22round%22%2C%0A%20%20%22opacity%22%3A%201.0%2C%0A%20%20%22radius%22%3A%205%2C%0A%20%20%22stroke%22%3A%20true%2C%0A%20%20%22weight%22%3A%203%0A%7D%0A%20%20%20%20%20%20%20%20%20%20%20%20%20%20%20%20%29%0A%20%20%20%20%20%20%20%20%20%20%20%20%20%20%20%20.addTo%28map_257216756e92412a8a1ec6ef68ef8bc0%29%3B%0A%20%20%20%20%20%20%20%20%20%20%20%20%0A%20%20%20%20%0A%20%20%20%20%20%20%20%20%20%20%20%20var%20popup_967869a6650540d3b2f698ce82079dc0%20%3D%20L.popup%28%7BmaxWidth%3A%20%27300%27%0A%20%20%20%20%20%20%20%20%20%20%20%20%0A%20%20%20%20%20%20%20%20%20%20%20%20%7D%29%3B%0A%0A%20%20%20%20%20%20%20%20%20%20%20%20%0A%20%20%20%20%20%20%20%20%20%20%20%20%20%20%20%20var%20html_895a080db8c44874aed2e4aa81dc82f5%20%3D%20%24%28%60%3Cdiv%20id%3D%22html_895a080db8c44874aed2e4aa81dc82f5%22%20style%3D%22width%3A%20100.0%25%3B%20height%3A%20100.0%25%3B%22%3ESovereign%20Apartment%20parking%20lot%3C/div%3E%60%29%5B0%5D%3B%0A%20%20%20%20%20%20%20%20%20%20%20%20%20%20%20%20popup_967869a6650540d3b2f698ce82079dc0.setContent%28html_895a080db8c44874aed2e4aa81dc82f5%29%3B%0A%20%20%20%20%20%20%20%20%20%20%20%20%0A%0A%20%20%20%20%20%20%20%20%20%20%20%20circle_marker_ce73609b353e4835b1a27e03c3e82fd8.bindPopup%28popup_967869a6650540d3b2f698ce82079dc0%29%0A%20%20%20%20%20%20%20%20%20%20%20%20%3B%0A%0A%20%20%20%20%20%20%20%20%20%20%20%20%0A%20%20%20%20%20%20%20%20%0A%20%20%20%20%0A%20%20%20%20%20%20%20%20%20%20%20%20var%20circle_marker_5130d276da1d4ea2922243d39c8c7df4%20%3D%20L.circleMarker%28%0A%20%20%20%20%20%20%20%20%20%20%20%20%20%20%20%20%5B19.12153%2C%2072.88168%5D%2C%0A%20%20%20%20%20%20%20%20%20%20%20%20%20%20%20%20%7B%0A%20%20%22bubblingMouseEvents%22%3A%20true%2C%0A%20%20%22color%22%3A%20%22green%22%2C%0A%20%20%22dashArray%22%3A%20null%2C%0A%20%20%22dashOffset%22%3A%20null%2C%0A%20%20%22fill%22%3A%20true%2C%0A%20%20%22fillColor%22%3A%20%22green%22%2C%0A%20%20%22fillOpacity%22%3A%201%2C%0A%20%20%22fillRule%22%3A%20%22evenodd%22%2C%0A%20%20%22lineCap%22%3A%20%22round%22%2C%0A%20%20%22lineJoin%22%3A%20%22round%22%2C%0A%20%20%22opacity%22%3A%201.0%2C%0A%20%20%22radius%22%3A%205%2C%0A%20%20%22stroke%22%3A%20true%2C%0A%20%20%22weight%22%3A%203%0A%7D%0A%20%20%20%20%20%20%20%20%20%20%20%20%20%20%20%20%29%0A%20%20%20%20%20%20%20%20%20%20%20%20%20%20%20%20.addTo%28map_257216756e92412a8a1ec6ef68ef8bc0%29%3B%0A%20%20%20%20%20%20%20%20%20%20%20%20%0A%20%20%20%20%0A%20%20%20%20%20%20%20%20%20%20%20%20var%20popup_735cc88163354782a8ed1cd349a86383%20%3D%20L.popup%28%7BmaxWidth%3A%20%27300%27%0A%20%20%20%20%20%20%20%20%20%20%20%20%0A%20%20%20%20%20%20%20%20%20%20%20%20%7D%29%3B%0A%0A%20%20%20%20%20%20%20%20%20%20%20%20%0A%20%20%20%20%20%20%20%20%20%20%20%20%20%20%20%20var%20html_9a198dcc412543c48dab6fafeae06fe4%20%3D%20%24%28%60%3Cdiv%20id%3D%22html_9a198dcc412543c48dab6fafeae06fe4%22%20style%3D%22width%3A%20100.0%25%3B%20height%3A%20100.0%25%3B%22%3ENew%20Trishul%20Apartment%3C/div%3E%60%29%5B0%5D%3B%0A%20%20%20%20%20%20%20%20%20%20%20%20%20%20%20%20popup_735cc88163354782a8ed1cd349a86383.setContent%28html_9a198dcc412543c48dab6fafeae06fe4%29%3B%0A%20%20%20%20%20%20%20%20%20%20%20%20%0A%0A%20%20%20%20%20%20%20%20%20%20%20%20circle_marker_5130d276da1d4ea2922243d39c8c7df4.bindPopup%28popup_735cc88163354782a8ed1cd349a86383%29%0A%20%20%20%20%20%20%20%20%20%20%20%20%3B%0A%0A%20%20%20%20%20%20%20%20%20%20%20%20%0A%20%20%20%20%20%20%20%20%0A%20%20%20%20%0A%20%20%20%20%20%20%20%20%20%20%20%20var%20circle_marker_5af393fb5a88406096d385c9e236252b%20%3D%20L.circleMarker%28%0A%20%20%20%20%20%20%20%20%20%20%20%20%20%20%20%20%5B19.031839%2C%2072.84123190000003%5D%2C%0A%20%20%20%20%20%20%20%20%20%20%20%20%20%20%20%20%7B%0A%20%20%22bubblingMouseEvents%22%3A%20true%2C%0A%20%20%22color%22%3A%20%22red%22%2C%0A%20%20%22dashArray%22%3A%20null%2C%0A%20%20%22dashOffset%22%3A%20null%2C%0A%20%20%22fill%22%3A%20true%2C%0A%20%20%22fillColor%22%3A%20%22red%22%2C%0A%20%20%22fillOpacity%22%3A%201%2C%0A%20%20%22fillRule%22%3A%20%22evenodd%22%2C%0A%20%20%22lineCap%22%3A%20%22round%22%2C%0A%20%20%22lineJoin%22%3A%20%22round%22%2C%0A%20%20%22opacity%22%3A%201.0%2C%0A%20%20%22radius%22%3A%205%2C%0A%20%20%22stroke%22%3A%20true%2C%0A%20%20%22weight%22%3A%203%0A%7D%0A%20%20%20%20%20%20%20%20%20%20%20%20%20%20%20%20%29%0A%20%20%20%20%20%20%20%20%20%20%20%20%20%20%20%20.addTo%28map_257216756e92412a8a1ec6ef68ef8bc0%29%3B%0A%20%20%20%20%20%20%20%20%20%20%20%20%0A%20%20%20%20%0A%20%20%20%20%20%20%20%20%20%20%20%20var%20popup_a750065101594cefa0d22ce5e3a1cc59%20%3D%20L.popup%28%7BmaxWidth%3A%20%27300%27%0A%20%20%20%20%20%20%20%20%20%20%20%20%0A%20%20%20%20%20%20%20%20%20%20%20%20%7D%29%3B%0A%0A%20%20%20%20%20%20%20%20%20%20%20%20%0A%20%20%20%20%20%20%20%20%20%20%20%20%20%20%20%20var%20html_bb8496c7c4ab4b8fb60a25420c7e44f7%20%3D%20%24%28%60%3Cdiv%20id%3D%22html_bb8496c7c4ab4b8fb60a25420c7e44f7%22%20style%3D%22width%3A%20100.0%25%3B%20height%3A%20100.0%25%3B%22%3EApartment%20In%20Mumbai%20City%20Centre%3C/div%3E%60%29%5B0%5D%3B%0A%20%20%20%20%20%20%20%20%20%20%20%20%20%20%20%20popup_a750065101594cefa0d22ce5e3a1cc59.setContent%28html_bb8496c7c4ab4b8fb60a25420c7e44f7%29%3B%0A%20%20%20%20%20%20%20%20%20%20%20%20%0A%0A%20%20%20%20%20%20%20%20%20%20%20%20circle_marker_5af393fb5a88406096d385c9e236252b.bindPopup%28popup_a750065101594cefa0d22ce5e3a1cc59%29%0A%20%20%20%20%20%20%20%20%20%20%20%20%3B%0A%0A%20%20%20%20%20%20%20%20%20%20%20%20%0A%20%20%20%20%20%20%20%20%0A%20%20%20%20%0A%20%20%20%20%20%20%20%20%20%20%20%20var%20circle_marker_3625472a591a48cca2eb7b00e8c28ca9%20%3D%20L.circleMarker%28%0A%20%20%20%20%20%20%20%20%20%20%20%20%20%20%20%20%5B19.208775099632504%2C%2072.86349963115278%5D%2C%0A%20%20%20%20%20%20%20%20%20%20%20%20%20%20%20%20%7B%0A%20%20%22bubblingMouseEvents%22%3A%20true%2C%0A%20%20%22color%22%3A%20%22green%22%2C%0A%20%20%22dashArray%22%3A%20null%2C%0A%20%20%22dashOffset%22%3A%20null%2C%0A%20%20%22fill%22%3A%20true%2C%0A%20%20%22fillColor%22%3A%20%22green%22%2C%0A%20%20%22fillOpacity%22%3A%201%2C%0A%20%20%22fillRule%22%3A%20%22evenodd%22%2C%0A%20%20%22lineCap%22%3A%20%22round%22%2C%0A%20%20%22lineJoin%22%3A%20%22round%22%2C%0A%20%20%22opacity%22%3A%201.0%2C%0A%20%20%22radius%22%3A%205%2C%0A%20%20%22stroke%22%3A%20true%2C%0A%20%20%22weight%22%3A%203%0A%7D%0A%20%20%20%20%20%20%20%20%20%20%20%20%20%20%20%20%29%0A%20%20%20%20%20%20%20%20%20%20%20%20%20%20%20%20.addTo%28map_257216756e92412a8a1ec6ef68ef8bc0%29%3B%0A%20%20%20%20%20%20%20%20%20%20%20%20%0A%20%20%20%20%0A%20%20%20%20%20%20%20%20%20%20%20%20var%20popup_fef6ee800d84407c93d3542c1a8aeb73%20%3D%20L.popup%28%7BmaxWidth%3A%20%27300%27%0A%20%20%20%20%20%20%20%20%20%20%20%20%0A%20%20%20%20%20%20%20%20%20%20%20%20%7D%29%3B%0A%0A%20%20%20%20%20%20%20%20%20%20%20%20%0A%20%20%20%20%20%20%20%20%20%20%20%20%20%20%20%20var%20html_8d683508f59b42eeb8a5de660c5ca2fc%20%3D%20%24%28%60%3Cdiv%20id%3D%22html_8d683508f59b42eeb8a5de660c5ca2fc%22%20style%3D%22width%3A%20100.0%25%3B%20height%3A%20100.0%25%3B%22%3EGreen%20Field%20Apartments%3C/div%3E%60%29%5B0%5D%3B%0A%20%20%20%20%20%20%20%20%20%20%20%20%20%20%20%20popup_fef6ee800d84407c93d3542c1a8aeb73.setContent%28html_8d683508f59b42eeb8a5de660c5ca2fc%29%3B%0A%20%20%20%20%20%20%20%20%20%20%20%20%0A%0A%20%20%20%20%20%20%20%20%20%20%20%20circle_marker_3625472a591a48cca2eb7b00e8c28ca9.bindPopup%28popup_fef6ee800d84407c93d3542c1a8aeb73%29%0A%20%20%20%20%20%20%20%20%20%20%20%20%3B%0A%0A%20%20%20%20%20%20%20%20%20%20%20%20%0A%20%20%20%20%20%20%20%20%0A%20%20%20%20%0A%20%20%20%20%20%20%20%20%20%20%20%20var%20circle_marker_d64585c838ca479d8399bfdbb61c8aa7%20%3D%20L.circleMarker%28%0A%20%20%20%20%20%20%20%20%20%20%20%20%20%20%20%20%5B19.11806426762291%2C%2072.88329818993404%5D%2C%0A%20%20%20%20%20%20%20%20%20%20%20%20%20%20%20%20%7B%0A%20%20%22bubblingMouseEvents%22%3A%20true%2C%0A%20%20%22color%22%3A%20%22green%22%2C%0A%20%20%22dashArray%22%3A%20null%2C%0A%20%20%22dashOffset%22%3A%20null%2C%0A%20%20%22fill%22%3A%20true%2C%0A%20%20%22fillColor%22%3A%20%22green%22%2C%0A%20%20%22fillOpacity%22%3A%201%2C%0A%20%20%22fillRule%22%3A%20%22evenodd%22%2C%0A%20%20%22lineCap%22%3A%20%22round%22%2C%0A%20%20%22lineJoin%22%3A%20%22round%22%2C%0A%20%20%22opacity%22%3A%201.0%2C%0A%20%20%22radius%22%3A%205%2C%0A%20%20%22stroke%22%3A%20true%2C%0A%20%20%22weight%22%3A%203%0A%7D%0A%20%20%20%20%20%20%20%20%20%20%20%20%20%20%20%20%29%0A%20%20%20%20%20%20%20%20%20%20%20%20%20%20%20%20.addTo%28map_257216756e92412a8a1ec6ef68ef8bc0%29%3B%0A%20%20%20%20%20%20%20%20%20%20%20%20%0A%20%20%20%20%0A%20%20%20%20%20%20%20%20%20%20%20%20var%20popup_d0ad31a57bae4949a7f7c3e17d8bc24e%20%3D%20L.popup%28%7BmaxWidth%3A%20%27300%27%0A%20%20%20%20%20%20%20%20%20%20%20%20%0A%20%20%20%20%20%20%20%20%20%20%20%20%7D%29%3B%0A%0A%20%20%20%20%20%20%20%20%20%20%20%20%0A%20%20%20%20%20%20%20%20%20%20%20%20%20%20%20%20var%20html_c7f6a32b83354e5ab44c0223b9213176%20%3D%20%24%28%60%3Cdiv%20id%3D%22html_c7f6a32b83354e5ab44c0223b9213176%22%20style%3D%22width%3A%20100.0%25%3B%20height%3A%20100.0%25%3B%22%3EWhitefield%20Service%20Apartment%3C/div%3E%60%29%5B0%5D%3B%0A%20%20%20%20%20%20%20%20%20%20%20%20%20%20%20%20popup_d0ad31a57bae4949a7f7c3e17d8bc24e.setContent%28html_c7f6a32b83354e5ab44c0223b9213176%29%3B%0A%20%20%20%20%20%20%20%20%20%20%20%20%0A%0A%20%20%20%20%20%20%20%20%20%20%20%20circle_marker_d64585c838ca479d8399bfdbb61c8aa7.bindPopup%28popup_d0ad31a57bae4949a7f7c3e17d8bc24e%29%0A%20%20%20%20%20%20%20%20%20%20%20%20%3B%0A%0A%20%20%20%20%20%20%20%20%20%20%20%20%0A%20%20%20%20%20%20%20%20%0A%20%20%20%20%0A%20%20%20%20%20%20%20%20%20%20%20%20var%20circle_marker_ae949f61f633488eb1297fe8ed05568f%20%3D%20L.circleMarker%28%0A%20%20%20%20%20%20%20%20%20%20%20%20%20%20%20%20%5B19.259406920262425%2C%2072.86280119274345%5D%2C%0A%20%20%20%20%20%20%20%20%20%20%20%20%20%20%20%20%7B%0A%20%20%22bubblingMouseEvents%22%3A%20true%2C%0A%20%20%22color%22%3A%20%22red%22%2C%0A%20%20%22dashArray%22%3A%20null%2C%0A%20%20%22dashOffset%22%3A%20null%2C%0A%20%20%22fill%22%3A%20true%2C%0A%20%20%22fillColor%22%3A%20%22red%22%2C%0A%20%20%22fillOpacity%22%3A%201%2C%0A%20%20%22fillRule%22%3A%20%22evenodd%22%2C%0A%20%20%22lineCap%22%3A%20%22round%22%2C%0A%20%20%22lineJoin%22%3A%20%22round%22%2C%0A%20%20%22opacity%22%3A%201.0%2C%0A%20%20%22radius%22%3A%205%2C%0A%20%20%22stroke%22%3A%20true%2C%0A%20%20%22weight%22%3A%203%0A%7D%0A%20%20%20%20%20%20%20%20%20%20%20%20%20%20%20%20%29%0A%20%20%20%20%20%20%20%20%20%20%20%20%20%20%20%20.addTo%28map_257216756e92412a8a1ec6ef68ef8bc0%29%3B%0A%20%20%20%20%20%20%20%20%20%20%20%20%0A%20%20%20%20%0A%20%20%20%20%20%20%20%20%20%20%20%20var%20popup_a5a3a3931c31444aa648f75ea61dbd8b%20%3D%20L.popup%28%7BmaxWidth%3A%20%27300%27%0A%20%20%20%20%20%20%20%20%20%20%20%20%0A%20%20%20%20%20%20%20%20%20%20%20%20%7D%29%3B%0A%0A%20%20%20%20%20%20%20%20%20%20%20%20%0A%20%20%20%20%20%20%20%20%20%20%20%20%20%20%20%20var%20html_921f6a36fc36487c99c145cfe95fbd19%20%3D%20%24%28%60%3Cdiv%20id%3D%22html_921f6a36fc36487c99c145cfe95fbd19%22%20style%3D%22width%3A%20100.0%25%3B%20height%3A%20100.0%25%3B%22%3ELakshmi%20apartment%3C/div%3E%60%29%5B0%5D%3B%0A%20%20%20%20%20%20%20%20%20%20%20%20%20%20%20%20popup_a5a3a3931c31444aa648f75ea61dbd8b.setContent%28html_921f6a36fc36487c99c145cfe95fbd19%29%3B%0A%20%20%20%20%20%20%20%20%20%20%20%20%0A%0A%20%20%20%20%20%20%20%20%20%20%20%20circle_marker_ae949f61f633488eb1297fe8ed05568f.bindPopup%28popup_a5a3a3931c31444aa648f75ea61dbd8b%29%0A%20%20%20%20%20%20%20%20%20%20%20%20%3B%0A%0A%20%20%20%20%20%20%20%20%20%20%20%20%0A%20%20%20%20%20%20%20%20%0A%20%20%20%20%0A%20%20%20%20%20%20%20%20%20%20%20%20var%20circle_marker_aa86275e0fe04489bc16f69a33b09a53%20%3D%20L.circleMarker%28%0A%20%20%20%20%20%20%20%20%20%20%20%20%20%20%20%20%5B19.16850505555741%2C%2072.93950785281734%5D%2C%0A%20%20%20%20%20%20%20%20%20%20%20%20%20%20%20%20%7B%0A%20%20%22bubblingMouseEvents%22%3A%20true%2C%0A%20%20%22color%22%3A%20%22green%22%2C%0A%20%20%22dashArray%22%3A%20null%2C%0A%20%20%22dashOffset%22%3A%20null%2C%0A%20%20%22fill%22%3A%20true%2C%0A%20%20%22fillColor%22%3A%20%22green%22%2C%0A%20%20%22fillOpacity%22%3A%201%2C%0A%20%20%22fillRule%22%3A%20%22evenodd%22%2C%0A%20%20%22lineCap%22%3A%20%22round%22%2C%0A%20%20%22lineJoin%22%3A%20%22round%22%2C%0A%20%20%22opacity%22%3A%201.0%2C%0A%20%20%22radius%22%3A%205%2C%0A%20%20%22stroke%22%3A%20true%2C%0A%20%20%22weight%22%3A%203%0A%7D%0A%20%20%20%20%20%20%20%20%20%20%20%20%20%20%20%20%29%0A%20%20%20%20%20%20%20%20%20%20%20%20%20%20%20%20.addTo%28map_257216756e92412a8a1ec6ef68ef8bc0%29%3B%0A%20%20%20%20%20%20%20%20%20%20%20%20%0A%20%20%20%20%0A%20%20%20%20%20%20%20%20%20%20%20%20var%20popup_9d7e1202a7034dfd83e8a86d98b701a5%20%3D%20L.popup%28%7BmaxWidth%3A%20%27300%27%0A%20%20%20%20%20%20%20%20%20%20%20%20%0A%20%20%20%20%20%20%20%20%20%20%20%20%7D%29%3B%0A%0A%20%20%20%20%20%20%20%20%20%20%20%20%0A%20%20%20%20%20%20%20%20%20%20%20%20%20%20%20%20var%20html_ce764c47a6db4c1e95531da74894b607%20%3D%20%24%28%60%3Cdiv%20id%3D%22html_ce764c47a6db4c1e95531da74894b607%22%20style%3D%22width%3A%20100.0%25%3B%20height%3A%20100.0%25%3B%22%3ESagar%20garden%20apartment%3C/div%3E%60%29%5B0%5D%3B%0A%20%20%20%20%20%20%20%20%20%20%20%20%20%20%20%20popup_9d7e1202a7034dfd83e8a86d98b701a5.setContent%28html_ce764c47a6db4c1e95531da74894b607%29%3B%0A%20%20%20%20%20%20%20%20%20%20%20%20%0A%0A%20%20%20%20%20%20%20%20%20%20%20%20circle_marker_aa86275e0fe04489bc16f69a33b09a53.bindPopup%28popup_9d7e1202a7034dfd83e8a86d98b701a5%29%0A%20%20%20%20%20%20%20%20%20%20%20%20%3B%0A%0A%20%20%20%20%20%20%20%20%20%20%20%20%0A%20%20%20%20%20%20%20%20%0A%20%20%20%20%0A%20%20%20%20%20%20%20%20%20%20%20%20var%20circle_marker_3122f2bd855f4a64a82dcc62e0dca214%20%3D%20L.circleMarker%28%0A%20%20%20%20%20%20%20%20%20%20%20%20%20%20%20%20%5B19.114422%2C%2072.842509%5D%2C%0A%20%20%20%20%20%20%20%20%20%20%20%20%20%20%20%20%7B%0A%20%20%22bubblingMouseEvents%22%3A%20true%2C%0A%20%20%22color%22%3A%20%22green%22%2C%0A%20%20%22dashArray%22%3A%20null%2C%0A%20%20%22dashOffset%22%3A%20null%2C%0A%20%20%22fill%22%3A%20true%2C%0A%20%20%22fillColor%22%3A%20%22green%22%2C%0A%20%20%22fillOpacity%22%3A%201%2C%0A%20%20%22fillRule%22%3A%20%22evenodd%22%2C%0A%20%20%22lineCap%22%3A%20%22round%22%2C%0A%20%20%22lineJoin%22%3A%20%22round%22%2C%0A%20%20%22opacity%22%3A%201.0%2C%0A%20%20%22radius%22%3A%205%2C%0A%20%20%22stroke%22%3A%20true%2C%0A%20%20%22weight%22%3A%203%0A%7D%0A%20%20%20%20%20%20%20%20%20%20%20%20%20%20%20%20%29%0A%20%20%20%20%20%20%20%20%20%20%20%20%20%20%20%20.addTo%28map_257216756e92412a8a1ec6ef68ef8bc0%29%3B%0A%20%20%20%20%20%20%20%20%20%20%20%20%0A%20%20%20%20%0A%20%20%20%20%20%20%20%20%20%20%20%20var%20popup_e8b6a1acfdda4750a892341fd5c5395d%20%3D%20L.popup%28%7BmaxWidth%3A%20%27300%27%0A%20%20%20%20%20%20%20%20%20%20%20%20%0A%20%20%20%20%20%20%20%20%20%20%20%20%7D%29%3B%0A%0A%20%20%20%20%20%20%20%20%20%20%20%20%0A%20%20%20%20%20%20%20%20%20%20%20%20%20%20%20%20var%20html_8e1fe5fdd5404bfc9d1d8f0d20732575%20%3D%20%24%28%60%3Cdiv%20id%3D%22html_8e1fe5fdd5404bfc9d1d8f0d20732575%22%20style%3D%22width%3A%20100.0%25%3B%20height%3A%20100.0%25%3B%22%3EDil%20Navaz%20Apartment%3C/div%3E%60%29%5B0%5D%3B%0A%20%20%20%20%20%20%20%20%20%20%20%20%20%20%20%20popup_e8b6a1acfdda4750a892341fd5c5395d.setContent%28html_8e1fe5fdd5404bfc9d1d8f0d20732575%29%3B%0A%20%20%20%20%20%20%20%20%20%20%20%20%0A%0A%20%20%20%20%20%20%20%20%20%20%20%20circle_marker_3122f2bd855f4a64a82dcc62e0dca214.bindPopup%28popup_e8b6a1acfdda4750a892341fd5c5395d%29%0A%20%20%20%20%20%20%20%20%20%20%20%20%3B%0A%0A%20%20%20%20%20%20%20%20%20%20%20%20%0A%20%20%20%20%20%20%20%20%0A%20%20%20%20%0A%20%20%20%20%20%20%20%20%20%20%20%20var%20circle_marker_0ddfff14a297408f88b08d1f123f73a4%20%3D%20L.circleMarker%28%0A%20%20%20%20%20%20%20%20%20%20%20%20%20%20%20%20%5B19.117881132001333%2C%2072.84472540359944%5D%2C%0A%20%20%20%20%20%20%20%20%20%20%20%20%20%20%20%20%7B%0A%20%20%22bubblingMouseEvents%22%3A%20true%2C%0A%20%20%22color%22%3A%20%22green%22%2C%0A%20%20%22dashArray%22%3A%20null%2C%0A%20%20%22dashOffset%22%3A%20null%2C%0A%20%20%22fill%22%3A%20true%2C%0A%20%20%22fillColor%22%3A%20%22green%22%2C%0A%20%20%22fillOpacity%22%3A%201%2C%0A%20%20%22fillRule%22%3A%20%22evenodd%22%2C%0A%20%20%22lineCap%22%3A%20%22round%22%2C%0A%20%20%22lineJoin%22%3A%20%22round%22%2C%0A%20%20%22opacity%22%3A%201.0%2C%0A%20%20%22radius%22%3A%205%2C%0A%20%20%22stroke%22%3A%20true%2C%0A%20%20%22weight%22%3A%203%0A%7D%0A%20%20%20%20%20%20%20%20%20%20%20%20%20%20%20%20%29%0A%20%20%20%20%20%20%20%20%20%20%20%20%20%20%20%20.addTo%28map_257216756e92412a8a1ec6ef68ef8bc0%29%3B%0A%20%20%20%20%20%20%20%20%20%20%20%20%0A%20%20%20%20%0A%20%20%20%20%20%20%20%20%20%20%20%20var%20popup_03bad8e10e9f4a7d89189b796c81d19c%20%3D%20L.popup%28%7BmaxWidth%3A%20%27300%27%0A%20%20%20%20%20%20%20%20%20%20%20%20%0A%20%20%20%20%20%20%20%20%20%20%20%20%7D%29%3B%0A%0A%20%20%20%20%20%20%20%20%20%20%20%20%0A%20%20%20%20%20%20%20%20%20%20%20%20%20%20%20%20var%20html_d7526710e44341d39a0dd15cc98906fb%20%3D%20%24%28%60%3Cdiv%20id%3D%22html_d7526710e44341d39a0dd15cc98906fb%22%20style%3D%22width%3A%20100.0%25%3B%20height%3A%20100.0%25%3B%22%3ESamir%20Apartment%3C/div%3E%60%29%5B0%5D%3B%0A%20%20%20%20%20%20%20%20%20%20%20%20%20%20%20%20popup_03bad8e10e9f4a7d89189b796c81d19c.setContent%28html_d7526710e44341d39a0dd15cc98906fb%29%3B%0A%20%20%20%20%20%20%20%20%20%20%20%20%0A%0A%20%20%20%20%20%20%20%20%20%20%20%20circle_marker_0ddfff14a297408f88b08d1f123f73a4.bindPopup%28popup_03bad8e10e9f4a7d89189b796c81d19c%29%0A%20%20%20%20%20%20%20%20%20%20%20%20%3B%0A%0A%20%20%20%20%20%20%20%20%20%20%20%20%0A%20%20%20%20%20%20%20%20%0A%20%20%20%20%0A%20%20%20%20%20%20%20%20%20%20%20%20var%20circle_marker_5372ca60f491410a8ddb80ea4079c7f1%20%3D%20L.circleMarker%28%0A%20%20%20%20%20%20%20%20%20%20%20%20%20%20%20%20%5B19.117221%2C%2072.881947%5D%2C%0A%20%20%20%20%20%20%20%20%20%20%20%20%20%20%20%20%7B%0A%20%20%22bubblingMouseEvents%22%3A%20true%2C%0A%20%20%22color%22%3A%20%22green%22%2C%0A%20%20%22dashArray%22%3A%20null%2C%0A%20%20%22dashOffset%22%3A%20null%2C%0A%20%20%22fill%22%3A%20true%2C%0A%20%20%22fillColor%22%3A%20%22green%22%2C%0A%20%20%22fillOpacity%22%3A%201%2C%0A%20%20%22fillRule%22%3A%20%22evenodd%22%2C%0A%20%20%22lineCap%22%3A%20%22round%22%2C%0A%20%20%22lineJoin%22%3A%20%22round%22%2C%0A%20%20%22opacity%22%3A%201.0%2C%0A%20%20%22radius%22%3A%205%2C%0A%20%20%22stroke%22%3A%20true%2C%0A%20%20%22weight%22%3A%203%0A%7D%0A%20%20%20%20%20%20%20%20%20%20%20%20%20%20%20%20%29%0A%20%20%20%20%20%20%20%20%20%20%20%20%20%20%20%20.addTo%28map_257216756e92412a8a1ec6ef68ef8bc0%29%3B%0A%20%20%20%20%20%20%20%20%20%20%20%20%0A%20%20%20%20%0A%20%20%20%20%20%20%20%20%20%20%20%20var%20popup_f406eb261c7a4c59b6e97014197bbe6e%20%3D%20L.popup%28%7BmaxWidth%3A%20%27300%27%0A%20%20%20%20%20%20%20%20%20%20%20%20%0A%20%20%20%20%20%20%20%20%20%20%20%20%7D%29%3B%0A%0A%20%20%20%20%20%20%20%20%20%20%20%20%0A%20%20%20%20%20%20%20%20%20%20%20%20%20%20%20%20var%20html_3864526ea4b4439d954a1ac3c7bfbb7c%20%3D%20%24%28%60%3Cdiv%20id%3D%22html_3864526ea4b4439d954a1ac3c7bfbb7c%22%20style%3D%22width%3A%20100.0%25%3B%20height%3A%20100.0%25%3B%22%3EShree%20Shakti%20Apartment%3C/div%3E%60%29%5B0%5D%3B%0A%20%20%20%20%20%20%20%20%20%20%20%20%20%20%20%20popup_f406eb261c7a4c59b6e97014197bbe6e.setContent%28html_3864526ea4b4439d954a1ac3c7bfbb7c%29%3B%0A%20%20%20%20%20%20%20%20%20%20%20%20%0A%0A%20%20%20%20%20%20%20%20%20%20%20%20circle_marker_5372ca60f491410a8ddb80ea4079c7f1.bindPopup%28popup_f406eb261c7a4c59b6e97014197bbe6e%29%0A%20%20%20%20%20%20%20%20%20%20%20%20%3B%0A%0A%20%20%20%20%20%20%20%20%20%20%20%20%0A%20%20%20%20%20%20%20%20%0A%20%20%20%20%0A%20%20%20%20%20%20%20%20%20%20%20%20var%20circle_marker_d651c9033a6843e4b0205efa1d34472b%20%3D%20L.circleMarker%28%0A%20%20%20%20%20%20%20%20%20%20%20%20%20%20%20%20%5B19.118135997761765%2C%2072.88723242968867%5D%2C%0A%20%20%20%20%20%20%20%20%20%20%20%20%20%20%20%20%7B%0A%20%20%22bubblingMouseEvents%22%3A%20true%2C%0A%20%20%22color%22%3A%20%22green%22%2C%0A%20%20%22dashArray%22%3A%20null%2C%0A%20%20%22dashOffset%22%3A%20null%2C%0A%20%20%22fill%22%3A%20true%2C%0A%20%20%22fillColor%22%3A%20%22green%22%2C%0A%20%20%22fillOpacity%22%3A%201%2C%0A%20%20%22fillRule%22%3A%20%22evenodd%22%2C%0A%20%20%22lineCap%22%3A%20%22round%22%2C%0A%20%20%22lineJoin%22%3A%20%22round%22%2C%0A%20%20%22opacity%22%3A%201.0%2C%0A%20%20%22radius%22%3A%205%2C%0A%20%20%22stroke%22%3A%20true%2C%0A%20%20%22weight%22%3A%203%0A%7D%0A%20%20%20%20%20%20%20%20%20%20%20%20%20%20%20%20%29%0A%20%20%20%20%20%20%20%20%20%20%20%20%20%20%20%20.addTo%28map_257216756e92412a8a1ec6ef68ef8bc0%29%3B%0A%20%20%20%20%20%20%20%20%20%20%20%20%0A%20%20%20%20%0A%20%20%20%20%20%20%20%20%20%20%20%20var%20popup_d6cead666ab946ed9d1e16424706c46f%20%3D%20L.popup%28%7BmaxWidth%3A%20%27300%27%0A%20%20%20%20%20%20%20%20%20%20%20%20%0A%20%20%20%20%20%20%20%20%20%20%20%20%7D%29%3B%0A%0A%20%20%20%20%20%20%20%20%20%20%20%20%0A%20%20%20%20%20%20%20%20%20%20%20%20%20%20%20%20var%20html_0643dd28df7347d99b31526221eb8006%20%3D%20%24%28%60%3Cdiv%20id%3D%22html_0643dd28df7347d99b31526221eb8006%22%20style%3D%22width%3A%20100.0%25%3B%20height%3A%20100.0%25%3B%22%3ESneh%20Sarovar%20Apartment%3C/div%3E%60%29%5B0%5D%3B%0A%20%20%20%20%20%20%20%20%20%20%20%20%20%20%20%20popup_d6cead666ab946ed9d1e16424706c46f.setContent%28html_0643dd28df7347d99b31526221eb8006%29%3B%0A%20%20%20%20%20%20%20%20%20%20%20%20%0A%0A%20%20%20%20%20%20%20%20%20%20%20%20circle_marker_d651c9033a6843e4b0205efa1d34472b.bindPopup%28popup_d6cead666ab946ed9d1e16424706c46f%29%0A%20%20%20%20%20%20%20%20%20%20%20%20%3B%0A%0A%20%20%20%20%20%20%20%20%20%20%20%20%0A%20%20%20%20%20%20%20%20%0A%20%20%20%20%0A%20%20%20%20%20%20%20%20%20%20%20%20var%20circle_marker_2186c35e92e94b60b9389dc2f789bbe3%20%3D%20L.circleMarker%28%0A%20%20%20%20%20%20%20%20%20%20%20%20%20%20%20%20%5B19.1107915%2C%2072.8279949%5D%2C%0A%20%20%20%20%20%20%20%20%20%20%20%20%20%20%20%20%7B%0A%20%20%22bubblingMouseEvents%22%3A%20true%2C%0A%20%20%22color%22%3A%20%22green%22%2C%0A%20%20%22dashArray%22%3A%20null%2C%0A%20%20%22dashOffset%22%3A%20null%2C%0A%20%20%22fill%22%3A%20true%2C%0A%20%20%22fillColor%22%3A%20%22green%22%2C%0A%20%20%22fillOpacity%22%3A%201%2C%0A%20%20%22fillRule%22%3A%20%22evenodd%22%2C%0A%20%20%22lineCap%22%3A%20%22round%22%2C%0A%20%20%22lineJoin%22%3A%20%22round%22%2C%0A%20%20%22opacity%22%3A%201.0%2C%0A%20%20%22radius%22%3A%205%2C%0A%20%20%22stroke%22%3A%20true%2C%0A%20%20%22weight%22%3A%203%0A%7D%0A%20%20%20%20%20%20%20%20%20%20%20%20%20%20%20%20%29%0A%20%20%20%20%20%20%20%20%20%20%20%20%20%20%20%20.addTo%28map_257216756e92412a8a1ec6ef68ef8bc0%29%3B%0A%20%20%20%20%20%20%20%20%20%20%20%20%0A%20%20%20%20%0A%20%20%20%20%20%20%20%20%20%20%20%20var%20popup_dac8573486fe4b0c919fbdd1faff5d1b%20%3D%20L.popup%28%7BmaxWidth%3A%20%27300%27%0A%20%20%20%20%20%20%20%20%20%20%20%20%0A%20%20%20%20%20%20%20%20%20%20%20%20%7D%29%3B%0A%0A%20%20%20%20%20%20%20%20%20%20%20%20%0A%20%20%20%20%20%20%20%20%20%20%20%20%20%20%20%20var%20html_28130eea6ae9420180382a98d6f290ab%20%3D%20%24%28%60%3Cdiv%20id%3D%22html_28130eea6ae9420180382a98d6f290ab%22%20style%3D%22width%3A%20100.0%25%3B%20height%3A%20100.0%25%3B%22%3ESba%27s%20apartment%3C/div%3E%60%29%5B0%5D%3B%0A%20%20%20%20%20%20%20%20%20%20%20%20%20%20%20%20popup_dac8573486fe4b0c919fbdd1faff5d1b.setContent%28html_28130eea6ae9420180382a98d6f290ab%29%3B%0A%20%20%20%20%20%20%20%20%20%20%20%20%0A%0A%20%20%20%20%20%20%20%20%20%20%20%20circle_marker_2186c35e92e94b60b9389dc2f789bbe3.bindPopup%28popup_dac8573486fe4b0c919fbdd1faff5d1b%29%0A%20%20%20%20%20%20%20%20%20%20%20%20%3B%0A%0A%20%20%20%20%20%20%20%20%20%20%20%20%0A%20%20%20%20%20%20%20%20%0A%20%20%20%20%0A%20%20%20%20%20%20%20%20%20%20%20%20var%20circle_marker_6e40ebbe78a446d5896e4d344c0b5321%20%3D%20L.circleMarker%28%0A%20%20%20%20%20%20%20%20%20%20%20%20%20%20%20%20%5B19.11127369082033%2C%2072.89875211379857%5D%2C%0A%20%20%20%20%20%20%20%20%20%20%20%20%20%20%20%20%7B%0A%20%20%22bubblingMouseEvents%22%3A%20true%2C%0A%20%20%22color%22%3A%20%22green%22%2C%0A%20%20%22dashArray%22%3A%20null%2C%0A%20%20%22dashOffset%22%3A%20null%2C%0A%20%20%22fill%22%3A%20true%2C%0A%20%20%22fillColor%22%3A%20%22green%22%2C%0A%20%20%22fillOpacity%22%3A%201%2C%0A%20%20%22fillRule%22%3A%20%22evenodd%22%2C%0A%20%20%22lineCap%22%3A%20%22round%22%2C%0A%20%20%22lineJoin%22%3A%20%22round%22%2C%0A%20%20%22opacity%22%3A%201.0%2C%0A%20%20%22radius%22%3A%205%2C%0A%20%20%22stroke%22%3A%20true%2C%0A%20%20%22weight%22%3A%203%0A%7D%0A%20%20%20%20%20%20%20%20%20%20%20%20%20%20%20%20%29%0A%20%20%20%20%20%20%20%20%20%20%20%20%20%20%20%20.addTo%28map_257216756e92412a8a1ec6ef68ef8bc0%29%3B%0A%20%20%20%20%20%20%20%20%20%20%20%20%0A%20%20%20%20%0A%20%20%20%20%20%20%20%20%20%20%20%20var%20popup_78c07132ce1f401694b2181ef26a3e92%20%3D%20L.popup%28%7BmaxWidth%3A%20%27300%27%0A%20%20%20%20%20%20%20%20%20%20%20%20%0A%20%20%20%20%20%20%20%20%20%20%20%20%7D%29%3B%0A%0A%20%20%20%20%20%20%20%20%20%20%20%20%0A%20%20%20%20%20%20%20%20%20%20%20%20%20%20%20%20var%20html_386e794c306946698fd828cda35b6079%20%3D%20%24%28%60%3Cdiv%20id%3D%22html_386e794c306946698fd828cda35b6079%22%20style%3D%22width%3A%20100.0%25%3B%20height%3A%20100.0%25%3B%22%3EOritel%20service%20apartment%3C/div%3E%60%29%5B0%5D%3B%0A%20%20%20%20%20%20%20%20%20%20%20%20%20%20%20%20popup_78c07132ce1f401694b2181ef26a3e92.setContent%28html_386e794c306946698fd828cda35b6079%29%3B%0A%20%20%20%20%20%20%20%20%20%20%20%20%0A%0A%20%20%20%20%20%20%20%20%20%20%20%20circle_marker_6e40ebbe78a446d5896e4d344c0b5321.bindPopup%28popup_78c07132ce1f401694b2181ef26a3e92%29%0A%20%20%20%20%20%20%20%20%20%20%20%20%3B%0A%0A%20%20%20%20%20%20%20%20%20%20%20%20%0A%20%20%20%20%20%20%20%20%0A%20%20%20%20%0A%20%20%20%20%20%20%20%20%20%20%20%20var%20circle_marker_7f88c045e8aa4cf9b8fb8e44149f3749%20%3D%20L.circleMarker%28%0A%20%20%20%20%20%20%20%20%20%20%20%20%20%20%20%20%5B19.20480325013094%2C%2072.95313576540396%5D%2C%0A%20%20%20%20%20%20%20%20%20%20%20%20%20%20%20%20%7B%0A%20%20%22bubblingMouseEvents%22%3A%20true%2C%0A%20%20%22color%22%3A%20%22red%22%2C%0A%20%20%22dashArray%22%3A%20null%2C%0A%20%20%22dashOffset%22%3A%20null%2C%0A%20%20%22fill%22%3A%20true%2C%0A%20%20%22fillColor%22%3A%20%22red%22%2C%0A%20%20%22fillOpacity%22%3A%201%2C%0A%20%20%22fillRule%22%3A%20%22evenodd%22%2C%0A%20%20%22lineCap%22%3A%20%22round%22%2C%0A%20%20%22lineJoin%22%3A%20%22round%22%2C%0A%20%20%22opacity%22%3A%201.0%2C%0A%20%20%22radius%22%3A%205%2C%0A%20%20%22stroke%22%3A%20true%2C%0A%20%20%22weight%22%3A%203%0A%7D%0A%20%20%20%20%20%20%20%20%20%20%20%20%20%20%20%20%29%0A%20%20%20%20%20%20%20%20%20%20%20%20%20%20%20%20.addTo%28map_257216756e92412a8a1ec6ef68ef8bc0%29%3B%0A%20%20%20%20%20%20%20%20%20%20%20%20%0A%20%20%20%20%0A%20%20%20%20%20%20%20%20%20%20%20%20var%20popup_d81d0d0a9981494c8d2b2c6a7c92ad1e%20%3D%20L.popup%28%7BmaxWidth%3A%20%27300%27%0A%20%20%20%20%20%20%20%20%20%20%20%20%0A%20%20%20%20%20%20%20%20%20%20%20%20%7D%29%3B%0A%0A%20%20%20%20%20%20%20%20%20%20%20%20%0A%20%20%20%20%20%20%20%20%20%20%20%20%20%20%20%20var%20html_baeedecaa4364a8083f1db8231d08049%20%3D%20%24%28%60%3Cdiv%20id%3D%22html_baeedecaa4364a8083f1db8231d08049%22%20style%3D%22width%3A%20100.0%25%3B%20height%3A%20100.0%25%3B%22%3EPanorama%20Apartment%3C/div%3E%60%29%5B0%5D%3B%0A%20%20%20%20%20%20%20%20%20%20%20%20%20%20%20%20popup_d81d0d0a9981494c8d2b2c6a7c92ad1e.setContent%28html_baeedecaa4364a8083f1db8231d08049%29%3B%0A%20%20%20%20%20%20%20%20%20%20%20%20%0A%0A%20%20%20%20%20%20%20%20%20%20%20%20circle_marker_7f88c045e8aa4cf9b8fb8e44149f3749.bindPopup%28popup_d81d0d0a9981494c8d2b2c6a7c92ad1e%29%0A%20%20%20%20%20%20%20%20%20%20%20%20%3B%0A%0A%20%20%20%20%20%20%20%20%20%20%20%20%0A%20%20%20%20%20%20%20%20%0A%20%20%20%20%0A%20%20%20%20%20%20%20%20%20%20%20%20var%20circle_marker_8fa35e5edd294213b1cf9a5bb37935e6%20%3D%20L.circleMarker%28%0A%20%20%20%20%20%20%20%20%20%20%20%20%20%20%20%20%5B19.16835117879141%2C%2072.9498768013342%5D%2C%0A%20%20%20%20%20%20%20%20%20%20%20%20%20%20%20%20%7B%0A%20%20%22bubblingMouseEvents%22%3A%20true%2C%0A%20%20%22color%22%3A%20%22green%22%2C%0A%20%20%22dashArray%22%3A%20null%2C%0A%20%20%22dashOffset%22%3A%20null%2C%0A%20%20%22fill%22%3A%20true%2C%0A%20%20%22fillColor%22%3A%20%22green%22%2C%0A%20%20%22fillOpacity%22%3A%201%2C%0A%20%20%22fillRule%22%3A%20%22evenodd%22%2C%0A%20%20%22lineCap%22%3A%20%22round%22%2C%0A%20%20%22lineJoin%22%3A%20%22round%22%2C%0A%20%20%22opacity%22%3A%201.0%2C%0A%20%20%22radius%22%3A%205%2C%0A%20%20%22stroke%22%3A%20true%2C%0A%20%20%22weight%22%3A%203%0A%7D%0A%20%20%20%20%20%20%20%20%20%20%20%20%20%20%20%20%29%0A%20%20%20%20%20%20%20%20%20%20%20%20%20%20%20%20.addTo%28map_257216756e92412a8a1ec6ef68ef8bc0%29%3B%0A%20%20%20%20%20%20%20%20%20%20%20%20%0A%20%20%20%20%0A%20%20%20%20%20%20%20%20%20%20%20%20var%20popup_da9b246a71b84474a0a8f5d65b60cd7b%20%3D%20L.popup%28%7BmaxWidth%3A%20%27300%27%0A%20%20%20%20%20%20%20%20%20%20%20%20%0A%20%20%20%20%20%20%20%20%20%20%20%20%7D%29%3B%0A%0A%20%20%20%20%20%20%20%20%20%20%20%20%0A%20%20%20%20%20%20%20%20%20%20%20%20%20%20%20%20var%20html_f4d7bc16ccca443b8d42b64ab9833bb7%20%3D%20%24%28%60%3Cdiv%20id%3D%22html_f4d7bc16ccca443b8d42b64ab9833bb7%22%20style%3D%22width%3A%20100.0%25%3B%20height%3A%20100.0%25%3B%22%3ERavi%20Apartment%20Co-Op%20HSG%20Society%3C/div%3E%60%29%5B0%5D%3B%0A%20%20%20%20%20%20%20%20%20%20%20%20%20%20%20%20popup_da9b246a71b84474a0a8f5d65b60cd7b.setContent%28html_f4d7bc16ccca443b8d42b64ab9833bb7%29%3B%0A%20%20%20%20%20%20%20%20%20%20%20%20%0A%0A%20%20%20%20%20%20%20%20%20%20%20%20circle_marker_8fa35e5edd294213b1cf9a5bb37935e6.bindPopup%28popup_da9b246a71b84474a0a8f5d65b60cd7b%29%0A%20%20%20%20%20%20%20%20%20%20%20%20%3B%0A%0A%20%20%20%20%20%20%20%20%20%20%20%20%0A%20%20%20%20%20%20%20%20%0A%20%20%20%20%0A%20%20%20%20%20%20%20%20%20%20%20%20var%20circle_marker_922d54a83dee45629d74de8aa2821852%20%3D%20L.circleMarker%28%0A%20%20%20%20%20%20%20%20%20%20%20%20%20%20%20%20%5B19.095674759505926%2C%2072.84909298655401%5D%2C%0A%20%20%20%20%20%20%20%20%20%20%20%20%20%20%20%20%7B%0A%20%20%22bubblingMouseEvents%22%3A%20true%2C%0A%20%20%22color%22%3A%20%22green%22%2C%0A%20%20%22dashArray%22%3A%20null%2C%0A%20%20%22dashOffset%22%3A%20null%2C%0A%20%20%22fill%22%3A%20true%2C%0A%20%20%22fillColor%22%3A%20%22green%22%2C%0A%20%20%22fillOpacity%22%3A%201%2C%0A%20%20%22fillRule%22%3A%20%22evenodd%22%2C%0A%20%20%22lineCap%22%3A%20%22round%22%2C%0A%20%20%22lineJoin%22%3A%20%22round%22%2C%0A%20%20%22opacity%22%3A%201.0%2C%0A%20%20%22radius%22%3A%205%2C%0A%20%20%22stroke%22%3A%20true%2C%0A%20%20%22weight%22%3A%203%0A%7D%0A%20%20%20%20%20%20%20%20%20%20%20%20%20%20%20%20%29%0A%20%20%20%20%20%20%20%20%20%20%20%20%20%20%20%20.addTo%28map_257216756e92412a8a1ec6ef68ef8bc0%29%3B%0A%20%20%20%20%20%20%20%20%20%20%20%20%0A%20%20%20%20%0A%20%20%20%20%20%20%20%20%20%20%20%20var%20popup_532a595bb3ae44da96789de7ce7e2230%20%3D%20L.popup%28%7BmaxWidth%3A%20%27300%27%0A%20%20%20%20%20%20%20%20%20%20%20%20%0A%20%20%20%20%20%20%20%20%20%20%20%20%7D%29%3B%0A%0A%20%20%20%20%20%20%20%20%20%20%20%20%0A%20%20%20%20%20%20%20%20%20%20%20%20%20%20%20%20var%20html_332f8c121af4479b869c2dd7fc71dba9%20%3D%20%24%28%60%3Cdiv%20id%3D%22html_332f8c121af4479b869c2dd7fc71dba9%22%20style%3D%22width%3A%20100.0%25%3B%20height%3A%20100.0%25%3B%22%3EAmeya%20Apartment%2C%20Nariman%20Road%2C%20Vile%20Parle%20%28east%29%3C/div%3E%60%29%5B0%5D%3B%0A%20%20%20%20%20%20%20%20%20%20%20%20%20%20%20%20popup_532a595bb3ae44da96789de7ce7e2230.setContent%28html_332f8c121af4479b869c2dd7fc71dba9%29%3B%0A%20%20%20%20%20%20%20%20%20%20%20%20%0A%0A%20%20%20%20%20%20%20%20%20%20%20%20circle_marker_922d54a83dee45629d74de8aa2821852.bindPopup%28popup_532a595bb3ae44da96789de7ce7e2230%29%0A%20%20%20%20%20%20%20%20%20%20%20%20%3B%0A%0A%20%20%20%20%20%20%20%20%20%20%20%20%0A%20%20%20%20%20%20%20%20%0A%20%20%20%20%0A%20%20%20%20%20%20%20%20%20%20%20%20var%20feature_group_81a3ec5a37294366aaf2f1f2bec9a5ef%20%3D%20L.featureGroup%28%0A%20%20%20%20%20%20%20%20%20%20%20%20%20%20%20%20%29.addTo%28map_257216756e92412a8a1ec6ef68ef8bc0%29%3B%0A%20%20%20%20%20%20%20%20%0A%3C/script%3E onload=\"this.contentDocument.open();this.contentDocument.write(    decodeURIComponent(this.getAttribute('data-html')));this.contentDocument.close();\" allowfullscreen webkitallowfullscreen mozallowfullscreen></iframe></div></div>"
            ],
            "text/plain": [
              "<folium.folium.Map at 0x7f4d9c5841d0>"
            ]
          },
          "metadata": {
            "tags": []
          },
          "execution_count": 104
        }
      ]
    },
    {
      "cell_type": "code",
      "metadata": {
        "colab": {
          "base_uri": "https://localhost:8080/",
          "height": 1000
        },
        "id": "_6qRNEexSRt1",
        "outputId": "452c9285-05ab-4949-d4b4-f47a7b711f5f"
      },
      "source": [
        ""
      ],
      "execution_count": null,
      "outputs": [
        {
          "output_type": "execute_result",
          "data": {
            "text/html": [
              "<div>\n",
              "<style scoped>\n",
              "    .dataframe tbody tr th:only-of-type {\n",
              "        vertical-align: middle;\n",
              "    }\n",
              "\n",
              "    .dataframe tbody tr th {\n",
              "        vertical-align: top;\n",
              "    }\n",
              "\n",
              "    .dataframe thead th {\n",
              "        text-align: right;\n",
              "    }\n",
              "</style>\n",
              "<table border=\"1\" class=\"dataframe\">\n",
              "  <thead>\n",
              "    <tr style=\"text-align: right;\">\n",
              "      <th></th>\n",
              "      <th>name</th>\n",
              "      <th>categories</th>\n",
              "      <th>address</th>\n",
              "      <th>crossStreet</th>\n",
              "      <th>lat</th>\n",
              "      <th>lng</th>\n",
              "      <th>labeledLatLngs</th>\n",
              "      <th>distance</th>\n",
              "      <th>postalCode</th>\n",
              "      <th>formattedAddress</th>\n",
              "      <th>id</th>\n",
              "    </tr>\n",
              "  </thead>\n",
              "  <tbody>\n",
              "    <tr>\n",
              "      <th>0</th>\n",
              "      <td>Silver Apartment</td>\n",
              "      <td>Residential Building (Apartment / Condo)</td>\n",
              "      <td>Silver Apartment</td>\n",
              "      <td>Akurli Road 1, Kandivali East</td>\n",
              "      <td>19.203014</td>\n",
              "      <td>72.853172</td>\n",
              "      <td>[{'label': 'display', 'lat': 19.20301437377929...</td>\n",
              "      <td>1190</td>\n",
              "      <td>400101</td>\n",
              "      <td>[Silver Apartment (Akurli Road 1, Kandivali Ea...</td>\n",
              "      <td>556ab992498e608f2567a36c</td>\n",
              "    </tr>\n",
              "    <tr>\n",
              "      <th>1</th>\n",
              "      <td>Malad apartment co op hsg soc</td>\n",
              "      <td>Housing Development</td>\n",
              "      <td>NaN</td>\n",
              "      <td>NaN</td>\n",
              "      <td>19.186453</td>\n",
              "      <td>72.847148</td>\n",
              "      <td>[{'label': 'display', 'lat': 19.186453, 'lng':...</td>\n",
              "      <td>1460</td>\n",
              "      <td>400064</td>\n",
              "      <td>[400064, Mahārāshtra, India]</td>\n",
              "      <td>4d401a1f90f9224b4619031e</td>\n",
              "    </tr>\n",
              "    <tr>\n",
              "      <th>2</th>\n",
              "      <td>Kedarnath Apartment</td>\n",
              "      <td>Residential Building (Apartment / Condo)</td>\n",
              "      <td>Adarshdughdalaya, Mistree Lane</td>\n",
              "      <td>Malad West</td>\n",
              "      <td>19.194807</td>\n",
              "      <td>72.841660</td>\n",
              "      <td>[{'label': 'display', 'lat': 19.19480705261230...</td>\n",
              "      <td>1798</td>\n",
              "      <td>400064</td>\n",
              "      <td>[Adarshdughdalaya, Mistree Lane (Malad West), ...</td>\n",
              "      <td>54a3f212498e87a65d889daa</td>\n",
              "    </tr>\n",
              "    <tr>\n",
              "      <th>3</th>\n",
              "      <td>Le Midas Apartment</td>\n",
              "      <td>Residential Building (Apartment / Condo)</td>\n",
              "      <td>601 Le Midas Apartment</td>\n",
              "      <td>Ram Chandra Lane, Malad(West)</td>\n",
              "      <td>19.194006</td>\n",
              "      <td>72.844417</td>\n",
              "      <td>[{'label': 'display', 'lat': 19.194006, 'lng':...</td>\n",
              "      <td>1505</td>\n",
              "      <td>400064</td>\n",
              "      <td>[601 Le Midas Apartment (Ram Chandra Lane, Mal...</td>\n",
              "      <td>4f70d68fe4b032eb66127246</td>\n",
              "    </tr>\n",
              "    <tr>\n",
              "      <th>4</th>\n",
              "      <td>Gods Grace Apartment</td>\n",
              "      <td>Assisted Living</td>\n",
              "      <td>Adarsha Dairy Rd, Kandivli West, Mumbai, Mahar...</td>\n",
              "      <td>NaN</td>\n",
              "      <td>19.194887</td>\n",
              "      <td>72.841614</td>\n",
              "      <td>[{'label': 'display', 'lat': 19.19488716125488...</td>\n",
              "      <td>1804</td>\n",
              "      <td>400064</td>\n",
              "      <td>[Adarsha Dairy Rd, Kandivli West, Mumbai, Maha...</td>\n",
              "      <td>50f81945e4b0626fb740bd89</td>\n",
              "    </tr>\n",
              "    <tr>\n",
              "      <th>5</th>\n",
              "      <td>Zenith Apartment</td>\n",
              "      <td>Residential Building (Apartment / Condo)</td>\n",
              "      <td>Dominic Colony Road Number 1</td>\n",
              "      <td>Orlem, Malad West</td>\n",
              "      <td>19.195640</td>\n",
              "      <td>72.839736</td>\n",
              "      <td>[{'label': 'display', 'lat': 19.19563998581775...</td>\n",
              "      <td>2008</td>\n",
              "      <td>400064</td>\n",
              "      <td>[Dominic Colony Road Number 1 (Orlem, Malad We...</td>\n",
              "      <td>58621787e386e329a447fa38</td>\n",
              "    </tr>\n",
              "    <tr>\n",
              "      <th>6</th>\n",
              "      <td>ApartmentADDA</td>\n",
              "      <td>Business Service</td>\n",
              "      <td>504, Tanishka Building, Near Big Bazaar, Akurl...</td>\n",
              "      <td>NaN</td>\n",
              "      <td>19.201431</td>\n",
              "      <td>72.860985</td>\n",
              "      <td>[{'label': 'display', 'lat': 19.20143050922711...</td>\n",
              "      <td>892</td>\n",
              "      <td>400101</td>\n",
              "      <td>[504, Tanishka Building, Near Big Bazaar, Akur...</td>\n",
              "      <td>552e5a61498eec260fe16b03</td>\n",
              "    </tr>\n",
              "    <tr>\n",
              "      <th>7</th>\n",
              "      <td>Jay Apartment</td>\n",
              "      <td>Residential Building (Apartment / Condo)</td>\n",
              "      <td>NaN</td>\n",
              "      <td>NaN</td>\n",
              "      <td>19.206053</td>\n",
              "      <td>72.838558</td>\n",
              "      <td>[{'label': 'display', 'lat': 19.20605272849316...</td>\n",
              "      <td>2527</td>\n",
              "      <td>NaN</td>\n",
              "      <td>[India]</td>\n",
              "      <td>5449ef43498ecb0abc78b7a4</td>\n",
              "    </tr>\n",
              "    <tr>\n",
              "      <th>8</th>\n",
              "      <td>Concorde Service Apartment</td>\n",
              "      <td>Bed &amp; Breakfast</td>\n",
              "      <td>D 1103 Raheja Residency, Near Raheja Heights, ...</td>\n",
              "      <td>film city road</td>\n",
              "      <td>19.187257</td>\n",
              "      <td>72.835446</td>\n",
              "      <td>[{'label': 'display', 'lat': 19.1872565, 'lng'...</td>\n",
              "      <td>2550</td>\n",
              "      <td>400097</td>\n",
              "      <td>[D 1103 Raheja Residency, Near Raheja Heights,...</td>\n",
              "      <td>575f0ee7498e165ac84dbcb5</td>\n",
              "    </tr>\n",
              "    <tr>\n",
              "      <th>9</th>\n",
              "      <td>Concorde Service Apartment</td>\n",
              "      <td>Bed &amp; Breakfast</td>\n",
              "      <td>link road</td>\n",
              "      <td>NaN</td>\n",
              "      <td>19.184416</td>\n",
              "      <td>72.835742</td>\n",
              "      <td>[{'label': 'display', 'lat': 19.18441596735917...</td>\n",
              "      <td>2628</td>\n",
              "      <td>400064</td>\n",
              "      <td>[link road, Malad 400064, Mahārāshtra, India]</td>\n",
              "      <td>556f337a498e103ac14375ae</td>\n",
              "    </tr>\n",
              "    <tr>\n",
              "      <th>10</th>\n",
              "      <td>Shiv Bhakti Apartment</td>\n",
              "      <td>Residential Building (Apartment / Condo)</td>\n",
              "      <td>Ahimsa Marg</td>\n",
              "      <td>NaN</td>\n",
              "      <td>19.176743</td>\n",
              "      <td>72.838648</td>\n",
              "      <td>[{'label': 'display', 'lat': 19.1767433, 'lng'...</td>\n",
              "      <td>2832</td>\n",
              "      <td>400064</td>\n",
              "      <td>[Ahimsa Marg, Mumbai 400064, Mahārāshtra, India]</td>\n",
              "      <td>4e0226d3814d9dac7d530593</td>\n",
              "    </tr>\n",
              "    <tr>\n",
              "      <th>11</th>\n",
              "      <td>Jai Vijayshree Apartment</td>\n",
              "      <td>Residential Building (Apartment / Condo)</td>\n",
              "      <td>NaN</td>\n",
              "      <td>NaN</td>\n",
              "      <td>19.167709</td>\n",
              "      <td>72.839135</td>\n",
              "      <td>[{'label': 'display', 'lat': 19.16770946590840...</td>\n",
              "      <td>3551</td>\n",
              "      <td>NaN</td>\n",
              "      <td>[India]</td>\n",
              "      <td>52d26f02498e94d953275c69</td>\n",
              "    </tr>\n",
              "    <tr>\n",
              "      <th>12</th>\n",
              "      <td>Videocon Apartments</td>\n",
              "      <td>Residential Building (Apartment / Condo)</td>\n",
              "      <td>Near kanakshri Hall, Ashok Nagar</td>\n",
              "      <td>NaN</td>\n",
              "      <td>19.198632</td>\n",
              "      <td>72.856795</td>\n",
              "      <td>[{'label': 'display', 'lat': 19.19863185762963...</td>\n",
              "      <td>585</td>\n",
              "      <td>NaN</td>\n",
              "      <td>[Near kanakshri Hall, Ashok Nagar, Mumbai, Mah...</td>\n",
              "      <td>5454fb20498e39754955df4d</td>\n",
              "    </tr>\n",
              "    <tr>\n",
              "      <th>13</th>\n",
              "      <td>Ashok Tower Apartment</td>\n",
              "      <td>Residential Building (Apartment / Condo)</td>\n",
              "      <td>Military Road</td>\n",
              "      <td>NaN</td>\n",
              "      <td>19.119213</td>\n",
              "      <td>72.887498</td>\n",
              "      <td>[{'label': 'display', 'lat': 19.11921309395752...</td>\n",
              "      <td>8826</td>\n",
              "      <td>NaN</td>\n",
              "      <td>[Military Road, Mahārāshtra, India]</td>\n",
              "      <td>4d567c3c48ea6ea89825e1a3</td>\n",
              "    </tr>\n",
              "    <tr>\n",
              "      <th>14</th>\n",
              "      <td>Jayesh Apartment</td>\n",
              "      <td>Residential Building (Apartment / Condo)</td>\n",
              "      <td>Chandavarkar Road, Borivali West</td>\n",
              "      <td>NaN</td>\n",
              "      <td>19.231130</td>\n",
              "      <td>72.851473</td>\n",
              "      <td>[{'label': 'display', 'lat': 19.23113, 'lng': ...</td>\n",
              "      <td>4235</td>\n",
              "      <td>400092</td>\n",
              "      <td>[Chandavarkar Road, Borivali West, Mumbai 4000...</td>\n",
              "      <td>5c342c114c954c002c102c4a</td>\n",
              "    </tr>\n",
              "    <tr>\n",
              "      <th>15</th>\n",
              "      <td>Geetasagar Apartment</td>\n",
              "      <td>Residential Building (Apartment / Condo)</td>\n",
              "      <td>l.t road no 4,</td>\n",
              "      <td>M.G road, Goregaon west</td>\n",
              "      <td>19.159676</td>\n",
              "      <td>72.840554</td>\n",
              "      <td>[{'label': 'display', 'lat': 19.15967644739150...</td>\n",
              "      <td>4242</td>\n",
              "      <td>400062</td>\n",
              "      <td>[l.t road no 4, (M.G road, Goregaon west), Mum...</td>\n",
              "      <td>4e09610b8877394591f23986</td>\n",
              "    </tr>\n",
              "    <tr>\n",
              "      <th>16</th>\n",
              "      <td>Priyesh apartment, CKP colony</td>\n",
              "      <td>Residential Building (Apartment / Condo)</td>\n",
              "      <td>Priyesh Apartment</td>\n",
              "      <td>Eksar Road</td>\n",
              "      <td>19.231604</td>\n",
              "      <td>72.846520</td>\n",
              "      <td>[{'label': 'display', 'lat': 19.23160447271794...</td>\n",
              "      <td>4410</td>\n",
              "      <td>400092</td>\n",
              "      <td>[Priyesh Apartment (Eksar Road), Mumbai 400092...</td>\n",
              "      <td>55718e99498e7ea8ca8a7738</td>\n",
              "    </tr>\n",
              "    <tr>\n",
              "      <th>17</th>\n",
              "      <td>Shreyas Apartments</td>\n",
              "      <td>Residential Building (Apartment / Condo)</td>\n",
              "      <td>NaN</td>\n",
              "      <td>NaN</td>\n",
              "      <td>19.192478</td>\n",
              "      <td>72.851499</td>\n",
              "      <td>[{'label': 'display', 'lat': 19.19247752305034...</td>\n",
              "      <td>772</td>\n",
              "      <td>NaN</td>\n",
              "      <td>[India]</td>\n",
              "      <td>555156c0498e1e8aaa8d105f</td>\n",
              "    </tr>\n",
              "    <tr>\n",
              "      <th>18</th>\n",
              "      <td>My Apartment</td>\n",
              "      <td>Residential Building (Apartment / Condo)</td>\n",
              "      <td>Gorai 1</td>\n",
              "      <td>NaN</td>\n",
              "      <td>19.224950</td>\n",
              "      <td>72.830867</td>\n",
              "      <td>[{'label': 'display', 'lat': 19.22495, 'lng': ...</td>\n",
              "      <td>4547</td>\n",
              "      <td>NaN</td>\n",
              "      <td>[Gorai 1, Borivali West, Mahārāshtra, India]</td>\n",
              "      <td>4df311da52b100c2d7f97fdc</td>\n",
              "    </tr>\n",
              "    <tr>\n",
              "      <th>19</th>\n",
              "      <td>Theresa apartment, LIC colony</td>\n",
              "      <td>Residential Building (Apartment / Condo)</td>\n",
              "      <td>Theresa Apts</td>\n",
              "      <td>LIC COLONY</td>\n",
              "      <td>19.244539</td>\n",
              "      <td>72.851297</td>\n",
              "      <td>[{'label': 'display', 'lat': 19.24453927342370...</td>\n",
              "      <td>5713</td>\n",
              "      <td>400103</td>\n",
              "      <td>[Theresa Apts (LIC COLONY), Mumbai 400103, Mah...</td>\n",
              "      <td>4fc4be00e4b0b66df07c7634</td>\n",
              "    </tr>\n",
              "    <tr>\n",
              "      <th>20</th>\n",
              "      <td>Bhoumik Apartments</td>\n",
              "      <td>Residential Building (Apartment / Condo)</td>\n",
              "      <td>NaN</td>\n",
              "      <td>NaN</td>\n",
              "      <td>19.198813</td>\n",
              "      <td>72.848539</td>\n",
              "      <td>[{'label': 'display', 'lat': 19.19881311745660...</td>\n",
              "      <td>1213</td>\n",
              "      <td>NaN</td>\n",
              "      <td>[India]</td>\n",
              "      <td>4f3aa5d5e4b0e3d3db60ac25</td>\n",
              "    </tr>\n",
              "    <tr>\n",
              "      <th>21</th>\n",
              "      <td>Anant Apartments</td>\n",
              "      <td>Residential Building (Apartment / Condo)</td>\n",
              "      <td>NaN</td>\n",
              "      <td>NaN</td>\n",
              "      <td>19.207284</td>\n",
              "      <td>72.864814</td>\n",
              "      <td>[{'label': 'display', 'lat': 19.20728400387243...</td>\n",
              "      <td>1641</td>\n",
              "      <td>NaN</td>\n",
              "      <td>[India]</td>\n",
              "      <td>55053173498e227d1bc979cf</td>\n",
              "    </tr>\n",
              "    <tr>\n",
              "      <th>22</th>\n",
              "      <td>Rosemar Apartment</td>\n",
              "      <td>Building</td>\n",
              "      <td>Holy Cross Road, I C Colony</td>\n",
              "      <td>Borivali (W)</td>\n",
              "      <td>19.247247</td>\n",
              "      <td>72.851287</td>\n",
              "      <td>[{'label': 'display', 'lat': 19.247247, 'lng':...</td>\n",
              "      <td>6011</td>\n",
              "      <td>400103</td>\n",
              "      <td>[Holy Cross Road, I C Colony (Borivali (W)), M...</td>\n",
              "      <td>4d844b2a7e8ef04defd308be</td>\n",
              "    </tr>\n",
              "    <tr>\n",
              "      <th>23</th>\n",
              "      <td>Koshal Apartments</td>\n",
              "      <td>Residential Building (Apartment / Condo)</td>\n",
              "      <td>Kandivali West</td>\n",
              "      <td>Shankar Lane</td>\n",
              "      <td>19.198903</td>\n",
              "      <td>72.846855</td>\n",
              "      <td>[{'label': 'display', 'lat': 19.198903, 'lng':...</td>\n",
              "      <td>1376</td>\n",
              "      <td>NaN</td>\n",
              "      <td>[Kandivali West (Shankar Lane), Mumbai, Mahārā...</td>\n",
              "      <td>556aa4cb498e977c182d2192</td>\n",
              "    </tr>\n",
              "    <tr>\n",
              "      <th>24</th>\n",
              "      <td>Siddarth Apartments</td>\n",
              "      <td>Building</td>\n",
              "      <td>Parekh Gully /Parekh Lane</td>\n",
              "      <td>S.V Road</td>\n",
              "      <td>19.201912</td>\n",
              "      <td>72.848020</td>\n",
              "      <td>[{'label': 'display', 'lat': 19.201912, 'lng':...</td>\n",
              "      <td>1450</td>\n",
              "      <td>400067</td>\n",
              "      <td>[Parekh Gully /Parekh Lane (S.V Road), Mumbai ...</td>\n",
              "      <td>5c508e128c35dc003996a227</td>\n",
              "    </tr>\n",
              "    <tr>\n",
              "      <th>25</th>\n",
              "      <td>Saloni's Apartment</td>\n",
              "      <td>Residential Building (Apartment / Condo)</td>\n",
              "      <td>NaN</td>\n",
              "      <td>NaN</td>\n",
              "      <td>19.144622</td>\n",
              "      <td>72.827577</td>\n",
              "      <td>[{'label': 'display', 'lat': 19.144622, 'lng':...</td>\n",
              "      <td>6370</td>\n",
              "      <td>NaN</td>\n",
              "      <td>[Mumbai, Mahārāshtra, India]</td>\n",
              "      <td>4dcafdc4e4cde609a38f55dd</td>\n",
              "    </tr>\n",
              "    <tr>\n",
              "      <th>26</th>\n",
              "      <td>Crystal Apartments</td>\n",
              "      <td>Building</td>\n",
              "      <td>Crystal apartments, kandivali west</td>\n",
              "      <td>Fateh baug</td>\n",
              "      <td>19.209884</td>\n",
              "      <td>72.853212</td>\n",
              "      <td>[{'label': 'display', 'lat': 19.20988405149566...</td>\n",
              "      <td>1892</td>\n",
              "      <td>4000067</td>\n",
              "      <td>[Crystal apartments, kandivali west (Fateh bau...</td>\n",
              "      <td>4d04756f26adb1f781e8d270</td>\n",
              "    </tr>\n",
              "    <tr>\n",
              "      <th>27</th>\n",
              "      <td>Brooksfield Apartment</td>\n",
              "      <td>Residential Building (Apartment / Condo)</td>\n",
              "      <td>NaN</td>\n",
              "      <td>NaN</td>\n",
              "      <td>19.139818</td>\n",
              "      <td>72.827049</td>\n",
              "      <td>[{'label': 'display', 'lat': 19.13981819152832...</td>\n",
              "      <td>6861</td>\n",
              "      <td>NaN</td>\n",
              "      <td>[India]</td>\n",
              "      <td>505b65bee4b066ff88d491b3</td>\n",
              "    </tr>\n",
              "    <tr>\n",
              "      <th>28</th>\n",
              "      <td>Marvel Apartment</td>\n",
              "      <td>Residential Building (Apartment / Condo)</td>\n",
              "      <td>Plot No 18, Shastrinagar</td>\n",
              "      <td>Near Lokhandwala Circle</td>\n",
              "      <td>19.138789</td>\n",
              "      <td>72.826850</td>\n",
              "      <td>[{'label': 'display', 'lat': 19.13878927076496...</td>\n",
              "      <td>6971</td>\n",
              "      <td>NaN</td>\n",
              "      <td>[Plot No 18, Shastrinagar (Near Lokhandwala Ci...</td>\n",
              "      <td>4e2567cad22df6f88878c37b</td>\n",
              "    </tr>\n",
              "    <tr>\n",
              "      <th>29</th>\n",
              "      <td>Krishna's apartment</td>\n",
              "      <td>Residential Building (Apartment / Condo)</td>\n",
              "      <td>NaN</td>\n",
              "      <td>NaN</td>\n",
              "      <td>19.132994</td>\n",
              "      <td>72.830959</td>\n",
              "      <td>[{'label': 'display', 'lat': 19.13299423046044...</td>\n",
              "      <td>7361</td>\n",
              "      <td>NaN</td>\n",
              "      <td>[India]</td>\n",
              "      <td>4f47da60e4b08f45dc22906b</td>\n",
              "    </tr>\n",
              "    <tr>\n",
              "      <th>30</th>\n",
              "      <td>Krishna's apartment</td>\n",
              "      <td>Residential Building (Apartment / Condo)</td>\n",
              "      <td>415, Shiv Shakti Cooperative Housing Society</td>\n",
              "      <td>Link Road, Andheri (W)</td>\n",
              "      <td>19.131992</td>\n",
              "      <td>72.831223</td>\n",
              "      <td>[{'label': 'display', 'lat': 19.13199160974006...</td>\n",
              "      <td>7453</td>\n",
              "      <td>400053</td>\n",
              "      <td>[415, Shiv Shakti Cooperative Housing Society ...</td>\n",
              "      <td>4f47d9474fc68563533c7c70</td>\n",
              "    </tr>\n",
              "    <tr>\n",
              "      <th>31</th>\n",
              "      <td>Sunrise Apartment</td>\n",
              "      <td>Residential Building (Apartment / Condo)</td>\n",
              "      <td>NaN</td>\n",
              "      <td>NaN</td>\n",
              "      <td>19.138654</td>\n",
              "      <td>72.827999</td>\n",
              "      <td>[{'label': 'display', 'lat': 19.13865443078659...</td>\n",
              "      <td>6927</td>\n",
              "      <td>NaN</td>\n",
              "      <td>[Mahārāshtra, India]</td>\n",
              "      <td>4e31474a52b1833d96ea6373</td>\n",
              "    </tr>\n",
              "    <tr>\n",
              "      <th>32</th>\n",
              "      <td>Neela Apartment</td>\n",
              "      <td>Residential Building (Apartment / Condo)</td>\n",
              "      <td>Maitree Park</td>\n",
              "      <td>100 feet road</td>\n",
              "      <td>19.387463</td>\n",
              "      <td>72.825425</td>\n",
              "      <td>[{'label': 'display', 'lat': 19.38746273852426...</td>\n",
              "      <td>21851</td>\n",
              "      <td>401202</td>\n",
              "      <td>[Maitree Park (100 feet road), Vasai (W) 40120...</td>\n",
              "      <td>50f02ca9e4b025f17c524ab5</td>\n",
              "    </tr>\n",
              "    <tr>\n",
              "      <th>33</th>\n",
              "      <td>Cozy Apartment</td>\n",
              "      <td>Residential Building (Apartment / Condo)</td>\n",
              "      <td>Off Yari Road</td>\n",
              "      <td>Versova</td>\n",
              "      <td>19.140073</td>\n",
              "      <td>72.812156</td>\n",
              "      <td>[{'label': 'display', 'lat': 19.140073, 'lng':...</td>\n",
              "      <td>7721</td>\n",
              "      <td>NaN</td>\n",
              "      <td>[Off Yari Road (Versova), Mumbai, Mahārāshtra,...</td>\n",
              "      <td>573e3abd498e9d0d9dde87cd</td>\n",
              "    </tr>\n",
              "    <tr>\n",
              "      <th>34</th>\n",
              "      <td>Sovereign Apartment parking lot</td>\n",
              "      <td>Parking</td>\n",
              "      <td>NaN</td>\n",
              "      <td>NaN</td>\n",
              "      <td>19.120176</td>\n",
              "      <td>72.911131</td>\n",
              "      <td>[{'label': 'display', 'lat': 19.12017553497875...</td>\n",
              "      <td>9866</td>\n",
              "      <td>Maharashtra</td>\n",
              "      <td>[Mumbai Maharashtra, Mahārāshtra, India]</td>\n",
              "      <td>4e0a95c57d8b770787a3c4e0</td>\n",
              "    </tr>\n",
              "    <tr>\n",
              "      <th>35</th>\n",
              "      <td>New Trishul Apartment</td>\n",
              "      <td>Residential Building (Apartment / Condo)</td>\n",
              "      <td>Bhavani NAGAR</td>\n",
              "      <td>NaN</td>\n",
              "      <td>19.121530</td>\n",
              "      <td>72.881680</td>\n",
              "      <td>[{'label': 'display', 'lat': 19.12153, 'lng': ...</td>\n",
              "      <td>8388</td>\n",
              "      <td>400059</td>\n",
              "      <td>[Bhavani NAGAR, Mumbai 400059, Mahārāshtra, In...</td>\n",
              "      <td>5730f856498e30d0aa413603</td>\n",
              "    </tr>\n",
              "    <tr>\n",
              "      <th>36</th>\n",
              "      <td>Apartment In Mumbai City Centre</td>\n",
              "      <td>Hotel</td>\n",
              "      <td>Apartment In Mumbai City Centre</td>\n",
              "      <td>NaN</td>\n",
              "      <td>19.031839</td>\n",
              "      <td>72.841232</td>\n",
              "      <td>[{'label': 'display', 'lat': 19.031839, 'lng':...</td>\n",
              "      <td>18111</td>\n",
              "      <td>400016</td>\n",
              "      <td>[Apartment In Mumbai City Centre, Mumbai 40001...</td>\n",
              "      <td>5d605689ffec4e00077ca898</td>\n",
              "    </tr>\n",
              "    <tr>\n",
              "      <th>37</th>\n",
              "      <td>Green Field Apartments</td>\n",
              "      <td>Residential Building (Apartment / Condo)</td>\n",
              "      <td>OPP IDBI Bank,Thakur complex</td>\n",
              "      <td>Kandivli(east)</td>\n",
              "      <td>19.208775</td>\n",
              "      <td>72.863500</td>\n",
              "      <td>[{'label': 'display', 'lat': 19.20877509963250...</td>\n",
              "      <td>1751</td>\n",
              "      <td>400101</td>\n",
              "      <td>[OPP IDBI Bank,Thakur complex (Kandivli(east))...</td>\n",
              "      <td>4d8cd200d265236a39bae316</td>\n",
              "    </tr>\n",
              "    <tr>\n",
              "      <th>38</th>\n",
              "      <td>Whitefield Service Apartment</td>\n",
              "      <td>Residential Building (Apartment / Condo)</td>\n",
              "      <td>Gurbachan Apartment, Opp. Richar Garage Tata</td>\n",
              "      <td>Military Road</td>\n",
              "      <td>19.118064</td>\n",
              "      <td>72.883298</td>\n",
              "      <td>[{'label': 'display', 'lat': 19.11806426762291...</td>\n",
              "      <td>8807</td>\n",
              "      <td>400050</td>\n",
              "      <td>[Gurbachan Apartment, Opp. Richar Garage Tata ...</td>\n",
              "      <td>541dde46498e141e891ab4e4</td>\n",
              "    </tr>\n",
              "    <tr>\n",
              "      <th>39</th>\n",
              "      <td>Lakshmi apartment</td>\n",
              "      <td>Residential Building (Apartment / Condo)</td>\n",
              "      <td>Anand Nagar</td>\n",
              "      <td>Dahisar East</td>\n",
              "      <td>19.259407</td>\n",
              "      <td>72.862801</td>\n",
              "      <td>[{'label': 'display', 'lat': 19.25940692026242...</td>\n",
              "      <td>7326</td>\n",
              "      <td>NaN</td>\n",
              "      <td>[Anand Nagar (Dahisar East), India]</td>\n",
              "      <td>525152ea11d2111723b0ef56</td>\n",
              "    </tr>\n",
              "    <tr>\n",
              "      <th>40</th>\n",
              "      <td>Sagar garden apartment</td>\n",
              "      <td>Residential Building (Apartment / Condo)</td>\n",
              "      <td>NaN</td>\n",
              "      <td>NaN</td>\n",
              "      <td>19.168505</td>\n",
              "      <td>72.939508</td>\n",
              "      <td>[{'label': 'display', 'lat': 19.16850505555741...</td>\n",
              "      <td>8944</td>\n",
              "      <td>NaN</td>\n",
              "      <td>[India]</td>\n",
              "      <td>4f9d5492e4b020e610615c62</td>\n",
              "    </tr>\n",
              "    <tr>\n",
              "      <th>41</th>\n",
              "      <td>Dil Navaz Apartment</td>\n",
              "      <td>Building</td>\n",
              "      <td>Lalubhai Park Road</td>\n",
              "      <td>NaN</td>\n",
              "      <td>19.114422</td>\n",
              "      <td>72.842509</td>\n",
              "      <td>[{'label': 'display', 'lat': 19.114422, 'lng':...</td>\n",
              "      <td>8988</td>\n",
              "      <td>NaN</td>\n",
              "      <td>[Lalubhai Park Road, Andheri West, Mahārāshtra...</td>\n",
              "      <td>4c89bfed2e33370408eabd41</td>\n",
              "    </tr>\n",
              "    <tr>\n",
              "      <th>42</th>\n",
              "      <td>Samir Apartment</td>\n",
              "      <td>Residential Building (Apartment / Condo)</td>\n",
              "      <td>Andheri West</td>\n",
              "      <td>Swami Vivekanand Road</td>\n",
              "      <td>19.117881</td>\n",
              "      <td>72.844725</td>\n",
              "      <td>[{'label': 'display', 'lat': 19.11788113200133...</td>\n",
              "      <td>8567</td>\n",
              "      <td>400058</td>\n",
              "      <td>[Andheri West (Swami Vivekanand Road), Mumbai ...</td>\n",
              "      <td>5032867ce4b0a9ac00811624</td>\n",
              "    </tr>\n",
              "    <tr>\n",
              "      <th>43</th>\n",
              "      <td>Shree Shakti Apartment</td>\n",
              "      <td>Residential Building (Apartment / Condo)</td>\n",
              "      <td>NaN</td>\n",
              "      <td>NaN</td>\n",
              "      <td>19.117221</td>\n",
              "      <td>72.881947</td>\n",
              "      <td>[{'label': 'display', 'lat': 19.117221, 'lng':...</td>\n",
              "      <td>8856</td>\n",
              "      <td>NaN</td>\n",
              "      <td>[India]</td>\n",
              "      <td>5297685e498e9a7129f03001</td>\n",
              "    </tr>\n",
              "    <tr>\n",
              "      <th>44</th>\n",
              "      <td>Sneh Sarovar Apartment</td>\n",
              "      <td>Residential Building (Apartment / Condo)</td>\n",
              "      <td>NaN</td>\n",
              "      <td>NaN</td>\n",
              "      <td>19.118136</td>\n",
              "      <td>72.887232</td>\n",
              "      <td>[{'label': 'display', 'lat': 19.11813599776176...</td>\n",
              "      <td>8929</td>\n",
              "      <td>NaN</td>\n",
              "      <td>[Mahārāshtra, India]</td>\n",
              "      <td>4daefc09cda1ea0bb0497a96</td>\n",
              "    </tr>\n",
              "    <tr>\n",
              "      <th>45</th>\n",
              "      <td>Sba's apartment</td>\n",
              "      <td>Residential Building (Apartment / Condo)</td>\n",
              "      <td>NaN</td>\n",
              "      <td>NaN</td>\n",
              "      <td>19.110792</td>\n",
              "      <td>72.827995</td>\n",
              "      <td>[{'label': 'display', 'lat': 19.1107915, 'lng'...</td>\n",
              "      <td>9778</td>\n",
              "      <td>NaN</td>\n",
              "      <td>[India]</td>\n",
              "      <td>4fe8cb38e4b051b5c2f8728c</td>\n",
              "    </tr>\n",
              "    <tr>\n",
              "      <th>46</th>\n",
              "      <td>Oritel service apartment</td>\n",
              "      <td>Hotel</td>\n",
              "      <td>Behind D mart</td>\n",
              "      <td>Off Dp cross road</td>\n",
              "      <td>19.111274</td>\n",
              "      <td>72.898752</td>\n",
              "      <td>[{'label': 'display', 'lat': 19.11127369082033...</td>\n",
              "      <td>10094</td>\n",
              "      <td>400072</td>\n",
              "      <td>[Behind D mart (Off Dp cross road), Mumbai 400...</td>\n",
              "      <td>5282313d498e98e474caabb3</td>\n",
              "    </tr>\n",
              "    <tr>\n",
              "      <th>47</th>\n",
              "      <td>Panorama Apartment</td>\n",
              "      <td>Building</td>\n",
              "      <td>NaN</td>\n",
              "      <td>NaN</td>\n",
              "      <td>19.204803</td>\n",
              "      <td>72.953136</td>\n",
              "      <td>[{'label': 'display', 'lat': 19.20480325013094...</td>\n",
              "      <td>10001</td>\n",
              "      <td>NaN</td>\n",
              "      <td>[Thāne, Mahārāshtra, India]</td>\n",
              "      <td>4f1dacf1e4b0e2eeeda48d6b</td>\n",
              "    </tr>\n",
              "    <tr>\n",
              "      <th>48</th>\n",
              "      <td>Ravi Apartment Co-Op HSG Society</td>\n",
              "      <td>Building</td>\n",
              "      <td>Sewaram lalwani Rd, Mulund (West)</td>\n",
              "      <td>NaN</td>\n",
              "      <td>19.168351</td>\n",
              "      <td>72.949877</td>\n",
              "      <td>[{'label': 'display', 'lat': 19.16835117879141...</td>\n",
              "      <td>9989</td>\n",
              "      <td>400080</td>\n",
              "      <td>[Sewaram lalwani Rd, Mulund (West), Mumbai 400...</td>\n",
              "      <td>4d71dbd9b7525941c482de9d</td>\n",
              "    </tr>\n",
              "    <tr>\n",
              "      <th>49</th>\n",
              "      <td>Ameya Apartment, Nariman Road, Vile Parle (east)</td>\n",
              "      <td>Residential Building (Apartment / Condo)</td>\n",
              "      <td>Nariman road , vile parle (eaat)</td>\n",
              "      <td>NaN</td>\n",
              "      <td>19.095675</td>\n",
              "      <td>72.849093</td>\n",
              "      <td>[{'label': 'display', 'lat': 19.09567475950592...</td>\n",
              "      <td>10959</td>\n",
              "      <td>400057</td>\n",
              "      <td>[Nariman road , vile parle (eaat), Mumbai 4000...</td>\n",
              "      <td>4e20f197b61cdcf1ecb8c6e6</td>\n",
              "    </tr>\n",
              "  </tbody>\n",
              "</table>\n",
              "</div>"
            ],
            "text/plain": [
              "                                                name  ...                        id\n",
              "0                                   Silver Apartment  ...  556ab992498e608f2567a36c\n",
              "1                      Malad apartment co op hsg soc  ...  4d401a1f90f9224b4619031e\n",
              "2                                Kedarnath Apartment  ...  54a3f212498e87a65d889daa\n",
              "3                                 Le Midas Apartment  ...  4f70d68fe4b032eb66127246\n",
              "4                               Gods Grace Apartment  ...  50f81945e4b0626fb740bd89\n",
              "5                                   Zenith Apartment  ...  58621787e386e329a447fa38\n",
              "6                                      ApartmentADDA  ...  552e5a61498eec260fe16b03\n",
              "7                                      Jay Apartment  ...  5449ef43498ecb0abc78b7a4\n",
              "8                         Concorde Service Apartment  ...  575f0ee7498e165ac84dbcb5\n",
              "9                         Concorde Service Apartment  ...  556f337a498e103ac14375ae\n",
              "10                             Shiv Bhakti Apartment  ...  4e0226d3814d9dac7d530593\n",
              "11                          Jai Vijayshree Apartment  ...  52d26f02498e94d953275c69\n",
              "12                               Videocon Apartments  ...  5454fb20498e39754955df4d\n",
              "13                             Ashok Tower Apartment  ...  4d567c3c48ea6ea89825e1a3\n",
              "14                                  Jayesh Apartment  ...  5c342c114c954c002c102c4a\n",
              "15                              Geetasagar Apartment  ...  4e09610b8877394591f23986\n",
              "16                     Priyesh apartment, CKP colony  ...  55718e99498e7ea8ca8a7738\n",
              "17                                Shreyas Apartments  ...  555156c0498e1e8aaa8d105f\n",
              "18                                      My Apartment  ...  4df311da52b100c2d7f97fdc\n",
              "19                     Theresa apartment, LIC colony  ...  4fc4be00e4b0b66df07c7634\n",
              "20                                Bhoumik Apartments  ...  4f3aa5d5e4b0e3d3db60ac25\n",
              "21                                  Anant Apartments  ...  55053173498e227d1bc979cf\n",
              "22                                 Rosemar Apartment  ...  4d844b2a7e8ef04defd308be\n",
              "23                                 Koshal Apartments  ...  556aa4cb498e977c182d2192\n",
              "24                               Siddarth Apartments  ...  5c508e128c35dc003996a227\n",
              "25                                Saloni's Apartment  ...  4dcafdc4e4cde609a38f55dd\n",
              "26                                Crystal Apartments  ...  4d04756f26adb1f781e8d270\n",
              "27                             Brooksfield Apartment  ...  505b65bee4b066ff88d491b3\n",
              "28                                  Marvel Apartment  ...  4e2567cad22df6f88878c37b\n",
              "29                               Krishna's apartment  ...  4f47da60e4b08f45dc22906b\n",
              "30                               Krishna's apartment  ...  4f47d9474fc68563533c7c70\n",
              "31                                 Sunrise Apartment  ...  4e31474a52b1833d96ea6373\n",
              "32                                   Neela Apartment  ...  50f02ca9e4b025f17c524ab5\n",
              "33                                    Cozy Apartment  ...  573e3abd498e9d0d9dde87cd\n",
              "34                   Sovereign Apartment parking lot  ...  4e0a95c57d8b770787a3c4e0\n",
              "35                             New Trishul Apartment  ...  5730f856498e30d0aa413603\n",
              "36                   Apartment In Mumbai City Centre  ...  5d605689ffec4e00077ca898\n",
              "37                            Green Field Apartments  ...  4d8cd200d265236a39bae316\n",
              "38                      Whitefield Service Apartment  ...  541dde46498e141e891ab4e4\n",
              "39                                 Lakshmi apartment  ...  525152ea11d2111723b0ef56\n",
              "40                            Sagar garden apartment  ...  4f9d5492e4b020e610615c62\n",
              "41                               Dil Navaz Apartment  ...  4c89bfed2e33370408eabd41\n",
              "42                                   Samir Apartment  ...  5032867ce4b0a9ac00811624\n",
              "43                            Shree Shakti Apartment  ...  5297685e498e9a7129f03001\n",
              "44                            Sneh Sarovar Apartment  ...  4daefc09cda1ea0bb0497a96\n",
              "45                                   Sba's apartment  ...  4fe8cb38e4b051b5c2f8728c\n",
              "46                          Oritel service apartment  ...  5282313d498e98e474caabb3\n",
              "47                                Panorama Apartment  ...  4f1dacf1e4b0e2eeeda48d6b\n",
              "48                  Ravi Apartment Co-Op HSG Society  ...  4d71dbd9b7525941c482de9d\n",
              "49  Ameya Apartment, Nariman Road, Vile Parle (east)  ...  4e20f197b61cdcf1ecb8c6e6\n",
              "\n",
              "[50 rows x 11 columns]"
            ]
          },
          "metadata": {
            "tags": []
          },
          "execution_count": 99
        }
      ]
    },
    {
      "cell_type": "code",
      "metadata": {
        "id": "yEledgsKS9ov"
      },
      "source": [
        ""
      ],
      "execution_count": null,
      "outputs": []
    }
  ]
}